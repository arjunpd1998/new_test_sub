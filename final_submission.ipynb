{
  "nbformat": 4,
  "nbformat_minor": 0,
  "metadata": {
    "colab": {
      "name": "final submission.ipynb",
      "provenance": [],
      "collapsed_sections": [
        "da61pd6rNaiI",
        "HsWxEODANjo3",
        "NC8DIO-MNsq2",
        "49wEtEc_NyYJ"
      ],
      "toc_visible": true,
      "mount_file_id": "1VpztlMocUsl6WNMucMiZE6-8o7lK8eRj",
      "authorship_tag": "ABX9TyO+9XmVm6xQ1ownoC5B48Gk",
      "include_colab_link": true
    },
    "kernelspec": {
      "name": "python3",
      "display_name": "Python 3"
    },
    "accelerator": "GPU",
    "widgets": {
      "application/vnd.jupyter.widget-state+json": {
        "d746b8ae383a4db5aa9f02f3b17723eb": {
          "model_module": "@jupyter-widgets/controls",
          "model_name": "HBoxModel",
          "state": {
            "_view_name": "HBoxView",
            "_dom_classes": [],
            "_model_name": "HBoxModel",
            "_view_module": "@jupyter-widgets/controls",
            "_model_module_version": "1.5.0",
            "_view_count": null,
            "_view_module_version": "1.5.0",
            "box_style": "",
            "layout": "IPY_MODEL_a8f3f68e7c144ef890a2d35c7bf76166",
            "_model_module": "@jupyter-widgets/controls",
            "children": [
              "IPY_MODEL_c5c3d94d3a1046279b6ec38ae9499e7d",
              "IPY_MODEL_f96564d603aa4a49a3f5fb448c2b1746"
            ]
          }
        },
        "a8f3f68e7c144ef890a2d35c7bf76166": {
          "model_module": "@jupyter-widgets/base",
          "model_name": "LayoutModel",
          "state": {
            "_view_name": "LayoutView",
            "grid_template_rows": null,
            "right": null,
            "justify_content": null,
            "_view_module": "@jupyter-widgets/base",
            "overflow": null,
            "_model_module_version": "1.2.0",
            "_view_count": null,
            "flex_flow": null,
            "width": null,
            "min_width": null,
            "border": null,
            "align_items": null,
            "bottom": null,
            "_model_module": "@jupyter-widgets/base",
            "top": null,
            "grid_column": null,
            "overflow_y": null,
            "overflow_x": null,
            "grid_auto_flow": null,
            "grid_area": null,
            "grid_template_columns": null,
            "flex": null,
            "_model_name": "LayoutModel",
            "justify_items": null,
            "grid_row": null,
            "max_height": null,
            "align_content": null,
            "visibility": null,
            "align_self": null,
            "height": null,
            "min_height": null,
            "padding": null,
            "grid_auto_rows": null,
            "grid_gap": null,
            "max_width": null,
            "order": null,
            "_view_module_version": "1.2.0",
            "grid_template_areas": null,
            "object_position": null,
            "object_fit": null,
            "grid_auto_columns": null,
            "margin": null,
            "display": null,
            "left": null
          }
        },
        "c5c3d94d3a1046279b6ec38ae9499e7d": {
          "model_module": "@jupyter-widgets/controls",
          "model_name": "FloatProgressModel",
          "state": {
            "_view_name": "ProgressView",
            "style": "IPY_MODEL_aab7dc5397cf4e60bdf9e8f3e49cbfaf",
            "_dom_classes": [],
            "description": "100%",
            "_model_name": "FloatProgressModel",
            "bar_style": "success",
            "max": 50210,
            "_view_module": "@jupyter-widgets/controls",
            "_model_module_version": "1.5.0",
            "value": 50210,
            "_view_count": null,
            "_view_module_version": "1.5.0",
            "orientation": "horizontal",
            "min": 0,
            "description_tooltip": null,
            "_model_module": "@jupyter-widgets/controls",
            "layout": "IPY_MODEL_7242b085a297465da3d642431b4b6eb2"
          }
        },
        "f96564d603aa4a49a3f5fb448c2b1746": {
          "model_module": "@jupyter-widgets/controls",
          "model_name": "HTMLModel",
          "state": {
            "_view_name": "HTMLView",
            "style": "IPY_MODEL_01113e6882d741129d35dd3d2ccc9af2",
            "_dom_classes": [],
            "description": "",
            "_model_name": "HTMLModel",
            "placeholder": "​",
            "_view_module": "@jupyter-widgets/controls",
            "_model_module_version": "1.5.0",
            "value": " 50210/50210 [01:00&lt;00:00, 825.12it/s]",
            "_view_count": null,
            "_view_module_version": "1.5.0",
            "description_tooltip": null,
            "_model_module": "@jupyter-widgets/controls",
            "layout": "IPY_MODEL_fa2bd12a58a9433f979be43c682143e7"
          }
        },
        "aab7dc5397cf4e60bdf9e8f3e49cbfaf": {
          "model_module": "@jupyter-widgets/controls",
          "model_name": "ProgressStyleModel",
          "state": {
            "_view_name": "StyleView",
            "_model_name": "ProgressStyleModel",
            "description_width": "initial",
            "_view_module": "@jupyter-widgets/base",
            "_model_module_version": "1.5.0",
            "_view_count": null,
            "_view_module_version": "1.2.0",
            "bar_color": null,
            "_model_module": "@jupyter-widgets/controls"
          }
        },
        "7242b085a297465da3d642431b4b6eb2": {
          "model_module": "@jupyter-widgets/base",
          "model_name": "LayoutModel",
          "state": {
            "_view_name": "LayoutView",
            "grid_template_rows": null,
            "right": null,
            "justify_content": null,
            "_view_module": "@jupyter-widgets/base",
            "overflow": null,
            "_model_module_version": "1.2.0",
            "_view_count": null,
            "flex_flow": null,
            "width": null,
            "min_width": null,
            "border": null,
            "align_items": null,
            "bottom": null,
            "_model_module": "@jupyter-widgets/base",
            "top": null,
            "grid_column": null,
            "overflow_y": null,
            "overflow_x": null,
            "grid_auto_flow": null,
            "grid_area": null,
            "grid_template_columns": null,
            "flex": null,
            "_model_name": "LayoutModel",
            "justify_items": null,
            "grid_row": null,
            "max_height": null,
            "align_content": null,
            "visibility": null,
            "align_self": null,
            "height": null,
            "min_height": null,
            "padding": null,
            "grid_auto_rows": null,
            "grid_gap": null,
            "max_width": null,
            "order": null,
            "_view_module_version": "1.2.0",
            "grid_template_areas": null,
            "object_position": null,
            "object_fit": null,
            "grid_auto_columns": null,
            "margin": null,
            "display": null,
            "left": null
          }
        },
        "01113e6882d741129d35dd3d2ccc9af2": {
          "model_module": "@jupyter-widgets/controls",
          "model_name": "DescriptionStyleModel",
          "state": {
            "_view_name": "StyleView",
            "_model_name": "DescriptionStyleModel",
            "description_width": "",
            "_view_module": "@jupyter-widgets/base",
            "_model_module_version": "1.5.0",
            "_view_count": null,
            "_view_module_version": "1.2.0",
            "_model_module": "@jupyter-widgets/controls"
          }
        },
        "fa2bd12a58a9433f979be43c682143e7": {
          "model_module": "@jupyter-widgets/base",
          "model_name": "LayoutModel",
          "state": {
            "_view_name": "LayoutView",
            "grid_template_rows": null,
            "right": null,
            "justify_content": null,
            "_view_module": "@jupyter-widgets/base",
            "overflow": null,
            "_model_module_version": "1.2.0",
            "_view_count": null,
            "flex_flow": null,
            "width": null,
            "min_width": null,
            "border": null,
            "align_items": null,
            "bottom": null,
            "_model_module": "@jupyter-widgets/base",
            "top": null,
            "grid_column": null,
            "overflow_y": null,
            "overflow_x": null,
            "grid_auto_flow": null,
            "grid_area": null,
            "grid_template_columns": null,
            "flex": null,
            "_model_name": "LayoutModel",
            "justify_items": null,
            "grid_row": null,
            "max_height": null,
            "align_content": null,
            "visibility": null,
            "align_self": null,
            "height": null,
            "min_height": null,
            "padding": null,
            "grid_auto_rows": null,
            "grid_gap": null,
            "max_width": null,
            "order": null,
            "_view_module_version": "1.2.0",
            "grid_template_areas": null,
            "object_position": null,
            "object_fit": null,
            "grid_auto_columns": null,
            "margin": null,
            "display": null,
            "left": null
          }
        },
        "f62d42ea3dff4258bdd918fa1e6b371c": {
          "model_module": "@jupyter-widgets/controls",
          "model_name": "HBoxModel",
          "state": {
            "_view_name": "HBoxView",
            "_dom_classes": [],
            "_model_name": "HBoxModel",
            "_view_module": "@jupyter-widgets/controls",
            "_model_module_version": "1.5.0",
            "_view_count": null,
            "_view_module_version": "1.5.0",
            "box_style": "",
            "layout": "IPY_MODEL_067d181296fa4162acb3c5776b3c592e",
            "_model_module": "@jupyter-widgets/controls",
            "children": [
              "IPY_MODEL_b00fded0d7984ba391047ad1a4e3806b",
              "IPY_MODEL_6f2c5f0103444a5392fd353d2256d225"
            ]
          }
        },
        "067d181296fa4162acb3c5776b3c592e": {
          "model_module": "@jupyter-widgets/base",
          "model_name": "LayoutModel",
          "state": {
            "_view_name": "LayoutView",
            "grid_template_rows": null,
            "right": null,
            "justify_content": null,
            "_view_module": "@jupyter-widgets/base",
            "overflow": null,
            "_model_module_version": "1.2.0",
            "_view_count": null,
            "flex_flow": null,
            "width": null,
            "min_width": null,
            "border": null,
            "align_items": null,
            "bottom": null,
            "_model_module": "@jupyter-widgets/base",
            "top": null,
            "grid_column": null,
            "overflow_y": null,
            "overflow_x": null,
            "grid_auto_flow": null,
            "grid_area": null,
            "grid_template_columns": null,
            "flex": null,
            "_model_name": "LayoutModel",
            "justify_items": null,
            "grid_row": null,
            "max_height": null,
            "align_content": null,
            "visibility": null,
            "align_self": null,
            "height": null,
            "min_height": null,
            "padding": null,
            "grid_auto_rows": null,
            "grid_gap": null,
            "max_width": null,
            "order": null,
            "_view_module_version": "1.2.0",
            "grid_template_areas": null,
            "object_position": null,
            "object_fit": null,
            "grid_auto_columns": null,
            "margin": null,
            "display": null,
            "left": null
          }
        },
        "b00fded0d7984ba391047ad1a4e3806b": {
          "model_module": "@jupyter-widgets/controls",
          "model_name": "FloatProgressModel",
          "state": {
            "_view_name": "ProgressView",
            "style": "IPY_MODEL_2d4357684e52491cbaec46c92e0c2afd",
            "_dom_classes": [],
            "description": "100%",
            "_model_name": "FloatProgressModel",
            "bar_style": "success",
            "max": 3,
            "_view_module": "@jupyter-widgets/controls",
            "_model_module_version": "1.5.0",
            "value": 3,
            "_view_count": null,
            "_view_module_version": "1.5.0",
            "orientation": "horizontal",
            "min": 0,
            "description_tooltip": null,
            "_model_module": "@jupyter-widgets/controls",
            "layout": "IPY_MODEL_8a54f802e230491087a218d12e8e7a5e"
          }
        },
        "6f2c5f0103444a5392fd353d2256d225": {
          "model_module": "@jupyter-widgets/controls",
          "model_name": "HTMLModel",
          "state": {
            "_view_name": "HTMLView",
            "style": "IPY_MODEL_155514783f71450b8c3c1b4ed4c59731",
            "_dom_classes": [],
            "description": "",
            "_model_name": "HTMLModel",
            "placeholder": "​",
            "_view_module": "@jupyter-widgets/controls",
            "_model_module_version": "1.5.0",
            "value": " 3/3 [00:00&lt;00:00, 52.36it/s]",
            "_view_count": null,
            "_view_module_version": "1.5.0",
            "description_tooltip": null,
            "_model_module": "@jupyter-widgets/controls",
            "layout": "IPY_MODEL_6e4cd279e5ce41ac984a3f8eed28363c"
          }
        },
        "2d4357684e52491cbaec46c92e0c2afd": {
          "model_module": "@jupyter-widgets/controls",
          "model_name": "ProgressStyleModel",
          "state": {
            "_view_name": "StyleView",
            "_model_name": "ProgressStyleModel",
            "description_width": "initial",
            "_view_module": "@jupyter-widgets/base",
            "_model_module_version": "1.5.0",
            "_view_count": null,
            "_view_module_version": "1.2.0",
            "bar_color": null,
            "_model_module": "@jupyter-widgets/controls"
          }
        },
        "8a54f802e230491087a218d12e8e7a5e": {
          "model_module": "@jupyter-widgets/base",
          "model_name": "LayoutModel",
          "state": {
            "_view_name": "LayoutView",
            "grid_template_rows": null,
            "right": null,
            "justify_content": null,
            "_view_module": "@jupyter-widgets/base",
            "overflow": null,
            "_model_module_version": "1.2.0",
            "_view_count": null,
            "flex_flow": null,
            "width": null,
            "min_width": null,
            "border": null,
            "align_items": null,
            "bottom": null,
            "_model_module": "@jupyter-widgets/base",
            "top": null,
            "grid_column": null,
            "overflow_y": null,
            "overflow_x": null,
            "grid_auto_flow": null,
            "grid_area": null,
            "grid_template_columns": null,
            "flex": null,
            "_model_name": "LayoutModel",
            "justify_items": null,
            "grid_row": null,
            "max_height": null,
            "align_content": null,
            "visibility": null,
            "align_self": null,
            "height": null,
            "min_height": null,
            "padding": null,
            "grid_auto_rows": null,
            "grid_gap": null,
            "max_width": null,
            "order": null,
            "_view_module_version": "1.2.0",
            "grid_template_areas": null,
            "object_position": null,
            "object_fit": null,
            "grid_auto_columns": null,
            "margin": null,
            "display": null,
            "left": null
          }
        },
        "155514783f71450b8c3c1b4ed4c59731": {
          "model_module": "@jupyter-widgets/controls",
          "model_name": "DescriptionStyleModel",
          "state": {
            "_view_name": "StyleView",
            "_model_name": "DescriptionStyleModel",
            "description_width": "",
            "_view_module": "@jupyter-widgets/base",
            "_model_module_version": "1.5.0",
            "_view_count": null,
            "_view_module_version": "1.2.0",
            "_model_module": "@jupyter-widgets/controls"
          }
        },
        "6e4cd279e5ce41ac984a3f8eed28363c": {
          "model_module": "@jupyter-widgets/base",
          "model_name": "LayoutModel",
          "state": {
            "_view_name": "LayoutView",
            "grid_template_rows": null,
            "right": null,
            "justify_content": null,
            "_view_module": "@jupyter-widgets/base",
            "overflow": null,
            "_model_module_version": "1.2.0",
            "_view_count": null,
            "flex_flow": null,
            "width": null,
            "min_width": null,
            "border": null,
            "align_items": null,
            "bottom": null,
            "_model_module": "@jupyter-widgets/base",
            "top": null,
            "grid_column": null,
            "overflow_y": null,
            "overflow_x": null,
            "grid_auto_flow": null,
            "grid_area": null,
            "grid_template_columns": null,
            "flex": null,
            "_model_name": "LayoutModel",
            "justify_items": null,
            "grid_row": null,
            "max_height": null,
            "align_content": null,
            "visibility": null,
            "align_self": null,
            "height": null,
            "min_height": null,
            "padding": null,
            "grid_auto_rows": null,
            "grid_gap": null,
            "max_width": null,
            "order": null,
            "_view_module_version": "1.2.0",
            "grid_template_areas": null,
            "object_position": null,
            "object_fit": null,
            "grid_auto_columns": null,
            "margin": null,
            "display": null,
            "left": null
          }
        },
        "17670cef779541e496b7ca22796b70b7": {
          "model_module": "@jupyter-widgets/controls",
          "model_name": "HBoxModel",
          "state": {
            "_view_name": "HBoxView",
            "_dom_classes": [],
            "_model_name": "HBoxModel",
            "_view_module": "@jupyter-widgets/controls",
            "_model_module_version": "1.5.0",
            "_view_count": null,
            "_view_module_version": "1.5.0",
            "box_style": "",
            "layout": "IPY_MODEL_f325df73da2c4a12a59f38dc69f8c216",
            "_model_module": "@jupyter-widgets/controls",
            "children": [
              "IPY_MODEL_ae58bc6c95754c2ca9c768c5e38234d0",
              "IPY_MODEL_86b53728e4124c60a199d0d4658f03df"
            ]
          }
        },
        "f325df73da2c4a12a59f38dc69f8c216": {
          "model_module": "@jupyter-widgets/base",
          "model_name": "LayoutModel",
          "state": {
            "_view_name": "LayoutView",
            "grid_template_rows": null,
            "right": null,
            "justify_content": null,
            "_view_module": "@jupyter-widgets/base",
            "overflow": null,
            "_model_module_version": "1.2.0",
            "_view_count": null,
            "flex_flow": null,
            "width": null,
            "min_width": null,
            "border": null,
            "align_items": null,
            "bottom": null,
            "_model_module": "@jupyter-widgets/base",
            "top": null,
            "grid_column": null,
            "overflow_y": null,
            "overflow_x": null,
            "grid_auto_flow": null,
            "grid_area": null,
            "grid_template_columns": null,
            "flex": null,
            "_model_name": "LayoutModel",
            "justify_items": null,
            "grid_row": null,
            "max_height": null,
            "align_content": null,
            "visibility": null,
            "align_self": null,
            "height": null,
            "min_height": null,
            "padding": null,
            "grid_auto_rows": null,
            "grid_gap": null,
            "max_width": null,
            "order": null,
            "_view_module_version": "1.2.0",
            "grid_template_areas": null,
            "object_position": null,
            "object_fit": null,
            "grid_auto_columns": null,
            "margin": null,
            "display": null,
            "left": null
          }
        },
        "ae58bc6c95754c2ca9c768c5e38234d0": {
          "model_module": "@jupyter-widgets/controls",
          "model_name": "FloatProgressModel",
          "state": {
            "_view_name": "ProgressView",
            "style": "IPY_MODEL_a430aa69e8bb4f6095e3b5243bd98a11",
            "_dom_classes": [],
            "description": "100%",
            "_model_name": "FloatProgressModel",
            "bar_style": "success",
            "max": 50210,
            "_view_module": "@jupyter-widgets/controls",
            "_model_module_version": "1.5.0",
            "value": 50210,
            "_view_count": null,
            "_view_module_version": "1.5.0",
            "orientation": "horizontal",
            "min": 0,
            "description_tooltip": null,
            "_model_module": "@jupyter-widgets/controls",
            "layout": "IPY_MODEL_dec86d9839114bc7986ac973bcf83586"
          }
        },
        "86b53728e4124c60a199d0d4658f03df": {
          "model_module": "@jupyter-widgets/controls",
          "model_name": "HTMLModel",
          "state": {
            "_view_name": "HTMLView",
            "style": "IPY_MODEL_204e6f3e475247f1a4c57378a8d608a0",
            "_dom_classes": [],
            "description": "",
            "_model_name": "HTMLModel",
            "placeholder": "​",
            "_view_module": "@jupyter-widgets/controls",
            "_model_module_version": "1.5.0",
            "value": " 50210/50210 [01:06&lt;00:00, 752.99it/s]",
            "_view_count": null,
            "_view_module_version": "1.5.0",
            "description_tooltip": null,
            "_model_module": "@jupyter-widgets/controls",
            "layout": "IPY_MODEL_5e238b02730c409d9feb1bb361ac452d"
          }
        },
        "a430aa69e8bb4f6095e3b5243bd98a11": {
          "model_module": "@jupyter-widgets/controls",
          "model_name": "ProgressStyleModel",
          "state": {
            "_view_name": "StyleView",
            "_model_name": "ProgressStyleModel",
            "description_width": "initial",
            "_view_module": "@jupyter-widgets/base",
            "_model_module_version": "1.5.0",
            "_view_count": null,
            "_view_module_version": "1.2.0",
            "bar_color": null,
            "_model_module": "@jupyter-widgets/controls"
          }
        },
        "dec86d9839114bc7986ac973bcf83586": {
          "model_module": "@jupyter-widgets/base",
          "model_name": "LayoutModel",
          "state": {
            "_view_name": "LayoutView",
            "grid_template_rows": null,
            "right": null,
            "justify_content": null,
            "_view_module": "@jupyter-widgets/base",
            "overflow": null,
            "_model_module_version": "1.2.0",
            "_view_count": null,
            "flex_flow": null,
            "width": null,
            "min_width": null,
            "border": null,
            "align_items": null,
            "bottom": null,
            "_model_module": "@jupyter-widgets/base",
            "top": null,
            "grid_column": null,
            "overflow_y": null,
            "overflow_x": null,
            "grid_auto_flow": null,
            "grid_area": null,
            "grid_template_columns": null,
            "flex": null,
            "_model_name": "LayoutModel",
            "justify_items": null,
            "grid_row": null,
            "max_height": null,
            "align_content": null,
            "visibility": null,
            "align_self": null,
            "height": null,
            "min_height": null,
            "padding": null,
            "grid_auto_rows": null,
            "grid_gap": null,
            "max_width": null,
            "order": null,
            "_view_module_version": "1.2.0",
            "grid_template_areas": null,
            "object_position": null,
            "object_fit": null,
            "grid_auto_columns": null,
            "margin": null,
            "display": null,
            "left": null
          }
        },
        "204e6f3e475247f1a4c57378a8d608a0": {
          "model_module": "@jupyter-widgets/controls",
          "model_name": "DescriptionStyleModel",
          "state": {
            "_view_name": "StyleView",
            "_model_name": "DescriptionStyleModel",
            "description_width": "",
            "_view_module": "@jupyter-widgets/base",
            "_model_module_version": "1.5.0",
            "_view_count": null,
            "_view_module_version": "1.2.0",
            "_model_module": "@jupyter-widgets/controls"
          }
        },
        "5e238b02730c409d9feb1bb361ac452d": {
          "model_module": "@jupyter-widgets/base",
          "model_name": "LayoutModel",
          "state": {
            "_view_name": "LayoutView",
            "grid_template_rows": null,
            "right": null,
            "justify_content": null,
            "_view_module": "@jupyter-widgets/base",
            "overflow": null,
            "_model_module_version": "1.2.0",
            "_view_count": null,
            "flex_flow": null,
            "width": null,
            "min_width": null,
            "border": null,
            "align_items": null,
            "bottom": null,
            "_model_module": "@jupyter-widgets/base",
            "top": null,
            "grid_column": null,
            "overflow_y": null,
            "overflow_x": null,
            "grid_auto_flow": null,
            "grid_area": null,
            "grid_template_columns": null,
            "flex": null,
            "_model_name": "LayoutModel",
            "justify_items": null,
            "grid_row": null,
            "max_height": null,
            "align_content": null,
            "visibility": null,
            "align_self": null,
            "height": null,
            "min_height": null,
            "padding": null,
            "grid_auto_rows": null,
            "grid_gap": null,
            "max_width": null,
            "order": null,
            "_view_module_version": "1.2.0",
            "grid_template_areas": null,
            "object_position": null,
            "object_fit": null,
            "grid_auto_columns": null,
            "margin": null,
            "display": null,
            "left": null
          }
        },
        "d95470197f0542958d12bb5272731e81": {
          "model_module": "@jupyter-widgets/controls",
          "model_name": "HBoxModel",
          "state": {
            "_view_name": "HBoxView",
            "_dom_classes": [],
            "_model_name": "HBoxModel",
            "_view_module": "@jupyter-widgets/controls",
            "_model_module_version": "1.5.0",
            "_view_count": null,
            "_view_module_version": "1.5.0",
            "box_style": "",
            "layout": "IPY_MODEL_4223c3d227f8421ca9c40779db9931e6",
            "_model_module": "@jupyter-widgets/controls",
            "children": [
              "IPY_MODEL_d08a3d087b574605b000405e3b9c03d6",
              "IPY_MODEL_219e80d145fe4982a4f72a107f376113"
            ]
          }
        },
        "4223c3d227f8421ca9c40779db9931e6": {
          "model_module": "@jupyter-widgets/base",
          "model_name": "LayoutModel",
          "state": {
            "_view_name": "LayoutView",
            "grid_template_rows": null,
            "right": null,
            "justify_content": null,
            "_view_module": "@jupyter-widgets/base",
            "overflow": null,
            "_model_module_version": "1.2.0",
            "_view_count": null,
            "flex_flow": null,
            "width": null,
            "min_width": null,
            "border": null,
            "align_items": null,
            "bottom": null,
            "_model_module": "@jupyter-widgets/base",
            "top": null,
            "grid_column": null,
            "overflow_y": null,
            "overflow_x": null,
            "grid_auto_flow": null,
            "grid_area": null,
            "grid_template_columns": null,
            "flex": null,
            "_model_name": "LayoutModel",
            "justify_items": null,
            "grid_row": null,
            "max_height": null,
            "align_content": null,
            "visibility": null,
            "align_self": null,
            "height": null,
            "min_height": null,
            "padding": null,
            "grid_auto_rows": null,
            "grid_gap": null,
            "max_width": null,
            "order": null,
            "_view_module_version": "1.2.0",
            "grid_template_areas": null,
            "object_position": null,
            "object_fit": null,
            "grid_auto_columns": null,
            "margin": null,
            "display": null,
            "left": null
          }
        },
        "d08a3d087b574605b000405e3b9c03d6": {
          "model_module": "@jupyter-widgets/controls",
          "model_name": "FloatProgressModel",
          "state": {
            "_view_name": "ProgressView",
            "style": "IPY_MODEL_07f7988262fb4bcab2cc5eec8d39e823",
            "_dom_classes": [],
            "description": "100%",
            "_model_name": "FloatProgressModel",
            "bar_style": "success",
            "max": 50210,
            "_view_module": "@jupyter-widgets/controls",
            "_model_module_version": "1.5.0",
            "value": 50210,
            "_view_count": null,
            "_view_module_version": "1.5.0",
            "orientation": "horizontal",
            "min": 0,
            "description_tooltip": null,
            "_model_module": "@jupyter-widgets/controls",
            "layout": "IPY_MODEL_fe17539348d04789b39958ef74210f82"
          }
        },
        "219e80d145fe4982a4f72a107f376113": {
          "model_module": "@jupyter-widgets/controls",
          "model_name": "HTMLModel",
          "state": {
            "_view_name": "HTMLView",
            "style": "IPY_MODEL_ebd83ba8841a491b824a322dae51658f",
            "_dom_classes": [],
            "description": "",
            "_model_name": "HTMLModel",
            "placeholder": "​",
            "_view_module": "@jupyter-widgets/controls",
            "_model_module_version": "1.5.0",
            "value": " 50210/50210 [01:52&lt;00:00, 446.17it/s]",
            "_view_count": null,
            "_view_module_version": "1.5.0",
            "description_tooltip": null,
            "_model_module": "@jupyter-widgets/controls",
            "layout": "IPY_MODEL_b890a3ba1fba4f0897b58b39b705ef3a"
          }
        },
        "07f7988262fb4bcab2cc5eec8d39e823": {
          "model_module": "@jupyter-widgets/controls",
          "model_name": "ProgressStyleModel",
          "state": {
            "_view_name": "StyleView",
            "_model_name": "ProgressStyleModel",
            "description_width": "initial",
            "_view_module": "@jupyter-widgets/base",
            "_model_module_version": "1.5.0",
            "_view_count": null,
            "_view_module_version": "1.2.0",
            "bar_color": null,
            "_model_module": "@jupyter-widgets/controls"
          }
        },
        "fe17539348d04789b39958ef74210f82": {
          "model_module": "@jupyter-widgets/base",
          "model_name": "LayoutModel",
          "state": {
            "_view_name": "LayoutView",
            "grid_template_rows": null,
            "right": null,
            "justify_content": null,
            "_view_module": "@jupyter-widgets/base",
            "overflow": null,
            "_model_module_version": "1.2.0",
            "_view_count": null,
            "flex_flow": null,
            "width": null,
            "min_width": null,
            "border": null,
            "align_items": null,
            "bottom": null,
            "_model_module": "@jupyter-widgets/base",
            "top": null,
            "grid_column": null,
            "overflow_y": null,
            "overflow_x": null,
            "grid_auto_flow": null,
            "grid_area": null,
            "grid_template_columns": null,
            "flex": null,
            "_model_name": "LayoutModel",
            "justify_items": null,
            "grid_row": null,
            "max_height": null,
            "align_content": null,
            "visibility": null,
            "align_self": null,
            "height": null,
            "min_height": null,
            "padding": null,
            "grid_auto_rows": null,
            "grid_gap": null,
            "max_width": null,
            "order": null,
            "_view_module_version": "1.2.0",
            "grid_template_areas": null,
            "object_position": null,
            "object_fit": null,
            "grid_auto_columns": null,
            "margin": null,
            "display": null,
            "left": null
          }
        },
        "ebd83ba8841a491b824a322dae51658f": {
          "model_module": "@jupyter-widgets/controls",
          "model_name": "DescriptionStyleModel",
          "state": {
            "_view_name": "StyleView",
            "_model_name": "DescriptionStyleModel",
            "description_width": "",
            "_view_module": "@jupyter-widgets/base",
            "_model_module_version": "1.5.0",
            "_view_count": null,
            "_view_module_version": "1.2.0",
            "_model_module": "@jupyter-widgets/controls"
          }
        },
        "b890a3ba1fba4f0897b58b39b705ef3a": {
          "model_module": "@jupyter-widgets/base",
          "model_name": "LayoutModel",
          "state": {
            "_view_name": "LayoutView",
            "grid_template_rows": null,
            "right": null,
            "justify_content": null,
            "_view_module": "@jupyter-widgets/base",
            "overflow": null,
            "_model_module_version": "1.2.0",
            "_view_count": null,
            "flex_flow": null,
            "width": null,
            "min_width": null,
            "border": null,
            "align_items": null,
            "bottom": null,
            "_model_module": "@jupyter-widgets/base",
            "top": null,
            "grid_column": null,
            "overflow_y": null,
            "overflow_x": null,
            "grid_auto_flow": null,
            "grid_area": null,
            "grid_template_columns": null,
            "flex": null,
            "_model_name": "LayoutModel",
            "justify_items": null,
            "grid_row": null,
            "max_height": null,
            "align_content": null,
            "visibility": null,
            "align_self": null,
            "height": null,
            "min_height": null,
            "padding": null,
            "grid_auto_rows": null,
            "grid_gap": null,
            "max_width": null,
            "order": null,
            "_view_module_version": "1.2.0",
            "grid_template_areas": null,
            "object_position": null,
            "object_fit": null,
            "grid_auto_columns": null,
            "margin": null,
            "display": null,
            "left": null
          }
        },
        "29a64a2d3fdd41cb857a5fcb57997b4c": {
          "model_module": "@jupyter-widgets/controls",
          "model_name": "HBoxModel",
          "state": {
            "_view_name": "HBoxView",
            "_dom_classes": [],
            "_model_name": "HBoxModel",
            "_view_module": "@jupyter-widgets/controls",
            "_model_module_version": "1.5.0",
            "_view_count": null,
            "_view_module_version": "1.5.0",
            "box_style": "",
            "layout": "IPY_MODEL_34cf5d3f09db42508885ccfd7d92ba13",
            "_model_module": "@jupyter-widgets/controls",
            "children": [
              "IPY_MODEL_33666baf089d4945b14615e4504f4d11",
              "IPY_MODEL_25a9fa454a0a41f896297326d214db3a"
            ]
          }
        },
        "34cf5d3f09db42508885ccfd7d92ba13": {
          "model_module": "@jupyter-widgets/base",
          "model_name": "LayoutModel",
          "state": {
            "_view_name": "LayoutView",
            "grid_template_rows": null,
            "right": null,
            "justify_content": null,
            "_view_module": "@jupyter-widgets/base",
            "overflow": null,
            "_model_module_version": "1.2.0",
            "_view_count": null,
            "flex_flow": null,
            "width": null,
            "min_width": null,
            "border": null,
            "align_items": null,
            "bottom": null,
            "_model_module": "@jupyter-widgets/base",
            "top": null,
            "grid_column": null,
            "overflow_y": null,
            "overflow_x": null,
            "grid_auto_flow": null,
            "grid_area": null,
            "grid_template_columns": null,
            "flex": null,
            "_model_name": "LayoutModel",
            "justify_items": null,
            "grid_row": null,
            "max_height": null,
            "align_content": null,
            "visibility": null,
            "align_self": null,
            "height": null,
            "min_height": null,
            "padding": null,
            "grid_auto_rows": null,
            "grid_gap": null,
            "max_width": null,
            "order": null,
            "_view_module_version": "1.2.0",
            "grid_template_areas": null,
            "object_position": null,
            "object_fit": null,
            "grid_auto_columns": null,
            "margin": null,
            "display": null,
            "left": null
          }
        },
        "33666baf089d4945b14615e4504f4d11": {
          "model_module": "@jupyter-widgets/controls",
          "model_name": "FloatProgressModel",
          "state": {
            "_view_name": "ProgressView",
            "style": "IPY_MODEL_4ff14178f65541f9ae75e73eb338a7e9",
            "_dom_classes": [],
            "description": "100%",
            "_model_name": "FloatProgressModel",
            "bar_style": "success",
            "max": 50210,
            "_view_module": "@jupyter-widgets/controls",
            "_model_module_version": "1.5.0",
            "value": 50210,
            "_view_count": null,
            "_view_module_version": "1.5.0",
            "orientation": "horizontal",
            "min": 0,
            "description_tooltip": null,
            "_model_module": "@jupyter-widgets/controls",
            "layout": "IPY_MODEL_5560f36397e4436c9c5b05701846f3c1"
          }
        },
        "25a9fa454a0a41f896297326d214db3a": {
          "model_module": "@jupyter-widgets/controls",
          "model_name": "HTMLModel",
          "state": {
            "_view_name": "HTMLView",
            "style": "IPY_MODEL_f8b74b1178cc40548e393f3f27472345",
            "_dom_classes": [],
            "description": "",
            "_model_name": "HTMLModel",
            "placeholder": "​",
            "_view_module": "@jupyter-widgets/controls",
            "_model_module_version": "1.5.0",
            "value": " 50210/50210 [00:37&lt;00:00, 1343.59it/s]",
            "_view_count": null,
            "_view_module_version": "1.5.0",
            "description_tooltip": null,
            "_model_module": "@jupyter-widgets/controls",
            "layout": "IPY_MODEL_12074122bdad42c5b0e474182d6d1a0d"
          }
        },
        "4ff14178f65541f9ae75e73eb338a7e9": {
          "model_module": "@jupyter-widgets/controls",
          "model_name": "ProgressStyleModel",
          "state": {
            "_view_name": "StyleView",
            "_model_name": "ProgressStyleModel",
            "description_width": "initial",
            "_view_module": "@jupyter-widgets/base",
            "_model_module_version": "1.5.0",
            "_view_count": null,
            "_view_module_version": "1.2.0",
            "bar_color": null,
            "_model_module": "@jupyter-widgets/controls"
          }
        },
        "5560f36397e4436c9c5b05701846f3c1": {
          "model_module": "@jupyter-widgets/base",
          "model_name": "LayoutModel",
          "state": {
            "_view_name": "LayoutView",
            "grid_template_rows": null,
            "right": null,
            "justify_content": null,
            "_view_module": "@jupyter-widgets/base",
            "overflow": null,
            "_model_module_version": "1.2.0",
            "_view_count": null,
            "flex_flow": null,
            "width": null,
            "min_width": null,
            "border": null,
            "align_items": null,
            "bottom": null,
            "_model_module": "@jupyter-widgets/base",
            "top": null,
            "grid_column": null,
            "overflow_y": null,
            "overflow_x": null,
            "grid_auto_flow": null,
            "grid_area": null,
            "grid_template_columns": null,
            "flex": null,
            "_model_name": "LayoutModel",
            "justify_items": null,
            "grid_row": null,
            "max_height": null,
            "align_content": null,
            "visibility": null,
            "align_self": null,
            "height": null,
            "min_height": null,
            "padding": null,
            "grid_auto_rows": null,
            "grid_gap": null,
            "max_width": null,
            "order": null,
            "_view_module_version": "1.2.0",
            "grid_template_areas": null,
            "object_position": null,
            "object_fit": null,
            "grid_auto_columns": null,
            "margin": null,
            "display": null,
            "left": null
          }
        },
        "f8b74b1178cc40548e393f3f27472345": {
          "model_module": "@jupyter-widgets/controls",
          "model_name": "DescriptionStyleModel",
          "state": {
            "_view_name": "StyleView",
            "_model_name": "DescriptionStyleModel",
            "description_width": "",
            "_view_module": "@jupyter-widgets/base",
            "_model_module_version": "1.5.0",
            "_view_count": null,
            "_view_module_version": "1.2.0",
            "_model_module": "@jupyter-widgets/controls"
          }
        },
        "12074122bdad42c5b0e474182d6d1a0d": {
          "model_module": "@jupyter-widgets/base",
          "model_name": "LayoutModel",
          "state": {
            "_view_name": "LayoutView",
            "grid_template_rows": null,
            "right": null,
            "justify_content": null,
            "_view_module": "@jupyter-widgets/base",
            "overflow": null,
            "_model_module_version": "1.2.0",
            "_view_count": null,
            "flex_flow": null,
            "width": null,
            "min_width": null,
            "border": null,
            "align_items": null,
            "bottom": null,
            "_model_module": "@jupyter-widgets/base",
            "top": null,
            "grid_column": null,
            "overflow_y": null,
            "overflow_x": null,
            "grid_auto_flow": null,
            "grid_area": null,
            "grid_template_columns": null,
            "flex": null,
            "_model_name": "LayoutModel",
            "justify_items": null,
            "grid_row": null,
            "max_height": null,
            "align_content": null,
            "visibility": null,
            "align_self": null,
            "height": null,
            "min_height": null,
            "padding": null,
            "grid_auto_rows": null,
            "grid_gap": null,
            "max_width": null,
            "order": null,
            "_view_module_version": "1.2.0",
            "grid_template_areas": null,
            "object_position": null,
            "object_fit": null,
            "grid_auto_columns": null,
            "margin": null,
            "display": null,
            "left": null
          }
        },
        "f54135faf7234933a9d52dd1a09c3ab1": {
          "model_module": "@jupyter-widgets/controls",
          "model_name": "HBoxModel",
          "state": {
            "_view_name": "HBoxView",
            "_dom_classes": [],
            "_model_name": "HBoxModel",
            "_view_module": "@jupyter-widgets/controls",
            "_model_module_version": "1.5.0",
            "_view_count": null,
            "_view_module_version": "1.5.0",
            "box_style": "",
            "layout": "IPY_MODEL_f9b09f62a9654aedb6ae8951cc5d186a",
            "_model_module": "@jupyter-widgets/controls",
            "children": [
              "IPY_MODEL_d7c0d8b92f9b4c92a92a567f5e181b5f",
              "IPY_MODEL_22cc1f1b839a4e7181fe36ad167a9124"
            ]
          }
        },
        "f9b09f62a9654aedb6ae8951cc5d186a": {
          "model_module": "@jupyter-widgets/base",
          "model_name": "LayoutModel",
          "state": {
            "_view_name": "LayoutView",
            "grid_template_rows": null,
            "right": null,
            "justify_content": null,
            "_view_module": "@jupyter-widgets/base",
            "overflow": null,
            "_model_module_version": "1.2.0",
            "_view_count": null,
            "flex_flow": null,
            "width": null,
            "min_width": null,
            "border": null,
            "align_items": null,
            "bottom": null,
            "_model_module": "@jupyter-widgets/base",
            "top": null,
            "grid_column": null,
            "overflow_y": null,
            "overflow_x": null,
            "grid_auto_flow": null,
            "grid_area": null,
            "grid_template_columns": null,
            "flex": null,
            "_model_name": "LayoutModel",
            "justify_items": null,
            "grid_row": null,
            "max_height": null,
            "align_content": null,
            "visibility": null,
            "align_self": null,
            "height": null,
            "min_height": null,
            "padding": null,
            "grid_auto_rows": null,
            "grid_gap": null,
            "max_width": null,
            "order": null,
            "_view_module_version": "1.2.0",
            "grid_template_areas": null,
            "object_position": null,
            "object_fit": null,
            "grid_auto_columns": null,
            "margin": null,
            "display": null,
            "left": null
          }
        },
        "d7c0d8b92f9b4c92a92a567f5e181b5f": {
          "model_module": "@jupyter-widgets/controls",
          "model_name": "FloatProgressModel",
          "state": {
            "_view_name": "ProgressView",
            "style": "IPY_MODEL_ce7aa6acca9a4a2e94ec78459bbcea08",
            "_dom_classes": [],
            "description": "100%",
            "_model_name": "FloatProgressModel",
            "bar_style": "success",
            "max": 50210,
            "_view_module": "@jupyter-widgets/controls",
            "_model_module_version": "1.5.0",
            "value": 50210,
            "_view_count": null,
            "_view_module_version": "1.5.0",
            "orientation": "horizontal",
            "min": 0,
            "description_tooltip": null,
            "_model_module": "@jupyter-widgets/controls",
            "layout": "IPY_MODEL_5e9c2fafdee7485ea2806d7ac3313727"
          }
        },
        "22cc1f1b839a4e7181fe36ad167a9124": {
          "model_module": "@jupyter-widgets/controls",
          "model_name": "HTMLModel",
          "state": {
            "_view_name": "HTMLView",
            "style": "IPY_MODEL_dfe3f1c1859c45c383fed767f857cf7a",
            "_dom_classes": [],
            "description": "",
            "_model_name": "HTMLModel",
            "placeholder": "​",
            "_view_module": "@jupyter-widgets/controls",
            "_model_module_version": "1.5.0",
            "value": " 50210/50210 [01:33&lt;00:00, 536.71it/s]",
            "_view_count": null,
            "_view_module_version": "1.5.0",
            "description_tooltip": null,
            "_model_module": "@jupyter-widgets/controls",
            "layout": "IPY_MODEL_5a49f27908264632a0e0d634f6594a8e"
          }
        },
        "ce7aa6acca9a4a2e94ec78459bbcea08": {
          "model_module": "@jupyter-widgets/controls",
          "model_name": "ProgressStyleModel",
          "state": {
            "_view_name": "StyleView",
            "_model_name": "ProgressStyleModel",
            "description_width": "initial",
            "_view_module": "@jupyter-widgets/base",
            "_model_module_version": "1.5.0",
            "_view_count": null,
            "_view_module_version": "1.2.0",
            "bar_color": null,
            "_model_module": "@jupyter-widgets/controls"
          }
        },
        "5e9c2fafdee7485ea2806d7ac3313727": {
          "model_module": "@jupyter-widgets/base",
          "model_name": "LayoutModel",
          "state": {
            "_view_name": "LayoutView",
            "grid_template_rows": null,
            "right": null,
            "justify_content": null,
            "_view_module": "@jupyter-widgets/base",
            "overflow": null,
            "_model_module_version": "1.2.0",
            "_view_count": null,
            "flex_flow": null,
            "width": null,
            "min_width": null,
            "border": null,
            "align_items": null,
            "bottom": null,
            "_model_module": "@jupyter-widgets/base",
            "top": null,
            "grid_column": null,
            "overflow_y": null,
            "overflow_x": null,
            "grid_auto_flow": null,
            "grid_area": null,
            "grid_template_columns": null,
            "flex": null,
            "_model_name": "LayoutModel",
            "justify_items": null,
            "grid_row": null,
            "max_height": null,
            "align_content": null,
            "visibility": null,
            "align_self": null,
            "height": null,
            "min_height": null,
            "padding": null,
            "grid_auto_rows": null,
            "grid_gap": null,
            "max_width": null,
            "order": null,
            "_view_module_version": "1.2.0",
            "grid_template_areas": null,
            "object_position": null,
            "object_fit": null,
            "grid_auto_columns": null,
            "margin": null,
            "display": null,
            "left": null
          }
        },
        "dfe3f1c1859c45c383fed767f857cf7a": {
          "model_module": "@jupyter-widgets/controls",
          "model_name": "DescriptionStyleModel",
          "state": {
            "_view_name": "StyleView",
            "_model_name": "DescriptionStyleModel",
            "description_width": "",
            "_view_module": "@jupyter-widgets/base",
            "_model_module_version": "1.5.0",
            "_view_count": null,
            "_view_module_version": "1.2.0",
            "_model_module": "@jupyter-widgets/controls"
          }
        },
        "5a49f27908264632a0e0d634f6594a8e": {
          "model_module": "@jupyter-widgets/base",
          "model_name": "LayoutModel",
          "state": {
            "_view_name": "LayoutView",
            "grid_template_rows": null,
            "right": null,
            "justify_content": null,
            "_view_module": "@jupyter-widgets/base",
            "overflow": null,
            "_model_module_version": "1.2.0",
            "_view_count": null,
            "flex_flow": null,
            "width": null,
            "min_width": null,
            "border": null,
            "align_items": null,
            "bottom": null,
            "_model_module": "@jupyter-widgets/base",
            "top": null,
            "grid_column": null,
            "overflow_y": null,
            "overflow_x": null,
            "grid_auto_flow": null,
            "grid_area": null,
            "grid_template_columns": null,
            "flex": null,
            "_model_name": "LayoutModel",
            "justify_items": null,
            "grid_row": null,
            "max_height": null,
            "align_content": null,
            "visibility": null,
            "align_self": null,
            "height": null,
            "min_height": null,
            "padding": null,
            "grid_auto_rows": null,
            "grid_gap": null,
            "max_width": null,
            "order": null,
            "_view_module_version": "1.2.0",
            "grid_template_areas": null,
            "object_position": null,
            "object_fit": null,
            "grid_auto_columns": null,
            "margin": null,
            "display": null,
            "left": null
          }
        },
        "0628e7ed3298425180c098ae57f4a871": {
          "model_module": "@jupyter-widgets/controls",
          "model_name": "HBoxModel",
          "state": {
            "_view_name": "HBoxView",
            "_dom_classes": [],
            "_model_name": "HBoxModel",
            "_view_module": "@jupyter-widgets/controls",
            "_model_module_version": "1.5.0",
            "_view_count": null,
            "_view_module_version": "1.5.0",
            "box_style": "",
            "layout": "IPY_MODEL_2ab23f1314424a5bb531156e6e2bd0d6",
            "_model_module": "@jupyter-widgets/controls",
            "children": [
              "IPY_MODEL_d6c078d7cc02453eab306351cbdbe485",
              "IPY_MODEL_0308ee7e1e6f4d798777ad00a529cdd6"
            ]
          }
        },
        "2ab23f1314424a5bb531156e6e2bd0d6": {
          "model_module": "@jupyter-widgets/base",
          "model_name": "LayoutModel",
          "state": {
            "_view_name": "LayoutView",
            "grid_template_rows": null,
            "right": null,
            "justify_content": null,
            "_view_module": "@jupyter-widgets/base",
            "overflow": null,
            "_model_module_version": "1.2.0",
            "_view_count": null,
            "flex_flow": null,
            "width": null,
            "min_width": null,
            "border": null,
            "align_items": null,
            "bottom": null,
            "_model_module": "@jupyter-widgets/base",
            "top": null,
            "grid_column": null,
            "overflow_y": null,
            "overflow_x": null,
            "grid_auto_flow": null,
            "grid_area": null,
            "grid_template_columns": null,
            "flex": null,
            "_model_name": "LayoutModel",
            "justify_items": null,
            "grid_row": null,
            "max_height": null,
            "align_content": null,
            "visibility": null,
            "align_self": null,
            "height": null,
            "min_height": null,
            "padding": null,
            "grid_auto_rows": null,
            "grid_gap": null,
            "max_width": null,
            "order": null,
            "_view_module_version": "1.2.0",
            "grid_template_areas": null,
            "object_position": null,
            "object_fit": null,
            "grid_auto_columns": null,
            "margin": null,
            "display": null,
            "left": null
          }
        },
        "d6c078d7cc02453eab306351cbdbe485": {
          "model_module": "@jupyter-widgets/controls",
          "model_name": "FloatProgressModel",
          "state": {
            "_view_name": "ProgressView",
            "style": "IPY_MODEL_323ac177dcd84164b2ce12cb502f6496",
            "_dom_classes": [],
            "description": "100%",
            "_model_name": "FloatProgressModel",
            "bar_style": "success",
            "max": 50210,
            "_view_module": "@jupyter-widgets/controls",
            "_model_module_version": "1.5.0",
            "value": 50210,
            "_view_count": null,
            "_view_module_version": "1.5.0",
            "orientation": "horizontal",
            "min": 0,
            "description_tooltip": null,
            "_model_module": "@jupyter-widgets/controls",
            "layout": "IPY_MODEL_7785a1cd82874a478d634cbca7521f85"
          }
        },
        "0308ee7e1e6f4d798777ad00a529cdd6": {
          "model_module": "@jupyter-widgets/controls",
          "model_name": "HTMLModel",
          "state": {
            "_view_name": "HTMLView",
            "style": "IPY_MODEL_da70f00949aa4d6db321b5737d586575",
            "_dom_classes": [],
            "description": "",
            "_model_name": "HTMLModel",
            "placeholder": "​",
            "_view_module": "@jupyter-widgets/controls",
            "_model_module_version": "1.5.0",
            "value": " 50210/50210 [01:55&lt;00:00, 434.28it/s]",
            "_view_count": null,
            "_view_module_version": "1.5.0",
            "description_tooltip": null,
            "_model_module": "@jupyter-widgets/controls",
            "layout": "IPY_MODEL_7501395cad4a4becbcafc48514bdaa92"
          }
        },
        "323ac177dcd84164b2ce12cb502f6496": {
          "model_module": "@jupyter-widgets/controls",
          "model_name": "ProgressStyleModel",
          "state": {
            "_view_name": "StyleView",
            "_model_name": "ProgressStyleModel",
            "description_width": "initial",
            "_view_module": "@jupyter-widgets/base",
            "_model_module_version": "1.5.0",
            "_view_count": null,
            "_view_module_version": "1.2.0",
            "bar_color": null,
            "_model_module": "@jupyter-widgets/controls"
          }
        },
        "7785a1cd82874a478d634cbca7521f85": {
          "model_module": "@jupyter-widgets/base",
          "model_name": "LayoutModel",
          "state": {
            "_view_name": "LayoutView",
            "grid_template_rows": null,
            "right": null,
            "justify_content": null,
            "_view_module": "@jupyter-widgets/base",
            "overflow": null,
            "_model_module_version": "1.2.0",
            "_view_count": null,
            "flex_flow": null,
            "width": null,
            "min_width": null,
            "border": null,
            "align_items": null,
            "bottom": null,
            "_model_module": "@jupyter-widgets/base",
            "top": null,
            "grid_column": null,
            "overflow_y": null,
            "overflow_x": null,
            "grid_auto_flow": null,
            "grid_area": null,
            "grid_template_columns": null,
            "flex": null,
            "_model_name": "LayoutModel",
            "justify_items": null,
            "grid_row": null,
            "max_height": null,
            "align_content": null,
            "visibility": null,
            "align_self": null,
            "height": null,
            "min_height": null,
            "padding": null,
            "grid_auto_rows": null,
            "grid_gap": null,
            "max_width": null,
            "order": null,
            "_view_module_version": "1.2.0",
            "grid_template_areas": null,
            "object_position": null,
            "object_fit": null,
            "grid_auto_columns": null,
            "margin": null,
            "display": null,
            "left": null
          }
        },
        "da70f00949aa4d6db321b5737d586575": {
          "model_module": "@jupyter-widgets/controls",
          "model_name": "DescriptionStyleModel",
          "state": {
            "_view_name": "StyleView",
            "_model_name": "DescriptionStyleModel",
            "description_width": "",
            "_view_module": "@jupyter-widgets/base",
            "_model_module_version": "1.5.0",
            "_view_count": null,
            "_view_module_version": "1.2.0",
            "_model_module": "@jupyter-widgets/controls"
          }
        },
        "7501395cad4a4becbcafc48514bdaa92": {
          "model_module": "@jupyter-widgets/base",
          "model_name": "LayoutModel",
          "state": {
            "_view_name": "LayoutView",
            "grid_template_rows": null,
            "right": null,
            "justify_content": null,
            "_view_module": "@jupyter-widgets/base",
            "overflow": null,
            "_model_module_version": "1.2.0",
            "_view_count": null,
            "flex_flow": null,
            "width": null,
            "min_width": null,
            "border": null,
            "align_items": null,
            "bottom": null,
            "_model_module": "@jupyter-widgets/base",
            "top": null,
            "grid_column": null,
            "overflow_y": null,
            "overflow_x": null,
            "grid_auto_flow": null,
            "grid_area": null,
            "grid_template_columns": null,
            "flex": null,
            "_model_name": "LayoutModel",
            "justify_items": null,
            "grid_row": null,
            "max_height": null,
            "align_content": null,
            "visibility": null,
            "align_self": null,
            "height": null,
            "min_height": null,
            "padding": null,
            "grid_auto_rows": null,
            "grid_gap": null,
            "max_width": null,
            "order": null,
            "_view_module_version": "1.2.0",
            "grid_template_areas": null,
            "object_position": null,
            "object_fit": null,
            "grid_auto_columns": null,
            "margin": null,
            "display": null,
            "left": null
          }
        },
        "54d048bf3324496d8076ed8e3f95e1da": {
          "model_module": "@jupyter-widgets/controls",
          "model_name": "HBoxModel",
          "state": {
            "_view_name": "HBoxView",
            "_dom_classes": [],
            "_model_name": "HBoxModel",
            "_view_module": "@jupyter-widgets/controls",
            "_model_module_version": "1.5.0",
            "_view_count": null,
            "_view_module_version": "1.5.0",
            "box_style": "",
            "layout": "IPY_MODEL_f54ac40c585e4030beafb85befa4f955",
            "_model_module": "@jupyter-widgets/controls",
            "children": [
              "IPY_MODEL_dd0f71d6be41403980aae35d34a275f3",
              "IPY_MODEL_9e04223d2bea48bb96e5e8eaeaa7e9ce"
            ]
          }
        },
        "f54ac40c585e4030beafb85befa4f955": {
          "model_module": "@jupyter-widgets/base",
          "model_name": "LayoutModel",
          "state": {
            "_view_name": "LayoutView",
            "grid_template_rows": null,
            "right": null,
            "justify_content": null,
            "_view_module": "@jupyter-widgets/base",
            "overflow": null,
            "_model_module_version": "1.2.0",
            "_view_count": null,
            "flex_flow": null,
            "width": null,
            "min_width": null,
            "border": null,
            "align_items": null,
            "bottom": null,
            "_model_module": "@jupyter-widgets/base",
            "top": null,
            "grid_column": null,
            "overflow_y": null,
            "overflow_x": null,
            "grid_auto_flow": null,
            "grid_area": null,
            "grid_template_columns": null,
            "flex": null,
            "_model_name": "LayoutModel",
            "justify_items": null,
            "grid_row": null,
            "max_height": null,
            "align_content": null,
            "visibility": null,
            "align_self": null,
            "height": null,
            "min_height": null,
            "padding": null,
            "grid_auto_rows": null,
            "grid_gap": null,
            "max_width": null,
            "order": null,
            "_view_module_version": "1.2.0",
            "grid_template_areas": null,
            "object_position": null,
            "object_fit": null,
            "grid_auto_columns": null,
            "margin": null,
            "display": null,
            "left": null
          }
        },
        "dd0f71d6be41403980aae35d34a275f3": {
          "model_module": "@jupyter-widgets/controls",
          "model_name": "FloatProgressModel",
          "state": {
            "_view_name": "ProgressView",
            "style": "IPY_MODEL_263b34cbc68b4c7484a81bcd837f9bea",
            "_dom_classes": [],
            "description": "100%",
            "_model_name": "FloatProgressModel",
            "bar_style": "success",
            "max": 50210,
            "_view_module": "@jupyter-widgets/controls",
            "_model_module_version": "1.5.0",
            "value": 50210,
            "_view_count": null,
            "_view_module_version": "1.5.0",
            "orientation": "horizontal",
            "min": 0,
            "description_tooltip": null,
            "_model_module": "@jupyter-widgets/controls",
            "layout": "IPY_MODEL_eee3b94979094e74ad2d5f7b658f5d3a"
          }
        },
        "9e04223d2bea48bb96e5e8eaeaa7e9ce": {
          "model_module": "@jupyter-widgets/controls",
          "model_name": "HTMLModel",
          "state": {
            "_view_name": "HTMLView",
            "style": "IPY_MODEL_bba9f08cdb34416b901044d1709bb200",
            "_dom_classes": [],
            "description": "",
            "_model_name": "HTMLModel",
            "placeholder": "​",
            "_view_module": "@jupyter-widgets/controls",
            "_model_module_version": "1.5.0",
            "value": " 50210/50210 [01:23&lt;00:00, 604.48it/s]",
            "_view_count": null,
            "_view_module_version": "1.5.0",
            "description_tooltip": null,
            "_model_module": "@jupyter-widgets/controls",
            "layout": "IPY_MODEL_9eb5b8ac4b3e49b996eb41bb51c45aa2"
          }
        },
        "263b34cbc68b4c7484a81bcd837f9bea": {
          "model_module": "@jupyter-widgets/controls",
          "model_name": "ProgressStyleModel",
          "state": {
            "_view_name": "StyleView",
            "_model_name": "ProgressStyleModel",
            "description_width": "initial",
            "_view_module": "@jupyter-widgets/base",
            "_model_module_version": "1.5.0",
            "_view_count": null,
            "_view_module_version": "1.2.0",
            "bar_color": null,
            "_model_module": "@jupyter-widgets/controls"
          }
        },
        "eee3b94979094e74ad2d5f7b658f5d3a": {
          "model_module": "@jupyter-widgets/base",
          "model_name": "LayoutModel",
          "state": {
            "_view_name": "LayoutView",
            "grid_template_rows": null,
            "right": null,
            "justify_content": null,
            "_view_module": "@jupyter-widgets/base",
            "overflow": null,
            "_model_module_version": "1.2.0",
            "_view_count": null,
            "flex_flow": null,
            "width": null,
            "min_width": null,
            "border": null,
            "align_items": null,
            "bottom": null,
            "_model_module": "@jupyter-widgets/base",
            "top": null,
            "grid_column": null,
            "overflow_y": null,
            "overflow_x": null,
            "grid_auto_flow": null,
            "grid_area": null,
            "grid_template_columns": null,
            "flex": null,
            "_model_name": "LayoutModel",
            "justify_items": null,
            "grid_row": null,
            "max_height": null,
            "align_content": null,
            "visibility": null,
            "align_self": null,
            "height": null,
            "min_height": null,
            "padding": null,
            "grid_auto_rows": null,
            "grid_gap": null,
            "max_width": null,
            "order": null,
            "_view_module_version": "1.2.0",
            "grid_template_areas": null,
            "object_position": null,
            "object_fit": null,
            "grid_auto_columns": null,
            "margin": null,
            "display": null,
            "left": null
          }
        },
        "bba9f08cdb34416b901044d1709bb200": {
          "model_module": "@jupyter-widgets/controls",
          "model_name": "DescriptionStyleModel",
          "state": {
            "_view_name": "StyleView",
            "_model_name": "DescriptionStyleModel",
            "description_width": "",
            "_view_module": "@jupyter-widgets/base",
            "_model_module_version": "1.5.0",
            "_view_count": null,
            "_view_module_version": "1.2.0",
            "_model_module": "@jupyter-widgets/controls"
          }
        },
        "9eb5b8ac4b3e49b996eb41bb51c45aa2": {
          "model_module": "@jupyter-widgets/base",
          "model_name": "LayoutModel",
          "state": {
            "_view_name": "LayoutView",
            "grid_template_rows": null,
            "right": null,
            "justify_content": null,
            "_view_module": "@jupyter-widgets/base",
            "overflow": null,
            "_model_module_version": "1.2.0",
            "_view_count": null,
            "flex_flow": null,
            "width": null,
            "min_width": null,
            "border": null,
            "align_items": null,
            "bottom": null,
            "_model_module": "@jupyter-widgets/base",
            "top": null,
            "grid_column": null,
            "overflow_y": null,
            "overflow_x": null,
            "grid_auto_flow": null,
            "grid_area": null,
            "grid_template_columns": null,
            "flex": null,
            "_model_name": "LayoutModel",
            "justify_items": null,
            "grid_row": null,
            "max_height": null,
            "align_content": null,
            "visibility": null,
            "align_self": null,
            "height": null,
            "min_height": null,
            "padding": null,
            "grid_auto_rows": null,
            "grid_gap": null,
            "max_width": null,
            "order": null,
            "_view_module_version": "1.2.0",
            "grid_template_areas": null,
            "object_position": null,
            "object_fit": null,
            "grid_auto_columns": null,
            "margin": null,
            "display": null,
            "left": null
          }
        },
        "add2163977cc46bc8151862b1b93b40d": {
          "model_module": "@jupyter-widgets/controls",
          "model_name": "HBoxModel",
          "state": {
            "_view_name": "HBoxView",
            "_dom_classes": [],
            "_model_name": "HBoxModel",
            "_view_module": "@jupyter-widgets/controls",
            "_model_module_version": "1.5.0",
            "_view_count": null,
            "_view_module_version": "1.5.0",
            "box_style": "",
            "layout": "IPY_MODEL_8d34bc2c0be14e0ab7ec724329c3a3cc",
            "_model_module": "@jupyter-widgets/controls",
            "children": [
              "IPY_MODEL_e8a3593209454878a99ef7b0877990d6",
              "IPY_MODEL_8540aa258ec34d11922bdd816fa81888"
            ]
          }
        },
        "8d34bc2c0be14e0ab7ec724329c3a3cc": {
          "model_module": "@jupyter-widgets/base",
          "model_name": "LayoutModel",
          "state": {
            "_view_name": "LayoutView",
            "grid_template_rows": null,
            "right": null,
            "justify_content": null,
            "_view_module": "@jupyter-widgets/base",
            "overflow": null,
            "_model_module_version": "1.2.0",
            "_view_count": null,
            "flex_flow": null,
            "width": null,
            "min_width": null,
            "border": null,
            "align_items": null,
            "bottom": null,
            "_model_module": "@jupyter-widgets/base",
            "top": null,
            "grid_column": null,
            "overflow_y": null,
            "overflow_x": null,
            "grid_auto_flow": null,
            "grid_area": null,
            "grid_template_columns": null,
            "flex": null,
            "_model_name": "LayoutModel",
            "justify_items": null,
            "grid_row": null,
            "max_height": null,
            "align_content": null,
            "visibility": null,
            "align_self": null,
            "height": null,
            "min_height": null,
            "padding": null,
            "grid_auto_rows": null,
            "grid_gap": null,
            "max_width": null,
            "order": null,
            "_view_module_version": "1.2.0",
            "grid_template_areas": null,
            "object_position": null,
            "object_fit": null,
            "grid_auto_columns": null,
            "margin": null,
            "display": null,
            "left": null
          }
        },
        "e8a3593209454878a99ef7b0877990d6": {
          "model_module": "@jupyter-widgets/controls",
          "model_name": "FloatProgressModel",
          "state": {
            "_view_name": "ProgressView",
            "style": "IPY_MODEL_a1d8fbca7a2c45349c3677301021a7cc",
            "_dom_classes": [],
            "description": "100%",
            "_model_name": "FloatProgressModel",
            "bar_style": "success",
            "max": 50210,
            "_view_module": "@jupyter-widgets/controls",
            "_model_module_version": "1.5.0",
            "value": 50210,
            "_view_count": null,
            "_view_module_version": "1.5.0",
            "orientation": "horizontal",
            "min": 0,
            "description_tooltip": null,
            "_model_module": "@jupyter-widgets/controls",
            "layout": "IPY_MODEL_f050384605484e0eabbe9098706d02e3"
          }
        },
        "8540aa258ec34d11922bdd816fa81888": {
          "model_module": "@jupyter-widgets/controls",
          "model_name": "HTMLModel",
          "state": {
            "_view_name": "HTMLView",
            "style": "IPY_MODEL_07fda696dba84dfa8abc20bc84e7124e",
            "_dom_classes": [],
            "description": "",
            "_model_name": "HTMLModel",
            "placeholder": "​",
            "_view_module": "@jupyter-widgets/controls",
            "_model_module_version": "1.5.0",
            "value": " 50210/50210 [01:15&lt;00:00, 663.28it/s]",
            "_view_count": null,
            "_view_module_version": "1.5.0",
            "description_tooltip": null,
            "_model_module": "@jupyter-widgets/controls",
            "layout": "IPY_MODEL_569b99a6cd8d4482ac711f005fca9347"
          }
        },
        "a1d8fbca7a2c45349c3677301021a7cc": {
          "model_module": "@jupyter-widgets/controls",
          "model_name": "ProgressStyleModel",
          "state": {
            "_view_name": "StyleView",
            "_model_name": "ProgressStyleModel",
            "description_width": "initial",
            "_view_module": "@jupyter-widgets/base",
            "_model_module_version": "1.5.0",
            "_view_count": null,
            "_view_module_version": "1.2.0",
            "bar_color": null,
            "_model_module": "@jupyter-widgets/controls"
          }
        },
        "f050384605484e0eabbe9098706d02e3": {
          "model_module": "@jupyter-widgets/base",
          "model_name": "LayoutModel",
          "state": {
            "_view_name": "LayoutView",
            "grid_template_rows": null,
            "right": null,
            "justify_content": null,
            "_view_module": "@jupyter-widgets/base",
            "overflow": null,
            "_model_module_version": "1.2.0",
            "_view_count": null,
            "flex_flow": null,
            "width": null,
            "min_width": null,
            "border": null,
            "align_items": null,
            "bottom": null,
            "_model_module": "@jupyter-widgets/base",
            "top": null,
            "grid_column": null,
            "overflow_y": null,
            "overflow_x": null,
            "grid_auto_flow": null,
            "grid_area": null,
            "grid_template_columns": null,
            "flex": null,
            "_model_name": "LayoutModel",
            "justify_items": null,
            "grid_row": null,
            "max_height": null,
            "align_content": null,
            "visibility": null,
            "align_self": null,
            "height": null,
            "min_height": null,
            "padding": null,
            "grid_auto_rows": null,
            "grid_gap": null,
            "max_width": null,
            "order": null,
            "_view_module_version": "1.2.0",
            "grid_template_areas": null,
            "object_position": null,
            "object_fit": null,
            "grid_auto_columns": null,
            "margin": null,
            "display": null,
            "left": null
          }
        },
        "07fda696dba84dfa8abc20bc84e7124e": {
          "model_module": "@jupyter-widgets/controls",
          "model_name": "DescriptionStyleModel",
          "state": {
            "_view_name": "StyleView",
            "_model_name": "DescriptionStyleModel",
            "description_width": "",
            "_view_module": "@jupyter-widgets/base",
            "_model_module_version": "1.5.0",
            "_view_count": null,
            "_view_module_version": "1.2.0",
            "_model_module": "@jupyter-widgets/controls"
          }
        },
        "569b99a6cd8d4482ac711f005fca9347": {
          "model_module": "@jupyter-widgets/base",
          "model_name": "LayoutModel",
          "state": {
            "_view_name": "LayoutView",
            "grid_template_rows": null,
            "right": null,
            "justify_content": null,
            "_view_module": "@jupyter-widgets/base",
            "overflow": null,
            "_model_module_version": "1.2.0",
            "_view_count": null,
            "flex_flow": null,
            "width": null,
            "min_width": null,
            "border": null,
            "align_items": null,
            "bottom": null,
            "_model_module": "@jupyter-widgets/base",
            "top": null,
            "grid_column": null,
            "overflow_y": null,
            "overflow_x": null,
            "grid_auto_flow": null,
            "grid_area": null,
            "grid_template_columns": null,
            "flex": null,
            "_model_name": "LayoutModel",
            "justify_items": null,
            "grid_row": null,
            "max_height": null,
            "align_content": null,
            "visibility": null,
            "align_self": null,
            "height": null,
            "min_height": null,
            "padding": null,
            "grid_auto_rows": null,
            "grid_gap": null,
            "max_width": null,
            "order": null,
            "_view_module_version": "1.2.0",
            "grid_template_areas": null,
            "object_position": null,
            "object_fit": null,
            "grid_auto_columns": null,
            "margin": null,
            "display": null,
            "left": null
          }
        },
        "d70f895f28714dbd8d15b6e5b5e46535": {
          "model_module": "@jupyter-widgets/controls",
          "model_name": "HBoxModel",
          "state": {
            "_view_name": "HBoxView",
            "_dom_classes": [],
            "_model_name": "HBoxModel",
            "_view_module": "@jupyter-widgets/controls",
            "_model_module_version": "1.5.0",
            "_view_count": null,
            "_view_module_version": "1.5.0",
            "box_style": "",
            "layout": "IPY_MODEL_312903c788be4cd3bb15ce6032361e6b",
            "_model_module": "@jupyter-widgets/controls",
            "children": [
              "IPY_MODEL_09022624f7204e17a74f3fd4b4393363",
              "IPY_MODEL_420e20bcc3ae43398852e4214b3d015f"
            ]
          }
        },
        "312903c788be4cd3bb15ce6032361e6b": {
          "model_module": "@jupyter-widgets/base",
          "model_name": "LayoutModel",
          "state": {
            "_view_name": "LayoutView",
            "grid_template_rows": null,
            "right": null,
            "justify_content": null,
            "_view_module": "@jupyter-widgets/base",
            "overflow": null,
            "_model_module_version": "1.2.0",
            "_view_count": null,
            "flex_flow": null,
            "width": null,
            "min_width": null,
            "border": null,
            "align_items": null,
            "bottom": null,
            "_model_module": "@jupyter-widgets/base",
            "top": null,
            "grid_column": null,
            "overflow_y": null,
            "overflow_x": null,
            "grid_auto_flow": null,
            "grid_area": null,
            "grid_template_columns": null,
            "flex": null,
            "_model_name": "LayoutModel",
            "justify_items": null,
            "grid_row": null,
            "max_height": null,
            "align_content": null,
            "visibility": null,
            "align_self": null,
            "height": null,
            "min_height": null,
            "padding": null,
            "grid_auto_rows": null,
            "grid_gap": null,
            "max_width": null,
            "order": null,
            "_view_module_version": "1.2.0",
            "grid_template_areas": null,
            "object_position": null,
            "object_fit": null,
            "grid_auto_columns": null,
            "margin": null,
            "display": null,
            "left": null
          }
        },
        "09022624f7204e17a74f3fd4b4393363": {
          "model_module": "@jupyter-widgets/controls",
          "model_name": "FloatProgressModel",
          "state": {
            "_view_name": "ProgressView",
            "style": "IPY_MODEL_e6397f1e91e74134a07dd79e89791a06",
            "_dom_classes": [],
            "description": "100%",
            "_model_name": "FloatProgressModel",
            "bar_style": "success",
            "max": 50210,
            "_view_module": "@jupyter-widgets/controls",
            "_model_module_version": "1.5.0",
            "value": 50210,
            "_view_count": null,
            "_view_module_version": "1.5.0",
            "orientation": "horizontal",
            "min": 0,
            "description_tooltip": null,
            "_model_module": "@jupyter-widgets/controls",
            "layout": "IPY_MODEL_d528eb659f1248e4ac41f75fa3c4e6c5"
          }
        },
        "420e20bcc3ae43398852e4214b3d015f": {
          "model_module": "@jupyter-widgets/controls",
          "model_name": "HTMLModel",
          "state": {
            "_view_name": "HTMLView",
            "style": "IPY_MODEL_1d82c86c22ab461daeb62381ca2581d8",
            "_dom_classes": [],
            "description": "",
            "_model_name": "HTMLModel",
            "placeholder": "​",
            "_view_module": "@jupyter-widgets/controls",
            "_model_module_version": "1.5.0",
            "value": " 50210/50210 [01:52&lt;00:00, 448.15it/s]",
            "_view_count": null,
            "_view_module_version": "1.5.0",
            "description_tooltip": null,
            "_model_module": "@jupyter-widgets/controls",
            "layout": "IPY_MODEL_4b8bc9d1c6104509bb74438af79c7a87"
          }
        },
        "e6397f1e91e74134a07dd79e89791a06": {
          "model_module": "@jupyter-widgets/controls",
          "model_name": "ProgressStyleModel",
          "state": {
            "_view_name": "StyleView",
            "_model_name": "ProgressStyleModel",
            "description_width": "initial",
            "_view_module": "@jupyter-widgets/base",
            "_model_module_version": "1.5.0",
            "_view_count": null,
            "_view_module_version": "1.2.0",
            "bar_color": null,
            "_model_module": "@jupyter-widgets/controls"
          }
        },
        "d528eb659f1248e4ac41f75fa3c4e6c5": {
          "model_module": "@jupyter-widgets/base",
          "model_name": "LayoutModel",
          "state": {
            "_view_name": "LayoutView",
            "grid_template_rows": null,
            "right": null,
            "justify_content": null,
            "_view_module": "@jupyter-widgets/base",
            "overflow": null,
            "_model_module_version": "1.2.0",
            "_view_count": null,
            "flex_flow": null,
            "width": null,
            "min_width": null,
            "border": null,
            "align_items": null,
            "bottom": null,
            "_model_module": "@jupyter-widgets/base",
            "top": null,
            "grid_column": null,
            "overflow_y": null,
            "overflow_x": null,
            "grid_auto_flow": null,
            "grid_area": null,
            "grid_template_columns": null,
            "flex": null,
            "_model_name": "LayoutModel",
            "justify_items": null,
            "grid_row": null,
            "max_height": null,
            "align_content": null,
            "visibility": null,
            "align_self": null,
            "height": null,
            "min_height": null,
            "padding": null,
            "grid_auto_rows": null,
            "grid_gap": null,
            "max_width": null,
            "order": null,
            "_view_module_version": "1.2.0",
            "grid_template_areas": null,
            "object_position": null,
            "object_fit": null,
            "grid_auto_columns": null,
            "margin": null,
            "display": null,
            "left": null
          }
        },
        "1d82c86c22ab461daeb62381ca2581d8": {
          "model_module": "@jupyter-widgets/controls",
          "model_name": "DescriptionStyleModel",
          "state": {
            "_view_name": "StyleView",
            "_model_name": "DescriptionStyleModel",
            "description_width": "",
            "_view_module": "@jupyter-widgets/base",
            "_model_module_version": "1.5.0",
            "_view_count": null,
            "_view_module_version": "1.2.0",
            "_model_module": "@jupyter-widgets/controls"
          }
        },
        "4b8bc9d1c6104509bb74438af79c7a87": {
          "model_module": "@jupyter-widgets/base",
          "model_name": "LayoutModel",
          "state": {
            "_view_name": "LayoutView",
            "grid_template_rows": null,
            "right": null,
            "justify_content": null,
            "_view_module": "@jupyter-widgets/base",
            "overflow": null,
            "_model_module_version": "1.2.0",
            "_view_count": null,
            "flex_flow": null,
            "width": null,
            "min_width": null,
            "border": null,
            "align_items": null,
            "bottom": null,
            "_model_module": "@jupyter-widgets/base",
            "top": null,
            "grid_column": null,
            "overflow_y": null,
            "overflow_x": null,
            "grid_auto_flow": null,
            "grid_area": null,
            "grid_template_columns": null,
            "flex": null,
            "_model_name": "LayoutModel",
            "justify_items": null,
            "grid_row": null,
            "max_height": null,
            "align_content": null,
            "visibility": null,
            "align_self": null,
            "height": null,
            "min_height": null,
            "padding": null,
            "grid_auto_rows": null,
            "grid_gap": null,
            "max_width": null,
            "order": null,
            "_view_module_version": "1.2.0",
            "grid_template_areas": null,
            "object_position": null,
            "object_fit": null,
            "grid_auto_columns": null,
            "margin": null,
            "display": null,
            "left": null
          }
        },
        "501ce2ea26fb4e9dbd9836a19ef11902": {
          "model_module": "@jupyter-widgets/controls",
          "model_name": "HBoxModel",
          "state": {
            "_view_name": "HBoxView",
            "_dom_classes": [],
            "_model_name": "HBoxModel",
            "_view_module": "@jupyter-widgets/controls",
            "_model_module_version": "1.5.0",
            "_view_count": null,
            "_view_module_version": "1.5.0",
            "box_style": "",
            "layout": "IPY_MODEL_61999afb5aa74210bc7fcd55c9c98bd3",
            "_model_module": "@jupyter-widgets/controls",
            "children": [
              "IPY_MODEL_d0849bb3138041f38f257d8f45ddd4d5",
              "IPY_MODEL_075ddbd2d11d4846bf9f0083cac5ddab"
            ]
          }
        },
        "61999afb5aa74210bc7fcd55c9c98bd3": {
          "model_module": "@jupyter-widgets/base",
          "model_name": "LayoutModel",
          "state": {
            "_view_name": "LayoutView",
            "grid_template_rows": null,
            "right": null,
            "justify_content": null,
            "_view_module": "@jupyter-widgets/base",
            "overflow": null,
            "_model_module_version": "1.2.0",
            "_view_count": null,
            "flex_flow": null,
            "width": null,
            "min_width": null,
            "border": null,
            "align_items": null,
            "bottom": null,
            "_model_module": "@jupyter-widgets/base",
            "top": null,
            "grid_column": null,
            "overflow_y": null,
            "overflow_x": null,
            "grid_auto_flow": null,
            "grid_area": null,
            "grid_template_columns": null,
            "flex": null,
            "_model_name": "LayoutModel",
            "justify_items": null,
            "grid_row": null,
            "max_height": null,
            "align_content": null,
            "visibility": null,
            "align_self": null,
            "height": null,
            "min_height": null,
            "padding": null,
            "grid_auto_rows": null,
            "grid_gap": null,
            "max_width": null,
            "order": null,
            "_view_module_version": "1.2.0",
            "grid_template_areas": null,
            "object_position": null,
            "object_fit": null,
            "grid_auto_columns": null,
            "margin": null,
            "display": null,
            "left": null
          }
        },
        "d0849bb3138041f38f257d8f45ddd4d5": {
          "model_module": "@jupyter-widgets/controls",
          "model_name": "FloatProgressModel",
          "state": {
            "_view_name": "ProgressView",
            "style": "IPY_MODEL_e6fb20ab3fe84f40b39f7cfb4ea17177",
            "_dom_classes": [],
            "description": "100%",
            "_model_name": "FloatProgressModel",
            "bar_style": "success",
            "max": 3,
            "_view_module": "@jupyter-widgets/controls",
            "_model_module_version": "1.5.0",
            "value": 3,
            "_view_count": null,
            "_view_module_version": "1.5.0",
            "orientation": "horizontal",
            "min": 0,
            "description_tooltip": null,
            "_model_module": "@jupyter-widgets/controls",
            "layout": "IPY_MODEL_865fe559b73240b5917db8350b81af47"
          }
        },
        "075ddbd2d11d4846bf9f0083cac5ddab": {
          "model_module": "@jupyter-widgets/controls",
          "model_name": "HTMLModel",
          "state": {
            "_view_name": "HTMLView",
            "style": "IPY_MODEL_4af8da79a614434880fc703e78bb0183",
            "_dom_classes": [],
            "description": "",
            "_model_name": "HTMLModel",
            "placeholder": "​",
            "_view_module": "@jupyter-widgets/controls",
            "_model_module_version": "1.5.0",
            "value": " 3/3 [00:00&lt;00:00,  6.43it/s]",
            "_view_count": null,
            "_view_module_version": "1.5.0",
            "description_tooltip": null,
            "_model_module": "@jupyter-widgets/controls",
            "layout": "IPY_MODEL_1f535be50b314a40a6cf85bd8d60e639"
          }
        },
        "e6fb20ab3fe84f40b39f7cfb4ea17177": {
          "model_module": "@jupyter-widgets/controls",
          "model_name": "ProgressStyleModel",
          "state": {
            "_view_name": "StyleView",
            "_model_name": "ProgressStyleModel",
            "description_width": "initial",
            "_view_module": "@jupyter-widgets/base",
            "_model_module_version": "1.5.0",
            "_view_count": null,
            "_view_module_version": "1.2.0",
            "bar_color": null,
            "_model_module": "@jupyter-widgets/controls"
          }
        },
        "865fe559b73240b5917db8350b81af47": {
          "model_module": "@jupyter-widgets/base",
          "model_name": "LayoutModel",
          "state": {
            "_view_name": "LayoutView",
            "grid_template_rows": null,
            "right": null,
            "justify_content": null,
            "_view_module": "@jupyter-widgets/base",
            "overflow": null,
            "_model_module_version": "1.2.0",
            "_view_count": null,
            "flex_flow": null,
            "width": null,
            "min_width": null,
            "border": null,
            "align_items": null,
            "bottom": null,
            "_model_module": "@jupyter-widgets/base",
            "top": null,
            "grid_column": null,
            "overflow_y": null,
            "overflow_x": null,
            "grid_auto_flow": null,
            "grid_area": null,
            "grid_template_columns": null,
            "flex": null,
            "_model_name": "LayoutModel",
            "justify_items": null,
            "grid_row": null,
            "max_height": null,
            "align_content": null,
            "visibility": null,
            "align_self": null,
            "height": null,
            "min_height": null,
            "padding": null,
            "grid_auto_rows": null,
            "grid_gap": null,
            "max_width": null,
            "order": null,
            "_view_module_version": "1.2.0",
            "grid_template_areas": null,
            "object_position": null,
            "object_fit": null,
            "grid_auto_columns": null,
            "margin": null,
            "display": null,
            "left": null
          }
        },
        "4af8da79a614434880fc703e78bb0183": {
          "model_module": "@jupyter-widgets/controls",
          "model_name": "DescriptionStyleModel",
          "state": {
            "_view_name": "StyleView",
            "_model_name": "DescriptionStyleModel",
            "description_width": "",
            "_view_module": "@jupyter-widgets/base",
            "_model_module_version": "1.5.0",
            "_view_count": null,
            "_view_module_version": "1.2.0",
            "_model_module": "@jupyter-widgets/controls"
          }
        },
        "1f535be50b314a40a6cf85bd8d60e639": {
          "model_module": "@jupyter-widgets/base",
          "model_name": "LayoutModel",
          "state": {
            "_view_name": "LayoutView",
            "grid_template_rows": null,
            "right": null,
            "justify_content": null,
            "_view_module": "@jupyter-widgets/base",
            "overflow": null,
            "_model_module_version": "1.2.0",
            "_view_count": null,
            "flex_flow": null,
            "width": null,
            "min_width": null,
            "border": null,
            "align_items": null,
            "bottom": null,
            "_model_module": "@jupyter-widgets/base",
            "top": null,
            "grid_column": null,
            "overflow_y": null,
            "overflow_x": null,
            "grid_auto_flow": null,
            "grid_area": null,
            "grid_template_columns": null,
            "flex": null,
            "_model_name": "LayoutModel",
            "justify_items": null,
            "grid_row": null,
            "max_height": null,
            "align_content": null,
            "visibility": null,
            "align_self": null,
            "height": null,
            "min_height": null,
            "padding": null,
            "grid_auto_rows": null,
            "grid_gap": null,
            "max_width": null,
            "order": null,
            "_view_module_version": "1.2.0",
            "grid_template_areas": null,
            "object_position": null,
            "object_fit": null,
            "grid_auto_columns": null,
            "margin": null,
            "display": null,
            "left": null
          }
        },
        "517c0abe963d457a823700281e9a7d04": {
          "model_module": "@jupyter-widgets/controls",
          "model_name": "HBoxModel",
          "state": {
            "_view_name": "HBoxView",
            "_dom_classes": [],
            "_model_name": "HBoxModel",
            "_view_module": "@jupyter-widgets/controls",
            "_model_module_version": "1.5.0",
            "_view_count": null,
            "_view_module_version": "1.5.0",
            "box_style": "",
            "layout": "IPY_MODEL_d2dd3e7579784711bf1cc3cc4e1981a9",
            "_model_module": "@jupyter-widgets/controls",
            "children": [
              "IPY_MODEL_878f8bbf07764e7a9046f4df2bf62f5e",
              "IPY_MODEL_ec02d49dd099450689db09aeb9e553df"
            ]
          }
        },
        "d2dd3e7579784711bf1cc3cc4e1981a9": {
          "model_module": "@jupyter-widgets/base",
          "model_name": "LayoutModel",
          "state": {
            "_view_name": "LayoutView",
            "grid_template_rows": null,
            "right": null,
            "justify_content": null,
            "_view_module": "@jupyter-widgets/base",
            "overflow": null,
            "_model_module_version": "1.2.0",
            "_view_count": null,
            "flex_flow": null,
            "width": null,
            "min_width": null,
            "border": null,
            "align_items": null,
            "bottom": null,
            "_model_module": "@jupyter-widgets/base",
            "top": null,
            "grid_column": null,
            "overflow_y": null,
            "overflow_x": null,
            "grid_auto_flow": null,
            "grid_area": null,
            "grid_template_columns": null,
            "flex": null,
            "_model_name": "LayoutModel",
            "justify_items": null,
            "grid_row": null,
            "max_height": null,
            "align_content": null,
            "visibility": null,
            "align_self": null,
            "height": null,
            "min_height": null,
            "padding": null,
            "grid_auto_rows": null,
            "grid_gap": null,
            "max_width": null,
            "order": null,
            "_view_module_version": "1.2.0",
            "grid_template_areas": null,
            "object_position": null,
            "object_fit": null,
            "grid_auto_columns": null,
            "margin": null,
            "display": null,
            "left": null
          }
        },
        "878f8bbf07764e7a9046f4df2bf62f5e": {
          "model_module": "@jupyter-widgets/controls",
          "model_name": "FloatProgressModel",
          "state": {
            "_view_name": "ProgressView",
            "style": "IPY_MODEL_4e25b82fc5c9433ca800205856b87ccd",
            "_dom_classes": [],
            "description": "100%",
            "_model_name": "FloatProgressModel",
            "bar_style": "success",
            "max": 3,
            "_view_module": "@jupyter-widgets/controls",
            "_model_module_version": "1.5.0",
            "value": 3,
            "_view_count": null,
            "_view_module_version": "1.5.0",
            "orientation": "horizontal",
            "min": 0,
            "description_tooltip": null,
            "_model_module": "@jupyter-widgets/controls",
            "layout": "IPY_MODEL_28bf48262941499f98bf3d32183aea82"
          }
        },
        "ec02d49dd099450689db09aeb9e553df": {
          "model_module": "@jupyter-widgets/controls",
          "model_name": "HTMLModel",
          "state": {
            "_view_name": "HTMLView",
            "style": "IPY_MODEL_2d3aee3d35704d4ea27fdf790b92b195",
            "_dom_classes": [],
            "description": "",
            "_model_name": "HTMLModel",
            "placeholder": "​",
            "_view_module": "@jupyter-widgets/controls",
            "_model_module_version": "1.5.0",
            "value": " 3/3 [00:00&lt;00:00, 12.19it/s]",
            "_view_count": null,
            "_view_module_version": "1.5.0",
            "description_tooltip": null,
            "_model_module": "@jupyter-widgets/controls",
            "layout": "IPY_MODEL_36b458c66ea744008e51835a24384147"
          }
        },
        "4e25b82fc5c9433ca800205856b87ccd": {
          "model_module": "@jupyter-widgets/controls",
          "model_name": "ProgressStyleModel",
          "state": {
            "_view_name": "StyleView",
            "_model_name": "ProgressStyleModel",
            "description_width": "initial",
            "_view_module": "@jupyter-widgets/base",
            "_model_module_version": "1.5.0",
            "_view_count": null,
            "_view_module_version": "1.2.0",
            "bar_color": null,
            "_model_module": "@jupyter-widgets/controls"
          }
        },
        "28bf48262941499f98bf3d32183aea82": {
          "model_module": "@jupyter-widgets/base",
          "model_name": "LayoutModel",
          "state": {
            "_view_name": "LayoutView",
            "grid_template_rows": null,
            "right": null,
            "justify_content": null,
            "_view_module": "@jupyter-widgets/base",
            "overflow": null,
            "_model_module_version": "1.2.0",
            "_view_count": null,
            "flex_flow": null,
            "width": null,
            "min_width": null,
            "border": null,
            "align_items": null,
            "bottom": null,
            "_model_module": "@jupyter-widgets/base",
            "top": null,
            "grid_column": null,
            "overflow_y": null,
            "overflow_x": null,
            "grid_auto_flow": null,
            "grid_area": null,
            "grid_template_columns": null,
            "flex": null,
            "_model_name": "LayoutModel",
            "justify_items": null,
            "grid_row": null,
            "max_height": null,
            "align_content": null,
            "visibility": null,
            "align_self": null,
            "height": null,
            "min_height": null,
            "padding": null,
            "grid_auto_rows": null,
            "grid_gap": null,
            "max_width": null,
            "order": null,
            "_view_module_version": "1.2.0",
            "grid_template_areas": null,
            "object_position": null,
            "object_fit": null,
            "grid_auto_columns": null,
            "margin": null,
            "display": null,
            "left": null
          }
        },
        "2d3aee3d35704d4ea27fdf790b92b195": {
          "model_module": "@jupyter-widgets/controls",
          "model_name": "DescriptionStyleModel",
          "state": {
            "_view_name": "StyleView",
            "_model_name": "DescriptionStyleModel",
            "description_width": "",
            "_view_module": "@jupyter-widgets/base",
            "_model_module_version": "1.5.0",
            "_view_count": null,
            "_view_module_version": "1.2.0",
            "_model_module": "@jupyter-widgets/controls"
          }
        },
        "36b458c66ea744008e51835a24384147": {
          "model_module": "@jupyter-widgets/base",
          "model_name": "LayoutModel",
          "state": {
            "_view_name": "LayoutView",
            "grid_template_rows": null,
            "right": null,
            "justify_content": null,
            "_view_module": "@jupyter-widgets/base",
            "overflow": null,
            "_model_module_version": "1.2.0",
            "_view_count": null,
            "flex_flow": null,
            "width": null,
            "min_width": null,
            "border": null,
            "align_items": null,
            "bottom": null,
            "_model_module": "@jupyter-widgets/base",
            "top": null,
            "grid_column": null,
            "overflow_y": null,
            "overflow_x": null,
            "grid_auto_flow": null,
            "grid_area": null,
            "grid_template_columns": null,
            "flex": null,
            "_model_name": "LayoutModel",
            "justify_items": null,
            "grid_row": null,
            "max_height": null,
            "align_content": null,
            "visibility": null,
            "align_self": null,
            "height": null,
            "min_height": null,
            "padding": null,
            "grid_auto_rows": null,
            "grid_gap": null,
            "max_width": null,
            "order": null,
            "_view_module_version": "1.2.0",
            "grid_template_areas": null,
            "object_position": null,
            "object_fit": null,
            "grid_auto_columns": null,
            "margin": null,
            "display": null,
            "left": null
          }
        },
        "cc8b275d234348b485b6ed6049dcffeb": {
          "model_module": "@jupyter-widgets/controls",
          "model_name": "HBoxModel",
          "state": {
            "_view_name": "HBoxView",
            "_dom_classes": [],
            "_model_name": "HBoxModel",
            "_view_module": "@jupyter-widgets/controls",
            "_model_module_version": "1.5.0",
            "_view_count": null,
            "_view_module_version": "1.5.0",
            "box_style": "",
            "layout": "IPY_MODEL_436fb95ea2394612aeba0e50a5f33de0",
            "_model_module": "@jupyter-widgets/controls",
            "children": [
              "IPY_MODEL_9c63c8b50a0a4c549e7e43dd6ef216f8",
              "IPY_MODEL_0d8e38bbd2854efda251cacdde9efbb6"
            ]
          }
        },
        "436fb95ea2394612aeba0e50a5f33de0": {
          "model_module": "@jupyter-widgets/base",
          "model_name": "LayoutModel",
          "state": {
            "_view_name": "LayoutView",
            "grid_template_rows": null,
            "right": null,
            "justify_content": null,
            "_view_module": "@jupyter-widgets/base",
            "overflow": null,
            "_model_module_version": "1.2.0",
            "_view_count": null,
            "flex_flow": null,
            "width": null,
            "min_width": null,
            "border": null,
            "align_items": null,
            "bottom": null,
            "_model_module": "@jupyter-widgets/base",
            "top": null,
            "grid_column": null,
            "overflow_y": null,
            "overflow_x": null,
            "grid_auto_flow": null,
            "grid_area": null,
            "grid_template_columns": null,
            "flex": null,
            "_model_name": "LayoutModel",
            "justify_items": null,
            "grid_row": null,
            "max_height": null,
            "align_content": null,
            "visibility": null,
            "align_self": null,
            "height": null,
            "min_height": null,
            "padding": null,
            "grid_auto_rows": null,
            "grid_gap": null,
            "max_width": null,
            "order": null,
            "_view_module_version": "1.2.0",
            "grid_template_areas": null,
            "object_position": null,
            "object_fit": null,
            "grid_auto_columns": null,
            "margin": null,
            "display": null,
            "left": null
          }
        },
        "9c63c8b50a0a4c549e7e43dd6ef216f8": {
          "model_module": "@jupyter-widgets/controls",
          "model_name": "FloatProgressModel",
          "state": {
            "_view_name": "ProgressView",
            "style": "IPY_MODEL_d21ae044cb5048c891c2b9b3271d6b45",
            "_dom_classes": [],
            "description": "100%",
            "_model_name": "FloatProgressModel",
            "bar_style": "success",
            "max": 3,
            "_view_module": "@jupyter-widgets/controls",
            "_model_module_version": "1.5.0",
            "value": 3,
            "_view_count": null,
            "_view_module_version": "1.5.0",
            "orientation": "horizontal",
            "min": 0,
            "description_tooltip": null,
            "_model_module": "@jupyter-widgets/controls",
            "layout": "IPY_MODEL_772034fb1a364b0390a41e5b8a4e1504"
          }
        },
        "0d8e38bbd2854efda251cacdde9efbb6": {
          "model_module": "@jupyter-widgets/controls",
          "model_name": "HTMLModel",
          "state": {
            "_view_name": "HTMLView",
            "style": "IPY_MODEL_3fbd8800932344a99681e02c381d37e7",
            "_dom_classes": [],
            "description": "",
            "_model_name": "HTMLModel",
            "placeholder": "​",
            "_view_module": "@jupyter-widgets/controls",
            "_model_module_version": "1.5.0",
            "value": " 3/3 [00:00&lt;00:00, 12.42it/s]",
            "_view_count": null,
            "_view_module_version": "1.5.0",
            "description_tooltip": null,
            "_model_module": "@jupyter-widgets/controls",
            "layout": "IPY_MODEL_4e70ff0ea47b47f6bddc098f06cf279c"
          }
        },
        "d21ae044cb5048c891c2b9b3271d6b45": {
          "model_module": "@jupyter-widgets/controls",
          "model_name": "ProgressStyleModel",
          "state": {
            "_view_name": "StyleView",
            "_model_name": "ProgressStyleModel",
            "description_width": "initial",
            "_view_module": "@jupyter-widgets/base",
            "_model_module_version": "1.5.0",
            "_view_count": null,
            "_view_module_version": "1.2.0",
            "bar_color": null,
            "_model_module": "@jupyter-widgets/controls"
          }
        },
        "772034fb1a364b0390a41e5b8a4e1504": {
          "model_module": "@jupyter-widgets/base",
          "model_name": "LayoutModel",
          "state": {
            "_view_name": "LayoutView",
            "grid_template_rows": null,
            "right": null,
            "justify_content": null,
            "_view_module": "@jupyter-widgets/base",
            "overflow": null,
            "_model_module_version": "1.2.0",
            "_view_count": null,
            "flex_flow": null,
            "width": null,
            "min_width": null,
            "border": null,
            "align_items": null,
            "bottom": null,
            "_model_module": "@jupyter-widgets/base",
            "top": null,
            "grid_column": null,
            "overflow_y": null,
            "overflow_x": null,
            "grid_auto_flow": null,
            "grid_area": null,
            "grid_template_columns": null,
            "flex": null,
            "_model_name": "LayoutModel",
            "justify_items": null,
            "grid_row": null,
            "max_height": null,
            "align_content": null,
            "visibility": null,
            "align_self": null,
            "height": null,
            "min_height": null,
            "padding": null,
            "grid_auto_rows": null,
            "grid_gap": null,
            "max_width": null,
            "order": null,
            "_view_module_version": "1.2.0",
            "grid_template_areas": null,
            "object_position": null,
            "object_fit": null,
            "grid_auto_columns": null,
            "margin": null,
            "display": null,
            "left": null
          }
        },
        "3fbd8800932344a99681e02c381d37e7": {
          "model_module": "@jupyter-widgets/controls",
          "model_name": "DescriptionStyleModel",
          "state": {
            "_view_name": "StyleView",
            "_model_name": "DescriptionStyleModel",
            "description_width": "",
            "_view_module": "@jupyter-widgets/base",
            "_model_module_version": "1.5.0",
            "_view_count": null,
            "_view_module_version": "1.2.0",
            "_model_module": "@jupyter-widgets/controls"
          }
        },
        "4e70ff0ea47b47f6bddc098f06cf279c": {
          "model_module": "@jupyter-widgets/base",
          "model_name": "LayoutModel",
          "state": {
            "_view_name": "LayoutView",
            "grid_template_rows": null,
            "right": null,
            "justify_content": null,
            "_view_module": "@jupyter-widgets/base",
            "overflow": null,
            "_model_module_version": "1.2.0",
            "_view_count": null,
            "flex_flow": null,
            "width": null,
            "min_width": null,
            "border": null,
            "align_items": null,
            "bottom": null,
            "_model_module": "@jupyter-widgets/base",
            "top": null,
            "grid_column": null,
            "overflow_y": null,
            "overflow_x": null,
            "grid_auto_flow": null,
            "grid_area": null,
            "grid_template_columns": null,
            "flex": null,
            "_model_name": "LayoutModel",
            "justify_items": null,
            "grid_row": null,
            "max_height": null,
            "align_content": null,
            "visibility": null,
            "align_self": null,
            "height": null,
            "min_height": null,
            "padding": null,
            "grid_auto_rows": null,
            "grid_gap": null,
            "max_width": null,
            "order": null,
            "_view_module_version": "1.2.0",
            "grid_template_areas": null,
            "object_position": null,
            "object_fit": null,
            "grid_auto_columns": null,
            "margin": null,
            "display": null,
            "left": null
          }
        },
        "d0c23f357a0e4c6a97d2e179b580fcea": {
          "model_module": "@jupyter-widgets/controls",
          "model_name": "HBoxModel",
          "state": {
            "_view_name": "HBoxView",
            "_dom_classes": [],
            "_model_name": "HBoxModel",
            "_view_module": "@jupyter-widgets/controls",
            "_model_module_version": "1.5.0",
            "_view_count": null,
            "_view_module_version": "1.5.0",
            "box_style": "",
            "layout": "IPY_MODEL_eaab7d700d2744b2b615bc67dd3cdf10",
            "_model_module": "@jupyter-widgets/controls",
            "children": [
              "IPY_MODEL_68cc9ce25f204a3d9472607fd253fef1",
              "IPY_MODEL_c0d7404bb93b4708981892c54300d500"
            ]
          }
        },
        "eaab7d700d2744b2b615bc67dd3cdf10": {
          "model_module": "@jupyter-widgets/base",
          "model_name": "LayoutModel",
          "state": {
            "_view_name": "LayoutView",
            "grid_template_rows": null,
            "right": null,
            "justify_content": null,
            "_view_module": "@jupyter-widgets/base",
            "overflow": null,
            "_model_module_version": "1.2.0",
            "_view_count": null,
            "flex_flow": null,
            "width": null,
            "min_width": null,
            "border": null,
            "align_items": null,
            "bottom": null,
            "_model_module": "@jupyter-widgets/base",
            "top": null,
            "grid_column": null,
            "overflow_y": null,
            "overflow_x": null,
            "grid_auto_flow": null,
            "grid_area": null,
            "grid_template_columns": null,
            "flex": null,
            "_model_name": "LayoutModel",
            "justify_items": null,
            "grid_row": null,
            "max_height": null,
            "align_content": null,
            "visibility": null,
            "align_self": null,
            "height": null,
            "min_height": null,
            "padding": null,
            "grid_auto_rows": null,
            "grid_gap": null,
            "max_width": null,
            "order": null,
            "_view_module_version": "1.2.0",
            "grid_template_areas": null,
            "object_position": null,
            "object_fit": null,
            "grid_auto_columns": null,
            "margin": null,
            "display": null,
            "left": null
          }
        },
        "68cc9ce25f204a3d9472607fd253fef1": {
          "model_module": "@jupyter-widgets/controls",
          "model_name": "FloatProgressModel",
          "state": {
            "_view_name": "ProgressView",
            "style": "IPY_MODEL_a58ff337101441eeb2cda50f273efdd7",
            "_dom_classes": [],
            "description": "100%",
            "_model_name": "FloatProgressModel",
            "bar_style": "success",
            "max": 3,
            "_view_module": "@jupyter-widgets/controls",
            "_model_module_version": "1.5.0",
            "value": 3,
            "_view_count": null,
            "_view_module_version": "1.5.0",
            "orientation": "horizontal",
            "min": 0,
            "description_tooltip": null,
            "_model_module": "@jupyter-widgets/controls",
            "layout": "IPY_MODEL_e74b4c5f224a431cbe1290b17aa75666"
          }
        },
        "c0d7404bb93b4708981892c54300d500": {
          "model_module": "@jupyter-widgets/controls",
          "model_name": "HTMLModel",
          "state": {
            "_view_name": "HTMLView",
            "style": "IPY_MODEL_f00fb2d15160446b8d6b78da8bfd0b2c",
            "_dom_classes": [],
            "description": "",
            "_model_name": "HTMLModel",
            "placeholder": "​",
            "_view_module": "@jupyter-widgets/controls",
            "_model_module_version": "1.5.0",
            "value": " 3/3 [00:00&lt;00:00, 24.76it/s]",
            "_view_count": null,
            "_view_module_version": "1.5.0",
            "description_tooltip": null,
            "_model_module": "@jupyter-widgets/controls",
            "layout": "IPY_MODEL_05203eadd5f94fcd8b61ddf5fca9084a"
          }
        },
        "a58ff337101441eeb2cda50f273efdd7": {
          "model_module": "@jupyter-widgets/controls",
          "model_name": "ProgressStyleModel",
          "state": {
            "_view_name": "StyleView",
            "_model_name": "ProgressStyleModel",
            "description_width": "initial",
            "_view_module": "@jupyter-widgets/base",
            "_model_module_version": "1.5.0",
            "_view_count": null,
            "_view_module_version": "1.2.0",
            "bar_color": null,
            "_model_module": "@jupyter-widgets/controls"
          }
        },
        "e74b4c5f224a431cbe1290b17aa75666": {
          "model_module": "@jupyter-widgets/base",
          "model_name": "LayoutModel",
          "state": {
            "_view_name": "LayoutView",
            "grid_template_rows": null,
            "right": null,
            "justify_content": null,
            "_view_module": "@jupyter-widgets/base",
            "overflow": null,
            "_model_module_version": "1.2.0",
            "_view_count": null,
            "flex_flow": null,
            "width": null,
            "min_width": null,
            "border": null,
            "align_items": null,
            "bottom": null,
            "_model_module": "@jupyter-widgets/base",
            "top": null,
            "grid_column": null,
            "overflow_y": null,
            "overflow_x": null,
            "grid_auto_flow": null,
            "grid_area": null,
            "grid_template_columns": null,
            "flex": null,
            "_model_name": "LayoutModel",
            "justify_items": null,
            "grid_row": null,
            "max_height": null,
            "align_content": null,
            "visibility": null,
            "align_self": null,
            "height": null,
            "min_height": null,
            "padding": null,
            "grid_auto_rows": null,
            "grid_gap": null,
            "max_width": null,
            "order": null,
            "_view_module_version": "1.2.0",
            "grid_template_areas": null,
            "object_position": null,
            "object_fit": null,
            "grid_auto_columns": null,
            "margin": null,
            "display": null,
            "left": null
          }
        },
        "f00fb2d15160446b8d6b78da8bfd0b2c": {
          "model_module": "@jupyter-widgets/controls",
          "model_name": "DescriptionStyleModel",
          "state": {
            "_view_name": "StyleView",
            "_model_name": "DescriptionStyleModel",
            "description_width": "",
            "_view_module": "@jupyter-widgets/base",
            "_model_module_version": "1.5.0",
            "_view_count": null,
            "_view_module_version": "1.2.0",
            "_model_module": "@jupyter-widgets/controls"
          }
        },
        "05203eadd5f94fcd8b61ddf5fca9084a": {
          "model_module": "@jupyter-widgets/base",
          "model_name": "LayoutModel",
          "state": {
            "_view_name": "LayoutView",
            "grid_template_rows": null,
            "right": null,
            "justify_content": null,
            "_view_module": "@jupyter-widgets/base",
            "overflow": null,
            "_model_module_version": "1.2.0",
            "_view_count": null,
            "flex_flow": null,
            "width": null,
            "min_width": null,
            "border": null,
            "align_items": null,
            "bottom": null,
            "_model_module": "@jupyter-widgets/base",
            "top": null,
            "grid_column": null,
            "overflow_y": null,
            "overflow_x": null,
            "grid_auto_flow": null,
            "grid_area": null,
            "grid_template_columns": null,
            "flex": null,
            "_model_name": "LayoutModel",
            "justify_items": null,
            "grid_row": null,
            "max_height": null,
            "align_content": null,
            "visibility": null,
            "align_self": null,
            "height": null,
            "min_height": null,
            "padding": null,
            "grid_auto_rows": null,
            "grid_gap": null,
            "max_width": null,
            "order": null,
            "_view_module_version": "1.2.0",
            "grid_template_areas": null,
            "object_position": null,
            "object_fit": null,
            "grid_auto_columns": null,
            "margin": null,
            "display": null,
            "left": null
          }
        }
      }
    }
  },
  "cells": [
    {
      "cell_type": "markdown",
      "metadata": {
        "id": "view-in-github",
        "colab_type": "text"
      },
      "source": [
        "<a href=\"https://colab.research.google.com/github/mr-nastik/new_test_sub/blob/master/final_submission.ipynb\" target=\"_parent\"><img src=\"https://colab.research.google.com/assets/colab-badge.svg\" alt=\"Open In Colab\"/></a>"
      ]
    },
    {
      "cell_type": "code",
      "metadata": {
        "id": "dbT_chhwAxgK",
        "colab_type": "code",
        "colab": {
          "base_uri": "https://localhost:8080/",
          "height": 34
        },
        "outputId": "68236684-65cd-45eb-a712-5353abc46c9d"
      },
      "source": [
        "from google.colab import drive\n",
        "drive.mount('/content/drive')"
      ],
      "execution_count": 1,
      "outputs": [
        {
          "output_type": "stream",
          "text": [
            "Drive already mounted at /content/drive; to attempt to forcibly remount, call drive.mount(\"/content/drive\", force_remount=True).\n"
          ],
          "name": "stdout"
        }
      ]
    },
    {
      "cell_type": "code",
      "metadata": {
        "id": "4X14suGDA-zh",
        "colab_type": "code",
        "colab": {}
      },
      "source": [
        "PATH='/content/drive/My Drive/bengaliai-cv19/'\n",
        "HEIGHT = 137\n",
        "WIDTH = 236\n",
        "SIZE = 128\n",
        "batch_size = 256\n",
        "epochs = 32"
      ],
      "execution_count": 0,
      "outputs": []
    },
    {
      "cell_type": "markdown",
      "metadata": {
        "id": "ci8aGAQ3jlVT",
        "colab_type": "text"
      },
      "source": [
        "# **modules which we need**"
      ]
    },
    {
      "cell_type": "code",
      "metadata": {
        "id": "c5Qrei5CA4OT",
        "colab_type": "code",
        "colab": {
          "base_uri": "https://localhost:8080/",
          "height": 87
        },
        "outputId": "f89118ae-b5e5-44ab-a62d-5a83145805ff"
      },
      "source": [
        "\n",
        "#module for model\n",
        "\n",
        "import keras\n",
        "from keras.models import Sequential\n",
        "from keras.layers.core import Dense, Dropout, Activation, Flatten\n",
        "from keras.layers.convolutional import Convolution2D, MaxPooling2D\n",
        "from keras.preprocessing.image import ImageDataGenerator\n",
        "from keras.models import Model\n",
        "from keras.models import clone_model\n",
        "from keras.layers import Dense,Conv2D,Flatten,MaxPool2D,Dropout,BatchNormalization, Input\n",
        "from keras.optimizers import Adam\n",
        "from keras.callbacks import ReduceLROnPlateau\n",
        "\n",
        "#for data handaling\n",
        "from tqdm.auto import tqdm\n",
        "import numpy as np\n",
        "import pandas as pd \n",
        "\n",
        "#for image processing\n",
        "import cv2\n",
        "from PIL import Image\n",
        "import matplotlib.pyplot as plt\n",
        "import seaborn as sns\n",
        "\n",
        "#for calc accuaracy and spliting the data\n",
        "from sklearn.metrics import accuracy_score\n",
        "from sklearn.ensemble import RandomForestClassifier\n",
        "from sklearn.model_selection import train_test_split\n",
        "%matplotlib inline"
      ],
      "execution_count": 3,
      "outputs": [
        {
          "output_type": "stream",
          "text": [
            "Using TensorFlow backend.\n",
            "/usr/local/lib/python3.6/dist-packages/statsmodels/tools/_testing.py:19: FutureWarning: pandas.util.testing is deprecated. Use the functions in the public API at pandas.testing instead.\n",
            "  import pandas.util.testing as tm\n"
          ],
          "name": "stderr"
        }
      ]
    },
    {
      "cell_type": "markdown",
      "metadata": {
        "id": "bM_scyDLET1k",
        "colab_type": "text"
      },
      "source": [
        "# **Function for Cropping and resiing the given image data to own**"
      ]
    },
    {
      "cell_type": "code",
      "metadata": {
        "id": "4x910KEBEK1J",
        "colab_type": "code",
        "colab": {}
      },
      "source": [
        "def crop_resize_image(image_df):\n",
        "    cropped_resized_img={}\n",
        "    for i in tqdm(range(len(image_df))):\n",
        "        image=image_df.iloc[i].values.reshape(HEIGHT,WIDTH)\n",
        "        _, thresh = cv2.threshold(image, 30, 255, cv2.THRESH_BINARY_INV + cv2.THRESH_OTSU)\n",
        "        contours, _ = cv2.findContours(thresh,cv2.RETR_LIST,cv2.CHAIN_APPROX_SIMPLE)[-2:]\n",
        "        x_min=[]\n",
        "        x_max=[]\n",
        "        y_min=[]\n",
        "        y_max=[]\n",
        "        for cordinate in contours:\n",
        "            x,y,w,h=cv2.boundingRect(cordinate)\n",
        "            x_min.append(x)\n",
        "            x_max.append(x+w)\n",
        "            y_min.append(y)\n",
        "            y_max.append(y+h)\n",
        "        x1=min(x_min)\n",
        "        x2=max(x_max)\n",
        "        y1=min(y_min)\n",
        "        y2=max(y_max)\n",
        "        cropped_img=image[y1:y2,x1:x2]\n",
        "        resized_img=cv2.resize(cropped_img,(SIZE,SIZE),interpolation=cv2.INTER_AREA)\n",
        "        cropped_resized_img[i]=resized_img.reshape(-1)\n",
        "    return pd.DataFrame(cropped_resized_img).T"
      ],
      "execution_count": 0,
      "outputs": []
    },
    {
      "cell_type": "markdown",
      "metadata": {
        "id": "fMQHiLMSN5wC",
        "colab_type": "text"
      },
      "source": [
        "# **visualizing the train.csv data**"
      ]
    },
    {
      "cell_type": "code",
      "metadata": {
        "id": "vJfgbvVwEZUg",
        "colab_type": "code",
        "colab": {
          "base_uri": "https://localhost:8080/",
          "height": 269
        },
        "outputId": "2db36c17-0d65-4960-fc8b-7c5e1ee92b8f"
      },
      "source": [
        "df=pd.read_csv(PATH+'input/train.csv')\n",
        "print(df.head())\n",
        "print(df.tail())\n",
        "print(\"shape of train.csv: \",df.shape)"
      ],
      "execution_count": 5,
      "outputs": [
        {
          "output_type": "stream",
          "text": [
            "  image_id  grapheme_root  vowel_diacritic  consonant_diacritic grapheme\n",
            "0  Train_0             15                9                    5   ক্ট্রো\n",
            "1  Train_1            159                0                    0        হ\n",
            "2  Train_2             22                3                    5     খ্রী\n",
            "3  Train_3             53                2                    2     র্টি\n",
            "4  Train_4             71                9                    5     থ্রো\n",
            "            image_id  grapheme_root  ...  consonant_diacritic  grapheme\n",
            "200835  Train_200835             22  ...                    2      র্খে\n",
            "200836  Train_200836             65  ...                    0      ত্তো\n",
            "200837  Train_200837              2  ...                    4      অ্যা\n",
            "200838  Train_200838            152  ...                    0      স্নো\n",
            "200839  Train_200839            127  ...                    0      ল্টি\n",
            "\n",
            "[5 rows x 5 columns]\n",
            "shape of train.csv:  (200840, 5)\n"
          ],
          "name": "stdout"
        }
      ]
    },
    {
      "cell_type": "code",
      "metadata": {
        "id": "n42tB-Kdc-w2",
        "colab_type": "code",
        "colab": {}
      },
      "source": [
        "def plot_count(feature, title, df, size=1):\n",
        "    '''\n",
        "    Plot count of classes of selected feature; feature is a categorical value\n",
        "    param: feature - the feature for which we present the distribution of classes\n",
        "    param: title - title to show in the plot\n",
        "    param: df - dataframe \n",
        "    param: size - size (from 1 to n), multiplied with 4 - size of plot\n",
        "    '''\n",
        "    f, ax = plt.subplots(1,1, figsize=(4*size,4))\n",
        "    total = float(len(df))\n",
        "    g = sns.countplot(df[feature], order = df[feature].value_counts().index[:30], palette='Set3')\n",
        "    g.set_title(\"Number and percentage of {}\".format(title))\n",
        "    if(size > 2):\n",
        "        plt.xticks(rotation=90, size=8)\n",
        "    for p in ax.patches:\n",
        "        height = p.get_height()\n",
        "        ax.text(p.get_x()+p.get_width()/2.,\n",
        "                height + 3,\n",
        "                '{:1.2f}%'.format(100*height/total),\n",
        "                ha=\"center\") \n",
        "    plt.savefig('freq of '+feature+'.png', dpi=300, bbox_inches='tight')\n",
        "    plt.show() "
      ],
      "execution_count": 0,
      "outputs": []
    },
    {
      "cell_type": "code",
      "metadata": {
        "id": "cIOgpefRdABQ",
        "colab_type": "code",
        "colab": {
          "base_uri": "https://localhost:8080/",
          "height": 301
        },
        "outputId": "3f6c2c71-a07b-4d21-9e3b-93ba653ba261"
      },
      "source": [
        "plot_count('grapheme_root', 'grapheme_root (first most frequent 30 values - train)', df, size=4)"
      ],
      "execution_count": 7,
      "outputs": [
        {
          "output_type": "display_data",
          "data": {
            "image/png": "[encoded data removed]",
            "text/plain": [
              "<Figure size 1152x288 with 1 Axes>"
            ]
          },
          "metadata": {
            "tags": [],
            "needs_background": "light"
          }
        }
      ]
    },
    {
      "cell_type": "code",
      "metadata": {
        "id": "by3OyPjidFH9",
        "colab_type": "code",
        "colab": {
          "base_uri": "https://localhost:8080/",
          "height": 296
        },
        "outputId": "af59f88f-288e-4901-84d4-53211ea3a789"
      },
      "source": [
        "plot_count('vowel_diacritic', 'vowel_diacritic (train)', df, size=3)"
      ],
      "execution_count": 8,
      "outputs": [
        {
          "output_type": "display_data",
          "data": {
            "image/png": "[encoded data removed]",
            "text/plain": [
              "<Figure size 864x288 with 1 Axes>"
            ]
          },
          "metadata": {
            "tags": [],
            "needs_background": "light"
          }
        }
      ]
    },
    {
      "cell_type": "code",
      "metadata": {
        "id": "Q6V46llodH2_",
        "colab_type": "code",
        "colab": {
          "base_uri": "https://localhost:8080/",
          "height": 291
        },
        "outputId": "9b53bb01-80ec-49bf-9503-a298f196c388"
      },
      "source": [
        "plot_count('consonant_diacritic', 'consonant_diacritic (train)', df, size=3)"
      ],
      "execution_count": 9,
      "outputs": [
        {
          "output_type": "display_data",
          "data": {
            "image/png": "[encoded data removed]",
            "text/plain": [
              "<Figure size 864x288 with 1 Axes>"
            ]
          },
          "metadata": {
            "tags": [],
            "needs_background": "light"
          }
        }
      ]
    },
    {
      "cell_type": "markdown",
      "metadata": {
        "id": "DNgb3E3-PYZa",
        "colab_type": "text"
      },
      "source": [
        "# **visualizing the test.csv data**"
      ]
    },
    {
      "cell_type": "code",
      "metadata": {
        "id": "RO_9rrzNPTJk",
        "colab_type": "code",
        "colab": {
          "base_uri": "https://localhost:8080/",
          "height": 235
        },
        "outputId": "09778dc0-cbb3-44b2-d707-d4c9ea9266f0"
      },
      "source": [
        "df=pd.read_csv(PATH+'input/test.csv')\n",
        "print(df.head())\n",
        "print(df.tail())\n",
        "print(\"shape of train.csv: \",df.shape)"
      ],
      "execution_count": 10,
      "outputs": [
        {
          "output_type": "stream",
          "text": [
            "                       row_id image_id            component\n",
            "0  Test_0_consonant_diacritic   Test_0  consonant_diacritic\n",
            "1        Test_0_grapheme_root   Test_0        grapheme_root\n",
            "2      Test_0_vowel_diacritic   Test_0      vowel_diacritic\n",
            "3  Test_1_consonant_diacritic   Test_1  consonant_diacritic\n",
            "4        Test_1_grapheme_root   Test_1        grapheme_root\n",
            "                         row_id image_id            component\n",
            "31        Test_10_grapheme_root  Test_10        grapheme_root\n",
            "32      Test_10_vowel_diacritic  Test_10      vowel_diacritic\n",
            "33  Test_11_consonant_diacritic  Test_11  consonant_diacritic\n",
            "34        Test_11_grapheme_root  Test_11        grapheme_root\n",
            "35      Test_11_vowel_diacritic  Test_11      vowel_diacritic\n",
            "shape of train.csv:  (36, 3)\n"
          ],
          "name": "stdout"
        }
      ]
    },
    {
      "cell_type": "markdown",
      "metadata": {
        "id": "WLUFc3CfN-8z",
        "colab_type": "text"
      },
      "source": [
        "# **visualizing the train image data parquet file**"
      ]
    },
    {
      "cell_type": "code",
      "metadata": {
        "id": "u3Zny90WFMJ2",
        "colab_type": "code",
        "colab": {
          "base_uri": "https://localhost:8080/",
          "height": 302
        },
        "outputId": "11adfee9-01aa-46da-aa74-d4d3fe3e06a8"
      },
      "source": [
        "df=pd.read_parquet(PATH+'input/train_image_data_3.parquet')\n",
        "print(df.head())\n",
        "print(df.tail())\n",
        "print(\"shape of train_image_data_3.parquet: \",df.shape)"
      ],
      "execution_count": 11,
      "outputs": [
        {
          "output_type": "stream",
          "text": [
            "       image_id    0    1    2    3  ...  32327  32328  32329  32330  32331\n",
            "0  Train_150630  246  245  244  244  ...    251    251    252    253    252\n",
            "1  Train_150631  213  241  247  247  ...    196    194    192    175    117\n",
            "2  Train_150632  253  253  252  252  ...    253    253    253    253    253\n",
            "3  Train_150633  252  252  252  252  ...    255    255    255    255    255\n",
            "4  Train_150634  255  255  255  255  ...    255    255    255    255    255\n",
            "\n",
            "[5 rows x 32333 columns]\n",
            "           image_id    0    1    2    3  ...  32327  32328  32329  32330  32331\n",
            "50205  Train_200835  236  233  237  233  ...    255    255    255    255    255\n",
            "50206  Train_200836  250  250  252  252  ...    253    253    254    254    253\n",
            "50207  Train_200837  255  255  255  255  ...    253    253    253    253    253\n",
            "50208  Train_200838  246  246  244  242  ...    250    253    252    251    252\n",
            "50209  Train_200839  211  243  250  250  ...    205    203    202    165     86\n",
            "\n",
            "[5 rows x 32333 columns]\n",
            "shape of train_image_data_3.parquet:  (50210, 32333)\n"
          ],
          "name": "stdout"
        }
      ]
    },
    {
      "cell_type": "markdown",
      "metadata": {
        "id": "da61pd6rNaiI",
        "colab_type": "text"
      },
      "source": [
        " **Visualizing the training set image**"
      ]
    },
    {
      "cell_type": "code",
      "metadata": {
        "id": "f_o7rE_qF518",
        "colab_type": "code",
        "colab": {
          "base_uri": "https://localhost:8080/",
          "height": 398
        },
        "outputId": "7d60fe7b-a9f5-41d8-ee69-2d4881ccc6ce"
      },
      "source": [
        "df=df.drop(columns='image_id')\n",
        "img=df.iloc[1].values.reshape(137,236).astype(float)\n",
        "print(img)\n",
        "print(\"shape of real img: \",img.shape)\n",
        "plt.imshow(img)"
      ],
      "execution_count": 12,
      "outputs": [
        {
          "output_type": "stream",
          "text": [
            "[[213. 241. 247. ... 248. 230. 144.]\n",
            " [220. 247. 249. ... 249. 223. 145.]\n",
            " [215. 246. 249. ... 247. 220. 139.]\n",
            " ...\n",
            " [225. 245. 249. ... 239. 209. 126.]\n",
            " [221. 242. 245. ... 238. 211. 131.]\n",
            " [185. 205. 208. ... 192. 175. 117.]]\n",
            "shape of real img:  (137, 236)\n"
          ],
          "name": "stdout"
        },
        {
          "output_type": "execute_result",
          "data": {
            "text/plain": [
              "<matplotlib.image.AxesImage at 0x7f419e3ec588>"
            ]
          },
          "metadata": {
            "tags": []
          },
          "execution_count": 12
        },
        {
          "output_type": "display_data",
          "data": {
            "image/png": "[encoded data removed]",
            "text/plain": [
              "<Figure size 432x288 with 1 Axes>"
            ]
          },
          "metadata": {
            "tags": [],
            "needs_background": "light"
          }
        }
      ]
    },
    {
      "cell_type": "markdown",
      "metadata": {
        "id": "HsWxEODANjo3",
        "colab_type": "text"
      },
      "source": [
        " **visualizing the cropped and resized image**"
      ]
    },
    {
      "cell_type": "code",
      "metadata": {
        "id": "nGTDY2YDNAuP",
        "colab_type": "code",
        "colab": {
          "base_uri": "https://localhost:8080/",
          "height": 468,
          "referenced_widgets": [
            "d746b8ae383a4db5aa9f02f3b17723eb",
            "a8f3f68e7c144ef890a2d35c7bf76166",
            "c5c3d94d3a1046279b6ec38ae9499e7d",
            "f96564d603aa4a49a3f5fb448c2b1746",
            "aab7dc5397cf4e60bdf9e8f3e49cbfaf",
            "7242b085a297465da3d642431b4b6eb2",
            "01113e6882d741129d35dd3d2ccc9af2",
            "fa2bd12a58a9433f979be43c682143e7"
          ]
        },
        "outputId": "e887681a-daa2-4283-c256-571c81980c7d"
      },
      "source": [
        "df=crop_resize_image(df)\n",
        "img=df.iloc[1].values.reshape(128,128).astype(float)\n",
        "print(img)\n",
        "print(\"shape of cropped image: \",img.shape)\n",
        "plt.imshow(img)"
      ],
      "execution_count": 13,
      "outputs": [
        {
          "output_type": "display_data",
          "data": {
            "application/vnd.jupyter.widget-view+json": {
              "model_id": "d746b8ae383a4db5aa9f02f3b17723eb",
              "version_minor": 0,
              "version_major": 2
            },
            "text/plain": [
              "HBox(children=(FloatProgress(value=0.0, max=50210.0), HTML(value='')))"
            ]
          },
          "metadata": {
            "tags": []
          }
        },
        {
          "output_type": "stream",
          "text": [
            "\n",
            "[[247. 246. 245. ... 248. 239. 165.]\n",
            " [252. 252. 251. ... 251. 235. 163.]\n",
            " [253. 253. 253. ... 250. 235. 159.]\n",
            " ...\n",
            " [252. 250. 250. ... 246. 226. 150.]\n",
            " [249. 249. 249. ... 242. 224. 150.]\n",
            " [214. 212. 209. ... 197. 186. 132.]]\n",
            "shape of cropped image:  (128, 128)\n"
          ],
          "name": "stdout"
        },
        {
          "output_type": "execute_result",
          "data": {
            "text/plain": [
              "<matplotlib.image.AxesImage at 0x7f419dd7a4e0>"
            ]
          },
          "metadata": {
            "tags": []
          },
          "execution_count": 13
        },
        {
          "output_type": "display_data",
          "data": {
            "image/png": "[encoded data removed]",
            "text/plain": [
              "<Figure size 432x288 with 1 Axes>"
            ]
          },
          "metadata": {
            "tags": [],
            "needs_background": "light"
          }
        }
      ]
    },
    {
      "cell_type": "markdown",
      "metadata": {
        "id": "WuyCpqOtOLri",
        "colab_type": "text"
      },
      "source": [
        "# **visualizing the train image data parquet file**"
      ]
    },
    {
      "cell_type": "code",
      "metadata": {
        "id": "ChQFGozvFzAK",
        "colab_type": "code",
        "colab": {
          "base_uri": "https://localhost:8080/",
          "height": 235
        },
        "outputId": "e4d838c4-0912-45fc-c432-ea6ac336a81a"
      },
      "source": [
        "df=pd.read_parquet(PATH+'input/test_image_data_3.parquet')\n",
        "print(df.head())\n",
        "print(df.tail())\n",
        "print(\"shape of test_image_data_3.parquet: \",df.shape)"
      ],
      "execution_count": 14,
      "outputs": [
        {
          "output_type": "stream",
          "text": [
            "  image_id    0    1    2    3    4  ...  32326  32327  32328  32329  32330  32331\n",
            "0   Test_9  250  251  249  248  248  ...    252    253    254    253    253    253\n",
            "1  Test_10  245  246  248  249  250  ...    254    254    254    254    254    254\n",
            "2  Test_11  252  252  252  252  252  ...    253    253    253    253    253    252\n",
            "\n",
            "[3 rows x 32333 columns]\n",
            "  image_id    0    1    2    3    4  ...  32326  32327  32328  32329  32330  32331\n",
            "0   Test_9  250  251  249  248  248  ...    252    253    254    253    253    253\n",
            "1  Test_10  245  246  248  249  250  ...    254    254    254    254    254    254\n",
            "2  Test_11  252  252  252  252  252  ...    253    253    253    253    253    252\n",
            "\n",
            "[3 rows x 32333 columns]\n",
            "shape of test_image_data_3.parquet:  (3, 32333)\n"
          ],
          "name": "stdout"
        }
      ]
    },
    {
      "cell_type": "markdown",
      "metadata": {
        "id": "NC8DIO-MNsq2",
        "colab_type": "text"
      },
      "source": [
        " **visualizing the test image**"
      ]
    },
    {
      "cell_type": "code",
      "metadata": {
        "id": "CYMhCGt6Jlnk",
        "colab_type": "code",
        "colab": {
          "base_uri": "https://localhost:8080/",
          "height": 398
        },
        "outputId": "0658e5c4-8958-4c86-f19b-b7e9add50a0f"
      },
      "source": [
        "df=df.drop(columns='image_id')\n",
        "img=df.iloc[1].values.reshape(137,236).astype(float)\n",
        "print(img)\n",
        "print(\"shape of real img: \",img.shape)\n",
        "plt.imshow(img)"
      ],
      "execution_count": 15,
      "outputs": [
        {
          "output_type": "stream",
          "text": [
            "[[245. 246. 248. ... 247. 245. 247.]\n",
            " [251. 251. 250. ... 250. 249. 252.]\n",
            " [250. 251. 251. ... 251. 251. 253.]\n",
            " ...\n",
            " [253. 255. 255. ... 255. 255. 255.]\n",
            " [252. 254. 254. ... 255. 255. 255.]\n",
            " [250. 253. 253. ... 254. 254. 254.]]\n",
            "shape of real img:  (137, 236)\n"
          ],
          "name": "stdout"
        },
        {
          "output_type": "execute_result",
          "data": {
            "text/plain": [
              "<matplotlib.image.AxesImage at 0x7f419de66550>"
            ]
          },
          "metadata": {
            "tags": []
          },
          "execution_count": 15
        },
        {
          "output_type": "display_data",
          "data": {
            "image/png": "[encoded data removed]",
            "text/plain": [
              "<Figure size 432x288 with 1 Axes>"
            ]
          },
          "metadata": {
            "tags": [],
            "needs_background": "light"
          }
        }
      ]
    },
    {
      "cell_type": "markdown",
      "metadata": {
        "id": "49wEtEc_NyYJ",
        "colab_type": "text"
      },
      "source": [
        " **visualizing the test cropped and resized image**"
      ]
    },
    {
      "cell_type": "code",
      "metadata": {
        "id": "eT9Mikb7JtEK",
        "colab_type": "code",
        "colab": {
          "base_uri": "https://localhost:8080/",
          "height": 468,
          "referenced_widgets": [
            "f62d42ea3dff4258bdd918fa1e6b371c",
            "067d181296fa4162acb3c5776b3c592e",
            "b00fded0d7984ba391047ad1a4e3806b",
            "6f2c5f0103444a5392fd353d2256d225",
            "2d4357684e52491cbaec46c92e0c2afd",
            "8a54f802e230491087a218d12e8e7a5e",
            "155514783f71450b8c3c1b4ed4c59731",
            "6e4cd279e5ce41ac984a3f8eed28363c"
          ]
        },
        "outputId": "a89bc8d9-2971-402d-b06b-0072418e6a70"
      },
      "source": [
        "df=crop_resize_image(df)\n",
        "img=df.iloc[1].values.reshape(128,128).astype(float)\n",
        "print(img)\n",
        "print(\"shape of cropped image: \",img.shape)\n",
        "plt.imshow(img)"
      ],
      "execution_count": 16,
      "outputs": [
        {
          "output_type": "display_data",
          "data": {
            "application/vnd.jupyter.widget-view+json": {
              "model_id": "f62d42ea3dff4258bdd918fa1e6b371c",
              "version_minor": 0,
              "version_major": 2
            },
            "text/plain": [
              "HBox(children=(FloatProgress(value=0.0, max=3.0), HTML(value='')))"
            ]
          },
          "metadata": {
            "tags": []
          }
        },
        {
          "output_type": "stream",
          "text": [
            "\n",
            "[[254. 254. 254. ... 253. 253. 253.]\n",
            " [253. 254. 254. ... 253. 253. 253.]\n",
            " [253. 254. 254. ... 253. 253. 253.]\n",
            " ...\n",
            " [255. 255. 255. ... 255. 255. 255.]\n",
            " [254. 254. 254. ... 254. 254. 254.]\n",
            " [254. 254. 254. ... 254. 254. 254.]]\n",
            "shape of cropped image:  (128, 128)\n"
          ],
          "name": "stdout"
        },
        {
          "output_type": "execute_result",
          "data": {
            "text/plain": [
              "<matplotlib.image.AxesImage at 0x7f419e3fd080>"
            ]
          },
          "metadata": {
            "tags": []
          },
          "execution_count": 16
        },
        {
          "output_type": "display_data",
          "data": {
            "image/png": "[encoded data removed]",
            "text/plain": [
              "<Figure size 432x288 with 1 Axes>"
            ]
          },
          "metadata": {
            "tags": [],
            "needs_background": "light"
          }
        }
      ]
    },
    {
      "cell_type": "markdown",
      "metadata": {
        "id": "1Q4vZ4keOrHZ",
        "colab_type": "text"
      },
      "source": [
        "# **visualizing the sample submission file**"
      ]
    },
    {
      "cell_type": "code",
      "metadata": {
        "id": "22XEsVLGNUCp",
        "colab_type": "code",
        "colab": {
          "base_uri": "https://localhost:8080/",
          "height": 235
        },
        "outputId": "b2531818-2c1d-4020-f415-9b16a2ba8b6b"
      },
      "source": [
        "df=pd.read_csv(PATH+'input/sample_submission.csv')\n",
        "print(df.head())\n",
        "print(df.tail())\n",
        "print(\"shape of train.csv: \",df.shape)"
      ],
      "execution_count": 17,
      "outputs": [
        {
          "output_type": "stream",
          "text": [
            "                       row_id  target\n",
            "0  Test_0_consonant_diacritic       0\n",
            "1        Test_0_grapheme_root       0\n",
            "2      Test_0_vowel_diacritic       0\n",
            "3  Test_1_consonant_diacritic       0\n",
            "4        Test_1_grapheme_root       0\n",
            "                         row_id  target\n",
            "31        Test_10_grapheme_root       0\n",
            "32      Test_10_vowel_diacritic       0\n",
            "33  Test_11_consonant_diacritic       0\n",
            "34        Test_11_grapheme_root       0\n",
            "35      Test_11_vowel_diacritic       0\n",
            "shape of train.csv:  (36, 2)\n"
          ],
          "name": "stdout"
        }
      ]
    },
    {
      "cell_type": "markdown",
      "metadata": {
        "id": "7LAusZhfPhyG",
        "colab_type": "text"
      },
      "source": [
        "# **Simple CNN Model using keras**"
      ]
    },
    {
      "cell_type": "code",
      "metadata": {
        "id": "en6V0z4YPIet",
        "colab_type": "code",
        "colab": {}
      },
      "source": [
        "inputs= Input(shape=(SIZE,SIZE,1))\n",
        "model=Conv2D(filters=32,kernel_size=(5,5),padding='SAME',activation='relu',input_shape=(SIZE,SIZE,1))(inputs)\n",
        "model=BatchNormalization(momentum=0.2)(model)\n",
        "model=Conv2D(filters=32,kernel_size=(3,3),padding='SAME',activation='relu')(model)\n",
        "model=Conv2D(filters=32,kernel_size=(3,3),padding='SAME',activation='relu')(model)\n",
        "model=Conv2D(filters=32,kernel_size=(3,3),padding='SAME',activation='relu')(model)\n",
        "model=Conv2D(filters=32,kernel_size=(3,3),padding='SAME',activation='relu')(model)\n",
        "model=MaxPool2D(pool_size=(2,2))(model)\n",
        "\n",
        "model=Conv2D(filters=64,kernel_size=(3,3),padding='SAME',activation='relu')(model)\n",
        "model=Conv2D(filters=64,kernel_size=(3,3),padding='SAME',activation='relu')(model)\n",
        "model=Conv2D(filters=64,kernel_size=(3,3),padding='SAME',activation='relu')(model)\n",
        "\n",
        "model=MaxPool2D(pool_size=(2,2))(model)\n",
        "\n",
        "model=Conv2D(filters=128,kernel_size=(3,3),padding='SAME',activation='relu')(model)\n",
        "model=Conv2D(filters=128,kernel_size=(3,3),padding='SAME',activation='relu')(model)\n",
        "model=MaxPool2D(pool_size=(2,2))(model)\n",
        "\n",
        "model=Conv2D(filters=128,kernel_size=(3,3),padding='SAME',activation='relu')(model)\n",
        "model=BatchNormalization(momentum=0.2)(model)\n",
        "model=MaxPool2D(pool_size=(2,2))(model)\n",
        "\n",
        "model=Conv2D(filters=128,kernel_size=(3,3),padding='SAME',activation='relu')(model)\n",
        "model=MaxPool2D(pool_size=(2,2))(model)\n",
        "\n",
        "model=Flatten()(model)\n",
        "model=Dense(1024,activation='relu')(model)\n",
        "model=BatchNormalization(momentum=0.2)(model)\n",
        "model=Dense(512,activation='relu')(model)\n",
        "model=BatchNormalization(momentum=0.2)(model)\n",
        "\n",
        "root=Dense(168,activation='softmax',name='root')(model)\n",
        "vowel=Dense(11,activation='softmax',name='vowel')(model)\n",
        "consonant=Dense(7,activation='softmax',name='consonant')(model)\n",
        "\n",
        "model=Model(inputs=inputs,outputs=[root,vowel,consonant])"
      ],
      "execution_count": 0,
      "outputs": []
    },
    {
      "cell_type": "code",
      "metadata": {
        "id": "shTZPqenP74l",
        "colab_type": "code",
        "colab": {
          "base_uri": "https://localhost:8080/",
          "height": 1000
        },
        "outputId": "b2c30819-5a46-4822-a9ce-a0385c54c6bd"
      },
      "source": [
        "model.summary()"
      ],
      "execution_count": 19,
      "outputs": [
        {
          "output_type": "stream",
          "text": [
            "Model: \"model_1\"\n",
            "__________________________________________________________________________________________________\n",
            "Layer (type)                    Output Shape         Param #     Connected to                     \n",
            "==================================================================================================\n",
            "input_1 (InputLayer)            (None, 128, 128, 1)  0                                            \n",
            "__________________________________________________________________________________________________\n",
            "conv2d_1 (Conv2D)               (None, 128, 128, 32) 832         input_1[0][0]                    \n",
            "__________________________________________________________________________________________________\n",
            "batch_normalization_1 (BatchNor (None, 128, 128, 32) 128         conv2d_1[0][0]                   \n",
            "__________________________________________________________________________________________________\n",
            "conv2d_2 (Conv2D)               (None, 128, 128, 32) 9248        batch_normalization_1[0][0]      \n",
            "__________________________________________________________________________________________________\n",
            "conv2d_3 (Conv2D)               (None, 128, 128, 32) 9248        conv2d_2[0][0]                   \n",
            "__________________________________________________________________________________________________\n",
            "conv2d_4 (Conv2D)               (None, 128, 128, 32) 9248        conv2d_3[0][0]                   \n",
            "__________________________________________________________________________________________________\n",
            "conv2d_5 (Conv2D)               (None, 128, 128, 32) 9248        conv2d_4[0][0]                   \n",
            "__________________________________________________________________________________________________\n",
            "max_pooling2d_1 (MaxPooling2D)  (None, 64, 64, 32)   0           conv2d_5[0][0]                   \n",
            "__________________________________________________________________________________________________\n",
            "conv2d_6 (Conv2D)               (None, 64, 64, 64)   18496       max_pooling2d_1[0][0]            \n",
            "__________________________________________________________________________________________________\n",
            "conv2d_7 (Conv2D)               (None, 64, 64, 64)   36928       conv2d_6[0][0]                   \n",
            "__________________________________________________________________________________________________\n",
            "conv2d_8 (Conv2D)               (None, 64, 64, 64)   36928       conv2d_7[0][0]                   \n",
            "__________________________________________________________________________________________________\n",
            "max_pooling2d_2 (MaxPooling2D)  (None, 32, 32, 64)   0           conv2d_8[0][0]                   \n",
            "__________________________________________________________________________________________________\n",
            "conv2d_9 (Conv2D)               (None, 32, 32, 128)  73856       max_pooling2d_2[0][0]            \n",
            "__________________________________________________________________________________________________\n",
            "conv2d_10 (Conv2D)              (None, 32, 32, 128)  147584      conv2d_9[0][0]                   \n",
            "__________________________________________________________________________________________________\n",
            "max_pooling2d_3 (MaxPooling2D)  (None, 16, 16, 128)  0           conv2d_10[0][0]                  \n",
            "__________________________________________________________________________________________________\n",
            "conv2d_11 (Conv2D)              (None, 16, 16, 128)  147584      max_pooling2d_3[0][0]            \n",
            "__________________________________________________________________________________________________\n",
            "batch_normalization_2 (BatchNor (None, 16, 16, 128)  512         conv2d_11[0][0]                  \n",
            "__________________________________________________________________________________________________\n",
            "max_pooling2d_4 (MaxPooling2D)  (None, 8, 8, 128)    0           batch_normalization_2[0][0]      \n",
            "__________________________________________________________________________________________________\n",
            "conv2d_12 (Conv2D)              (None, 8, 8, 128)    147584      max_pooling2d_4[0][0]            \n",
            "__________________________________________________________________________________________________\n",
            "max_pooling2d_5 (MaxPooling2D)  (None, 4, 4, 128)    0           conv2d_12[0][0]                  \n",
            "__________________________________________________________________________________________________\n",
            "flatten_1 (Flatten)             (None, 2048)         0           max_pooling2d_5[0][0]            \n",
            "__________________________________________________________________________________________________\n",
            "dense_1 (Dense)                 (None, 1024)         2098176     flatten_1[0][0]                  \n",
            "__________________________________________________________________________________________________\n",
            "batch_normalization_3 (BatchNor (None, 1024)         4096        dense_1[0][0]                    \n",
            "__________________________________________________________________________________________________\n",
            "dense_2 (Dense)                 (None, 512)          524800      batch_normalization_3[0][0]      \n",
            "__________________________________________________________________________________________________\n",
            "batch_normalization_4 (BatchNor (None, 512)          2048        dense_2[0][0]                    \n",
            "__________________________________________________________________________________________________\n",
            "root (Dense)                    (None, 168)          86184       batch_normalization_4[0][0]      \n",
            "__________________________________________________________________________________________________\n",
            "vowel (Dense)                   (None, 11)           5643        batch_normalization_4[0][0]      \n",
            "__________________________________________________________________________________________________\n",
            "consonant (Dense)               (None, 7)            3591        batch_normalization_4[0][0]      \n",
            "==================================================================================================\n",
            "Total params: 3,371,962\n",
            "Trainable params: 3,368,570\n",
            "Non-trainable params: 3,392\n",
            "__________________________________________________________________________________________________\n"
          ],
          "name": "stdout"
        }
      ]
    },
    {
      "cell_type": "code",
      "metadata": {
        "id": "f4HMCSEOP_Om",
        "colab_type": "code",
        "colab": {
          "base_uri": "https://localhost:8080/",
          "height": 1000
        },
        "outputId": "07e3973a-9c4e-4d43-f856-75277d4afb87"
      },
      "source": [
        "from keras.utils import plot_model\n",
        "plot_model(model, to_file=PATH+'model_visual.png')"
      ],
      "execution_count": 20,
      "outputs": [
        {
          "output_type": "execute_result",
          "data": {
            "image/png": "[encoded data removed]",
            "text/plain": [
              "<IPython.core.display.Image object>"
            ]
          },
          "metadata": {
            "tags": []
          },
          "execution_count": 20
        }
      ]
    },
    {
      "cell_type": "markdown",
      "metadata": {
        "id": "YFFgmMmqQQMU",
        "colab_type": "text"
      },
      "source": [
        "**Setting up the reduce learning rate to increase accuracy**"
      ]
    },
    {
      "cell_type": "code",
      "metadata": {
        "id": "Ybq9SqYYQKt4",
        "colab_type": "code",
        "colab": {}
      },
      "source": [
        "lr_root=ReduceLROnPlateau(monitor='root_acc',factor=0.9,patience=3,min_lr=0.00001,verbose=1)\n",
        "lr_vowel=ReduceLROnPlateau(monitor='vowel_acc',factor=0.9,patience=3,min_lr=0.00001,verbose=1)\n",
        "lr_consonant=ReduceLROnPlateau(monitor='consonant_acc',factor=0.9,patience=3,min_lr=0.00001,verbose=1)"
      ],
      "execution_count": 0,
      "outputs": []
    },
    {
      "cell_type": "code",
      "metadata": {
        "id": "PeK2msX3Qitw",
        "colab_type": "code",
        "colab": {}
      },
      "source": [
        "model.compile(optimizer='adam', loss='categorical_crossentropy', metrics=['accuracy'])"
      ],
      "execution_count": 0,
      "outputs": []
    },
    {
      "cell_type": "markdown",
      "metadata": {
        "id": "TVPhDr_wQqhC",
        "colab_type": "text"
      },
      "source": [
        "\n",
        "[multiclassoutputgenerator class](https://github.com/keras-team/keras/issues/12639#issuecomment-506338552) for multioutput by a single model"
      ]
    },
    {
      "cell_type": "code",
      "metadata": {
        "id": "Dz4CBGw5Qlsa",
        "colab_type": "code",
        "colab": {}
      },
      "source": [
        "class MultiOutputDataGenerator(keras.preprocessing.image.ImageDataGenerator):\n",
        "\n",
        "    def flow(self,\n",
        "             x,\n",
        "             y=None,\n",
        "             batch_size=batch_size,\n",
        "             shuffle=True,\n",
        "             sample_weight=None,\n",
        "             seed=None,\n",
        "             save_to_dir=None,\n",
        "             save_prefix='',\n",
        "             save_format='png',\n",
        "             subset=None):\n",
        "\n",
        "        targets = None\n",
        "        target_lengths = {}\n",
        "        ordered_outputs = []\n",
        "        for output, target in y.items():\n",
        "            if targets is None:\n",
        "                targets = target\n",
        "            else:\n",
        "                targets = np.concatenate((targets, target), axis=1)\n",
        "            target_lengths[output] = target.shape[1]\n",
        "            ordered_outputs.append(output)\n",
        "\n",
        "\n",
        "        for flowx, flowy in super().flow(x, targets, batch_size=batch_size,shuffle=shuffle):\n",
        "            target_dict = {}\n",
        "            i = 0\n",
        "            for output in ordered_outputs:\n",
        "                target_length = target_lengths[output]\n",
        "                target_dict[output] = flowy[:, i: i + target_length]\n",
        "                i += target_length\n",
        "\n",
        "            yield flowx, target_dict"
      ],
      "execution_count": 0,
      "outputs": []
    },
    {
      "cell_type": "code",
      "metadata": {
        "id": "_lAzGdc5Q4kW",
        "colab_type": "code",
        "colab": {}
      },
      "source": [
        "def appendHist(h1, h2):\n",
        "    if h1 == {}:\n",
        "        return h2\n",
        "    else:\n",
        "        dest = {}\n",
        "        for key, value in h1.items():\n",
        "            dest[key] = value + h2[key]\n",
        "        return dest"
      ],
      "execution_count": 0,
      "outputs": []
    },
    {
      "cell_type": "markdown",
      "metadata": {
        "id": "WJ7YPxv-i6Ns",
        "colab_type": "text"
      },
      "source": [
        "# **Training**"
      ]
    },
    {
      "cell_type": "code",
      "metadata": {
        "id": "mN0KXsHoSNsG",
        "colab_type": "code",
        "colab": {
          "base_uri": "https://localhost:8080/",
          "height": 1000,
          "referenced_widgets": [
            "17670cef779541e496b7ca22796b70b7",
            "f325df73da2c4a12a59f38dc69f8c216",
            "ae58bc6c95754c2ca9c768c5e38234d0",
            "86b53728e4124c60a199d0d4658f03df",
            "a430aa69e8bb4f6095e3b5243bd98a11",
            "dec86d9839114bc7986ac973bcf83586",
            "204e6f3e475247f1a4c57378a8d608a0",
            "5e238b02730c409d9feb1bb361ac452d",
            "d95470197f0542958d12bb5272731e81",
            "4223c3d227f8421ca9c40779db9931e6",
            "d08a3d087b574605b000405e3b9c03d6",
            "219e80d145fe4982a4f72a107f376113",
            "07f7988262fb4bcab2cc5eec8d39e823",
            "fe17539348d04789b39958ef74210f82",
            "ebd83ba8841a491b824a322dae51658f",
            "b890a3ba1fba4f0897b58b39b705ef3a",
            "29a64a2d3fdd41cb857a5fcb57997b4c",
            "34cf5d3f09db42508885ccfd7d92ba13",
            "33666baf089d4945b14615e4504f4d11",
            "25a9fa454a0a41f896297326d214db3a",
            "4ff14178f65541f9ae75e73eb338a7e9",
            "5560f36397e4436c9c5b05701846f3c1",
            "f8b74b1178cc40548e393f3f27472345",
            "12074122bdad42c5b0e474182d6d1a0d"
          ]
        },
        "outputId": "bacd74df-8111-4903-f46b-8e7a72979a79"
      },
      "source": [
        "train_image_info=pd.read_csv(PATH+'input/train.csv')\n",
        "\n",
        "records={}\n",
        "\n",
        "for i in range(3):\n",
        "    train_image=pd.read_parquet(PATH+'input/train_image_data_'+str(i)+'.parquet').drop(['image_id'],axis=1)\n",
        "    \n",
        "    Y_train=train_image_info[i*50210:(i+1)*50210]\n",
        "    X_train=crop_resize_image(train_image).values.reshape(-1,SIZE,SIZE,1)\n",
        "    #plt.imshow(train_image.iloc[100].values.reshape(HEIGHT,WIDTH))\n",
        "    del train_image\n",
        "\n",
        "    #plt.imshow(X_train[100])\n",
        "    #print(Y_train.iloc[100])\n",
        "    #print('splitting about to start')\n",
        "\n",
        "    x_train, x_test, y_train, y_test = train_test_split(X_train, Y_train, test_size=0.2, random_state=13)\n",
        "    del X_train\n",
        "    del Y_train\n",
        "    #print('splitting completed')\n",
        "\n",
        "    data_generator=MultiOutputDataGenerator()\n",
        "    data_generator.fit(x_train)\n",
        "    #print('fitting completed')\n",
        "\n",
        "    y_train_root = pd.get_dummies(y_train['grapheme_root']).values\n",
        "    y_train_vowel = pd.get_dummies(y_train['vowel_diacritic']).values\n",
        "    y_train_consonant = pd.get_dummies(y_train['consonant_diacritic']).values\n",
        "    \n",
        "    y_test_root = pd.get_dummies(y_test['grapheme_root']).values\n",
        "    y_test_vowel = pd.get_dummies(y_test['vowel_diacritic']).values\n",
        "    y_test_consonant = pd.get_dummies(y_test['consonant_diacritic']).values\n",
        "\n",
        "    del y_train\n",
        "    del y_test\n",
        "\n",
        "    #print('learning about to start')\n",
        "    result=model.fit_generator(\n",
        "        data_generator.flow(\n",
        "            x_train,\n",
        "            {\n",
        "                'root':y_train_root,'vowel':y_train_vowel,'consonant':y_train_consonant\n",
        "            },\n",
        "            batch_size=batch_size\n",
        "        ),\n",
        "        epochs=epochs,\n",
        "        validation_data=(x_test,[y_test_root,y_test_vowel,y_test_consonant]),\n",
        "        steps_per_epoch=y_train_root.shape[0]//batch_size,\n",
        "        callbacks=[lr_root,lr_vowel,lr_consonant]\n",
        "    )\n",
        "    del x_train\n",
        "    del x_test\n",
        "    del y_train_root\n",
        "    del y_train_vowel\n",
        "    del y_train_consonant\n",
        "    del y_test_root\n",
        "    del y_test_vowel\n",
        "    del y_test_consonant\n",
        "\n",
        "    records=appendHist(records,result.history) "
      ],
      "execution_count": 25,
      "outputs": [
        {
          "output_type": "display_data",
          "data": {
            "application/vnd.jupyter.widget-view+json": {
              "model_id": "17670cef779541e496b7ca22796b70b7",
              "version_minor": 0,
              "version_major": 2
            },
            "text/plain": [
              "HBox(children=(FloatProgress(value=0.0, max=50210.0), HTML(value='')))"
            ]
          },
          "metadata": {
            "tags": []
          }
        },
        {
          "output_type": "stream",
          "text": [
            "\n",
            "Epoch 1/32\n",
            "156/156 [==============================] - 258s 2s/step - loss: 5.7130 - root_loss: 3.9777 - vowel_loss: 0.8682 - consonant_loss: 0.8671 - root_accuracy: 0.1554 - vowel_accuracy: 0.7199 - consonant_accuracy: 0.7340 - val_loss: 3.6925 - val_root_loss: 2.7069 - val_vowel_loss: 0.5287 - val_consonant_loss: 0.4511 - val_root_accuracy: 0.3163 - val_vowel_accuracy: 0.8243 - val_consonant_accuracy: 0.8513\n",
            "Epoch 2/32\n"
          ],
          "name": "stdout"
        },
        {
          "output_type": "stream",
          "text": [
            "/usr/local/lib/python3.6/dist-packages/keras/callbacks/callbacks.py:1042: RuntimeWarning: Reduce LR on plateau conditioned on metric `root_acc` which is not available. Available metrics are: val_loss,val_root_loss,val_vowel_loss,val_consonant_loss,val_root_accuracy,val_vowel_accuracy,val_consonant_accuracy,loss,root_loss,vowel_loss,consonant_loss,root_accuracy,vowel_accuracy,consonant_accuracy,lr\n",
            "  (self.monitor, ','.join(list(logs.keys()))), RuntimeWarning\n",
            "/usr/local/lib/python3.6/dist-packages/keras/callbacks/callbacks.py:1042: RuntimeWarning: Reduce LR on plateau conditioned on metric `vowel_acc` which is not available. Available metrics are: val_loss,val_root_loss,val_vowel_loss,val_consonant_loss,val_root_accuracy,val_vowel_accuracy,val_consonant_accuracy,loss,root_loss,vowel_loss,consonant_loss,root_accuracy,vowel_accuracy,consonant_accuracy,lr\n",
            "  (self.monitor, ','.join(list(logs.keys()))), RuntimeWarning\n",
            "/usr/local/lib/python3.6/dist-packages/keras/callbacks/callbacks.py:1042: RuntimeWarning: Reduce LR on plateau conditioned on metric `consonant_acc` which is not available. Available metrics are: val_loss,val_root_loss,val_vowel_loss,val_consonant_loss,val_root_accuracy,val_vowel_accuracy,val_consonant_accuracy,loss,root_loss,vowel_loss,consonant_loss,root_accuracy,vowel_accuracy,consonant_accuracy,lr\n",
            "  (self.monitor, ','.join(list(logs.keys()))), RuntimeWarning\n"
          ],
          "name": "stderr"
        },
        {
          "output_type": "stream",
          "text": [
            "156/156 [==============================] - 254s 2s/step - loss: 2.4865 - root_loss: 1.7963 - vowel_loss: 0.3578 - consonant_loss: 0.3325 - root_accuracy: 0.5285 - vowel_accuracy: 0.8836 - consonant_accuracy: 0.8913 - val_loss: 2.2136 - val_root_loss: 1.5642 - val_vowel_loss: 0.3416 - val_consonant_loss: 0.3074 - val_root_accuracy: 0.5772 - val_vowel_accuracy: 0.8888 - val_consonant_accuracy: 0.8944\n",
            "Epoch 3/32\n",
            "156/156 [==============================] - 250s 2s/step - loss: 1.4091 - root_loss: 0.9648 - vowel_loss: 0.2286 - consonant_loss: 0.2156 - root_accuracy: 0.7354 - vowel_accuracy: 0.9273 - consonant_accuracy: 0.9275 - val_loss: 1.5279 - val_root_loss: 1.0470 - val_vowel_loss: 0.2487 - val_consonant_loss: 0.2295 - val_root_accuracy: 0.7029 - val_vowel_accuracy: 0.9192 - val_consonant_accuracy: 0.9240\n",
            "Epoch 4/32\n",
            "156/156 [==============================] - 249s 2s/step - loss: 0.8972 - root_loss: 0.5959 - vowel_loss: 0.1553 - consonant_loss: 0.1461 - root_accuracy: 0.8366 - vowel_accuracy: 0.9520 - consonant_accuracy: 0.9524 - val_loss: 1.3984 - val_root_loss: 0.9340 - val_vowel_loss: 0.2510 - val_consonant_loss: 0.2143 - val_root_accuracy: 0.7317 - val_vowel_accuracy: 0.9197 - val_consonant_accuracy: 0.9307\n",
            "Epoch 5/32\n",
            "156/156 [==============================] - 248s 2s/step - loss: 0.5702 - root_loss: 0.3683 - vowel_loss: 0.1047 - consonant_loss: 0.0972 - root_accuracy: 0.9030 - vowel_accuracy: 0.9675 - consonant_accuracy: 0.9691 - val_loss: 1.2729 - val_root_loss: 0.8441 - val_vowel_loss: 0.2260 - val_consonant_loss: 0.2018 - val_root_accuracy: 0.7624 - val_vowel_accuracy: 0.9293 - val_consonant_accuracy: 0.9361\n",
            "Epoch 6/32\n",
            "156/156 [==============================] - 249s 2s/step - loss: 0.3419 - root_loss: 0.2144 - vowel_loss: 0.0663 - consonant_loss: 0.0612 - root_accuracy: 0.9490 - vowel_accuracy: 0.9798 - consonant_accuracy: 0.9799 - val_loss: 1.2493 - val_root_loss: 0.8163 - val_vowel_loss: 0.2216 - val_consonant_loss: 0.2079 - val_root_accuracy: 0.7687 - val_vowel_accuracy: 0.9323 - val_consonant_accuracy: 0.9380\n",
            "Epoch 7/32\n",
            "156/156 [==============================] - 249s 2s/step - loss: 0.1848 - root_loss: 0.1132 - vowel_loss: 0.0379 - consonant_loss: 0.0337 - root_accuracy: 0.9797 - vowel_accuracy: 0.9904 - consonant_accuracy: 0.9905 - val_loss: 1.2274 - val_root_loss: 0.8018 - val_vowel_loss: 0.2138 - val_consonant_loss: 0.2089 - val_root_accuracy: 0.7766 - val_vowel_accuracy: 0.9364 - val_consonant_accuracy: 0.9408\n",
            "Epoch 8/32\n",
            "156/156 [==============================] - 249s 2s/step - loss: 0.0943 - root_loss: 0.0549 - vowel_loss: 0.0203 - consonant_loss: 0.0191 - root_accuracy: 0.9947 - vowel_accuracy: 0.9957 - consonant_accuracy: 0.9953 - val_loss: 1.2260 - val_root_loss: 0.7782 - val_vowel_loss: 0.2229 - val_consonant_loss: 0.2236 - val_root_accuracy: 0.7870 - val_vowel_accuracy: 0.9411 - val_consonant_accuracy: 0.9387\n",
            "Epoch 9/32\n",
            "156/156 [==============================] - 249s 2s/step - loss: 0.0484 - root_loss: 0.0281 - vowel_loss: 0.0108 - consonant_loss: 0.0094 - root_accuracy: 0.9990 - vowel_accuracy: 0.9984 - consonant_accuracy: 0.9983 - val_loss: 1.1765 - val_root_loss: 0.7558 - val_vowel_loss: 0.2109 - val_consonant_loss: 0.2080 - val_root_accuracy: 0.7990 - val_vowel_accuracy: 0.9423 - val_consonant_accuracy: 0.9461\n",
            "Epoch 10/32\n",
            "156/156 [==============================] - 249s 2s/step - loss: 0.0221 - root_loss: 0.0134 - vowel_loss: 0.0045 - consonant_loss: 0.0041 - root_accuracy: 1.0000 - vowel_accuracy: 0.9998 - consonant_accuracy: 0.9996 - val_loss: 1.1479 - val_root_loss: 0.7368 - val_vowel_loss: 0.2035 - val_consonant_loss: 0.2041 - val_root_accuracy: 0.8066 - val_vowel_accuracy: 0.9460 - val_consonant_accuracy: 0.9498\n",
            "Epoch 11/32\n",
            "156/156 [==============================] - 249s 2s/step - loss: 0.0107 - root_loss: 0.0070 - vowel_loss: 0.0021 - consonant_loss: 0.0016 - root_accuracy: 1.0000 - vowel_accuracy: 1.0000 - consonant_accuracy: 1.0000 - val_loss: 1.1453 - val_root_loss: 0.7246 - val_vowel_loss: 0.2100 - val_consonant_loss: 0.2079 - val_root_accuracy: 0.8115 - val_vowel_accuracy: 0.9452 - val_consonant_accuracy: 0.9500\n",
            "Epoch 12/32\n",
            "156/156 [==============================] - 249s 2s/step - loss: 0.0068 - root_loss: 0.0047 - vowel_loss: 0.0012 - consonant_loss: 9.2212e-04 - root_accuracy: 1.0000 - vowel_accuracy: 1.0000 - consonant_accuracy: 1.0000 - val_loss: 1.1655 - val_root_loss: 0.7529 - val_vowel_loss: 0.2089 - val_consonant_loss: 0.2021 - val_root_accuracy: 0.8070 - val_vowel_accuracy: 0.9464 - val_consonant_accuracy: 0.9507\n",
            "Epoch 13/32\n",
            "156/156 [==============================] - 249s 2s/step - loss: 0.0052 - root_loss: 0.0036 - vowel_loss: 9.0984e-04 - consonant_loss: 6.8045e-04 - root_accuracy: 1.0000 - vowel_accuracy: 1.0000 - consonant_accuracy: 1.0000 - val_loss: 1.1641 - val_root_loss: 0.7437 - val_vowel_loss: 0.2074 - val_consonant_loss: 0.2099 - val_root_accuracy: 0.8098 - val_vowel_accuracy: 0.9472 - val_consonant_accuracy: 0.9496\n",
            "Epoch 14/32\n",
            "156/156 [==============================] - 249s 2s/step - loss: 0.0043 - root_loss: 0.0030 - vowel_loss: 7.4045e-04 - consonant_loss: 5.7848e-04 - root_accuracy: 1.0000 - vowel_accuracy: 1.0000 - consonant_accuracy: 1.0000 - val_loss: 1.1724 - val_root_loss: 0.7414 - val_vowel_loss: 0.2170 - val_consonant_loss: 0.2120 - val_root_accuracy: 0.8124 - val_vowel_accuracy: 0.9467 - val_consonant_accuracy: 0.9503\n",
            "Epoch 15/32\n",
            "156/156 [==============================] - 249s 2s/step - loss: 0.0036 - root_loss: 0.0025 - vowel_loss: 6.1657e-04 - consonant_loss: 4.7179e-04 - root_accuracy: 1.0000 - vowel_accuracy: 1.0000 - consonant_accuracy: 1.0000 - val_loss: 1.1835 - val_root_loss: 0.7558 - val_vowel_loss: 0.2146 - val_consonant_loss: 0.2096 - val_root_accuracy: 0.8117 - val_vowel_accuracy: 0.9479 - val_consonant_accuracy: 0.9509\n",
            "Epoch 16/32\n",
            "156/156 [==============================] - 248s 2s/step - loss: 0.0030 - root_loss: 0.0021 - vowel_loss: 5.2393e-04 - consonant_loss: 3.9908e-04 - root_accuracy: 1.0000 - vowel_accuracy: 1.0000 - consonant_accuracy: 1.0000 - val_loss: 1.1905 - val_root_loss: 0.7550 - val_vowel_loss: 0.2156 - val_consonant_loss: 0.2176 - val_root_accuracy: 0.8128 - val_vowel_accuracy: 0.9470 - val_consonant_accuracy: 0.9495\n",
            "Epoch 17/32\n",
            "156/156 [==============================] - 249s 2s/step - loss: 0.0026 - root_loss: 0.0018 - vowel_loss: 4.5840e-04 - consonant_loss: 3.3279e-04 - root_accuracy: 1.0000 - vowel_accuracy: 1.0000 - consonant_accuracy: 1.0000 - val_loss: 1.2121 - val_root_loss: 0.7740 - val_vowel_loss: 0.2198 - val_consonant_loss: 0.2159 - val_root_accuracy: 0.8112 - val_vowel_accuracy: 0.9477 - val_consonant_accuracy: 0.9500\n",
            "Epoch 18/32\n",
            "156/156 [==============================] - 248s 2s/step - loss: 0.0023 - root_loss: 0.0016 - vowel_loss: 4.1146e-04 - consonant_loss: 3.0073e-04 - root_accuracy: 1.0000 - vowel_accuracy: 1.0000 - consonant_accuracy: 1.0000 - val_loss: 1.2038 - val_root_loss: 0.7588 - val_vowel_loss: 0.2179 - val_consonant_loss: 0.2243 - val_root_accuracy: 0.8133 - val_vowel_accuracy: 0.9467 - val_consonant_accuracy: 0.9506\n",
            "Epoch 19/32\n",
            "156/156 [==============================] - 249s 2s/step - loss: 0.0020 - root_loss: 0.0014 - vowel_loss: 3.4569e-04 - consonant_loss: 2.6713e-04 - root_accuracy: 1.0000 - vowel_accuracy: 1.0000 - consonant_accuracy: 1.0000 - val_loss: 1.2187 - val_root_loss: 0.7666 - val_vowel_loss: 0.2226 - val_consonant_loss: 0.2258 - val_root_accuracy: 0.8122 - val_vowel_accuracy: 0.9466 - val_consonant_accuracy: 0.9492\n",
            "Epoch 20/32\n",
            "156/156 [==============================] - 249s 2s/step - loss: 0.0018 - root_loss: 0.0012 - vowel_loss: 3.2149e-04 - consonant_loss: 2.2265e-04 - root_accuracy: 1.0000 - vowel_accuracy: 1.0000 - consonant_accuracy: 1.0000 - val_loss: 1.2400 - val_root_loss: 0.7700 - val_vowel_loss: 0.2264 - val_consonant_loss: 0.2405 - val_root_accuracy: 0.8116 - val_vowel_accuracy: 0.9457 - val_consonant_accuracy: 0.9491\n",
            "Epoch 21/32\n",
            "156/156 [==============================] - 249s 2s/step - loss: 0.0016 - root_loss: 0.0011 - vowel_loss: 2.7024e-04 - consonant_loss: 2.1249e-04 - root_accuracy: 1.0000 - vowel_accuracy: 1.0000 - consonant_accuracy: 1.0000 - val_loss: 1.2434 - val_root_loss: 0.7794 - val_vowel_loss: 0.2318 - val_consonant_loss: 0.2293 - val_root_accuracy: 0.8102 - val_vowel_accuracy: 0.9454 - val_consonant_accuracy: 0.9498\n",
            "Epoch 22/32\n",
            "156/156 [==============================] - 249s 2s/step - loss: 0.0014 - root_loss: 9.4910e-04 - vowel_loss: 2.4723e-04 - consonant_loss: 1.8208e-04 - root_accuracy: 1.0000 - vowel_accuracy: 1.0000 - consonant_accuracy: 1.0000 - val_loss: 1.2631 - val_root_loss: 0.7927 - val_vowel_loss: 0.2362 - val_consonant_loss: 0.2309 - val_root_accuracy: 0.8093 - val_vowel_accuracy: 0.9450 - val_consonant_accuracy: 0.9499\n",
            "Epoch 23/32\n",
            "156/156 [==============================] - 249s 2s/step - loss: 0.0012 - root_loss: 8.5650e-04 - vowel_loss: 2.2471e-04 - consonant_loss: 1.6623e-04 - root_accuracy: 1.0000 - vowel_accuracy: 1.0000 - consonant_accuracy: 1.0000 - val_loss: 1.2506 - val_root_loss: 0.7882 - val_vowel_loss: 0.2319 - val_consonant_loss: 0.2284 - val_root_accuracy: 0.8112 - val_vowel_accuracy: 0.9461 - val_consonant_accuracy: 0.9495\n",
            "Epoch 24/32\n",
            "156/156 [==============================] - 249s 2s/step - loss: 0.0011 - root_loss: 7.5703e-04 - vowel_loss: 1.9779e-04 - consonant_loss: 1.4548e-04 - root_accuracy: 1.0000 - vowel_accuracy: 1.0000 - consonant_accuracy: 1.0000 - val_loss: 1.2601 - val_root_loss: 0.7838 - val_vowel_loss: 0.2326 - val_consonant_loss: 0.2412 - val_root_accuracy: 0.8118 - val_vowel_accuracy: 0.9466 - val_consonant_accuracy: 0.9501\n",
            "Epoch 25/32\n",
            "156/156 [==============================] - 248s 2s/step - loss: 9.8311e-04 - root_loss: 6.7832e-04 - vowel_loss: 1.7619e-04 - consonant_loss: 1.2861e-04 - root_accuracy: 1.0000 - vowel_accuracy: 1.0000 - consonant_accuracy: 1.0000 - val_loss: 1.2653 - val_root_loss: 0.7853 - val_vowel_loss: 0.2362 - val_consonant_loss: 0.2409 - val_root_accuracy: 0.8136 - val_vowel_accuracy: 0.9457 - val_consonant_accuracy: 0.9495\n",
            "Epoch 26/32\n",
            "156/156 [==============================] - 249s 2s/step - loss: 8.7933e-04 - root_loss: 6.0343e-04 - vowel_loss: 1.5965e-04 - consonant_loss: 1.1625e-04 - root_accuracy: 1.0000 - vowel_accuracy: 1.0000 - consonant_accuracy: 1.0000 - val_loss: 1.2810 - val_root_loss: 0.8072 - val_vowel_loss: 0.2379 - val_consonant_loss: 0.2320 - val_root_accuracy: 0.8095 - val_vowel_accuracy: 0.9472 - val_consonant_accuracy: 0.9501\n",
            "Epoch 27/32\n",
            "156/156 [==============================] - 248s 2s/step - loss: 7.8751e-04 - root_loss: 5.4212e-04 - vowel_loss: 1.3908e-04 - consonant_loss: 1.0631e-04 - root_accuracy: 1.0000 - vowel_accuracy: 1.0000 - consonant_accuracy: 1.0000 - val_loss: 1.2726 - val_root_loss: 0.7869 - val_vowel_loss: 0.2374 - val_consonant_loss: 0.2444 - val_root_accuracy: 0.8137 - val_vowel_accuracy: 0.9456 - val_consonant_accuracy: 0.9503\n",
            "Epoch 28/32\n",
            "156/156 [==============================] - 249s 2s/step - loss: 7.0619e-04 - root_loss: 4.8713e-04 - vowel_loss: 1.2755e-04 - consonant_loss: 9.1502e-05 - root_accuracy: 1.0000 - vowel_accuracy: 1.0000 - consonant_accuracy: 1.0000 - val_loss: 1.3043 - val_root_loss: 0.8059 - val_vowel_loss: 0.2441 - val_consonant_loss: 0.2502 - val_root_accuracy: 0.8109 - val_vowel_accuracy: 0.9456 - val_consonant_accuracy: 0.9503\n",
            "Epoch 29/32\n",
            "156/156 [==============================] - 248s 2s/step - loss: 6.5059e-04 - root_loss: 4.4744e-04 - vowel_loss: 1.1420e-04 - consonant_loss: 8.8950e-05 - root_accuracy: 1.0000 - vowel_accuracy: 1.0000 - consonant_accuracy: 1.0000 - val_loss: 1.2908 - val_root_loss: 0.8010 - val_vowel_loss: 0.2381 - val_consonant_loss: 0.2478 - val_root_accuracy: 0.8127 - val_vowel_accuracy: 0.9467 - val_consonant_accuracy: 0.9490\n",
            "Epoch 30/32\n",
            "156/156 [==============================] - 248s 2s/step - loss: 5.9154e-04 - root_loss: 4.0124e-04 - vowel_loss: 1.0967e-04 - consonant_loss: 8.0639e-05 - root_accuracy: 1.0000 - vowel_accuracy: 1.0000 - consonant_accuracy: 1.0000 - val_loss: 1.3288 - val_root_loss: 0.8296 - val_vowel_loss: 0.2497 - val_consonant_loss: 0.2455 - val_root_accuracy: 0.8109 - val_vowel_accuracy: 0.9461 - val_consonant_accuracy: 0.9498\n",
            "Epoch 31/32\n",
            "156/156 [==============================] - 249s 2s/step - loss: 5.3074e-04 - root_loss: 3.6395e-04 - vowel_loss: 9.6139e-05 - consonant_loss: 7.0644e-05 - root_accuracy: 1.0000 - vowel_accuracy: 1.0000 - consonant_accuracy: 1.0000 - val_loss: 1.3302 - val_root_loss: 0.8174 - val_vowel_loss: 0.2473 - val_consonant_loss: 0.2624 - val_root_accuracy: 0.8135 - val_vowel_accuracy: 0.9469 - val_consonant_accuracy: 0.9498\n",
            "Epoch 32/32\n",
            "156/156 [==============================] - 248s 2s/step - loss: 4.8393e-04 - root_loss: 3.3149e-04 - vowel_loss: 8.5064e-05 - consonant_loss: 6.7379e-05 - root_accuracy: 1.0000 - vowel_accuracy: 1.0000 - consonant_accuracy: 1.0000 - val_loss: 1.3245 - val_root_loss: 0.8136 - val_vowel_loss: 0.2420 - val_consonant_loss: 0.2646 - val_root_accuracy: 0.8130 - val_vowel_accuracy: 0.9464 - val_consonant_accuracy: 0.9487\n"
          ],
          "name": "stdout"
        },
        {
          "output_type": "display_data",
          "data": {
            "application/vnd.jupyter.widget-view+json": {
              "model_id": "d95470197f0542958d12bb5272731e81",
              "version_minor": 0,
              "version_major": 2
            },
            "text/plain": [
              "HBox(children=(FloatProgress(value=0.0, max=50210.0), HTML(value='')))"
            ]
          },
          "metadata": {
            "tags": []
          }
        },
        {
          "output_type": "stream",
          "text": [
            "\n",
            "Epoch 1/32\n",
            "156/156 [==============================] - 249s 2s/step - loss: 2.2204 - root_loss: 1.4598 - vowel_loss: 0.4035 - consonant_loss: 0.3570 - root_accuracy: 0.6305 - vowel_accuracy: 0.8831 - consonant_accuracy: 0.8974 - val_loss: 1.2803 - val_root_loss: 0.8548 - val_vowel_loss: 0.2303 - val_consonant_loss: 0.1974 - val_root_accuracy: 0.7517 - val_vowel_accuracy: 0.9251 - val_consonant_accuracy: 0.9374\n",
            "Epoch 2/32\n",
            "156/156 [==============================] - 248s 2s/step - loss: 0.7778 - root_loss: 0.4979 - vowel_loss: 0.1421 - consonant_loss: 0.1377 - root_accuracy: 0.8509 - vowel_accuracy: 0.9548 - consonant_accuracy: 0.9559 - val_loss: 1.0765 - val_root_loss: 0.7165 - val_vowel_loss: 0.1979 - val_consonant_loss: 0.1661 - val_root_accuracy: 0.7998 - val_vowel_accuracy: 0.9380 - val_consonant_accuracy: 0.9472\n",
            "Epoch 3/32\n",
            "156/156 [==============================] - 247s 2s/step - loss: 0.4162 - root_loss: 0.2535 - vowel_loss: 0.0816 - consonant_loss: 0.0810 - root_accuracy: 0.9258 - vowel_accuracy: 0.9744 - consonant_accuracy: 0.9738 - val_loss: 1.0210 - val_root_loss: 0.6644 - val_vowel_loss: 0.1951 - val_consonant_loss: 0.1623 - val_root_accuracy: 0.8188 - val_vowel_accuracy: 0.9434 - val_consonant_accuracy: 0.9514\n",
            "Epoch 4/32\n",
            "156/156 [==============================] - 247s 2s/step - loss: 0.2034 - root_loss: 0.1162 - vowel_loss: 0.0447 - consonant_loss: 0.0425 - root_accuracy: 0.9706 - vowel_accuracy: 0.9872 - consonant_accuracy: 0.9875 - val_loss: 1.0125 - val_root_loss: 0.6513 - val_vowel_loss: 0.1877 - val_consonant_loss: 0.1737 - val_root_accuracy: 0.8249 - val_vowel_accuracy: 0.9440 - val_consonant_accuracy: 0.9513\n",
            "Epoch 5/32\n",
            "156/156 [==============================] - 247s 2s/step - loss: 0.0887 - root_loss: 0.0497 - vowel_loss: 0.0198 - consonant_loss: 0.0192 - root_accuracy: 0.9922 - vowel_accuracy: 0.9959 - consonant_accuracy: 0.9954 - val_loss: 1.0167 - val_root_loss: 0.6363 - val_vowel_loss: 0.1990 - val_consonant_loss: 0.1830 - val_root_accuracy: 0.8361 - val_vowel_accuracy: 0.9450 - val_consonant_accuracy: 0.9523\n",
            "Epoch 6/32\n",
            "156/156 [==============================] - 247s 2s/step - loss: 0.0372 - root_loss: 0.0210 - vowel_loss: 0.0081 - consonant_loss: 0.0080 - root_accuracy: 0.9988 - vowel_accuracy: 0.9991 - consonant_accuracy: 0.9988 - val_loss: 1.0201 - val_root_loss: 0.6366 - val_vowel_loss: 0.2002 - val_consonant_loss: 0.1852 - val_root_accuracy: 0.8407 - val_vowel_accuracy: 0.9484 - val_consonant_accuracy: 0.9553\n",
            "Epoch 7/32\n",
            "156/156 [==============================] - 247s 2s/step - loss: 0.0163 - root_loss: 0.0098 - vowel_loss: 0.0036 - consonant_loss: 0.0028 - root_accuracy: 1.0000 - vowel_accuracy: 0.9999 - consonant_accuracy: 1.0000 - val_loss: 1.0196 - val_root_loss: 0.6359 - val_vowel_loss: 0.2024 - val_consonant_loss: 0.1815 - val_root_accuracy: 0.8447 - val_vowel_accuracy: 0.9520 - val_consonant_accuracy: 0.9580\n",
            "Epoch 8/32\n",
            "156/156 [==============================] - 247s 2s/step - loss: 0.0093 - root_loss: 0.0059 - vowel_loss: 0.0019 - consonant_loss: 0.0016 - root_accuracy: 1.0000 - vowel_accuracy: 1.0000 - consonant_accuracy: 1.0000 - val_loss: 1.0486 - val_root_loss: 0.6487 - val_vowel_loss: 0.2075 - val_consonant_loss: 0.1933 - val_root_accuracy: 0.8452 - val_vowel_accuracy: 0.9495 - val_consonant_accuracy: 0.9573\n",
            "Epoch 9/32\n",
            "156/156 [==============================] - 247s 2s/step - loss: 0.0067 - root_loss: 0.0043 - vowel_loss: 0.0013 - consonant_loss: 0.0010 - root_accuracy: 1.0000 - vowel_accuracy: 1.0000 - consonant_accuracy: 1.0000 - val_loss: 1.0375 - val_root_loss: 0.6422 - val_vowel_loss: 0.2056 - val_consonant_loss: 0.1907 - val_root_accuracy: 0.8467 - val_vowel_accuracy: 0.9514 - val_consonant_accuracy: 0.9586\n",
            "Epoch 10/32\n",
            "156/156 [==============================] - 246s 2s/step - loss: 0.0054 - root_loss: 0.0034 - vowel_loss: 0.0011 - consonant_loss: 8.4403e-04 - root_accuracy: 1.0000 - vowel_accuracy: 1.0000 - consonant_accuracy: 1.0000 - val_loss: 1.0546 - val_root_loss: 0.6456 - val_vowel_loss: 0.2109 - val_consonant_loss: 0.1978 - val_root_accuracy: 0.8454 - val_vowel_accuracy: 0.9529 - val_consonant_accuracy: 0.9589\n",
            "Epoch 11/32\n",
            "156/156 [==============================] - 247s 2s/step - loss: 0.0045 - root_loss: 0.0028 - vowel_loss: 8.5805e-04 - consonant_loss: 7.5776e-04 - root_accuracy: 1.0000 - vowel_accuracy: 1.0000 - consonant_accuracy: 1.0000 - val_loss: 1.0964 - val_root_loss: 0.6712 - val_vowel_loss: 0.2191 - val_consonant_loss: 0.2061 - val_root_accuracy: 0.8443 - val_vowel_accuracy: 0.9508 - val_consonant_accuracy: 0.9572\n",
            "Epoch 12/32\n",
            "156/156 [==============================] - 247s 2s/step - loss: 0.0036 - root_loss: 0.0024 - vowel_loss: 6.8212e-04 - consonant_loss: 5.9613e-04 - root_accuracy: 1.0000 - vowel_accuracy: 1.0000 - consonant_accuracy: 1.0000 - val_loss: 1.1253 - val_root_loss: 0.6897 - val_vowel_loss: 0.2250 - val_consonant_loss: 0.2099 - val_root_accuracy: 0.8416 - val_vowel_accuracy: 0.9496 - val_consonant_accuracy: 0.9567\n",
            "Epoch 13/32\n",
            "156/156 [==============================] - 248s 2s/step - loss: 0.0031 - root_loss: 0.0020 - vowel_loss: 5.8672e-04 - consonant_loss: 4.5674e-04 - root_accuracy: 1.0000 - vowel_accuracy: 1.0000 - consonant_accuracy: 1.0000 - val_loss: 1.1043 - val_root_loss: 0.6784 - val_vowel_loss: 0.2287 - val_consonant_loss: 0.1989 - val_root_accuracy: 0.8457 - val_vowel_accuracy: 0.9501 - val_consonant_accuracy: 0.9597\n",
            "Epoch 14/32\n",
            "156/156 [==============================] - 248s 2s/step - loss: 0.0026 - root_loss: 0.0017 - vowel_loss: 4.9865e-04 - consonant_loss: 4.0460e-04 - root_accuracy: 1.0000 - vowel_accuracy: 1.0000 - consonant_accuracy: 1.0000 - val_loss: 1.1064 - val_root_loss: 0.6830 - val_vowel_loss: 0.2215 - val_consonant_loss: 0.2032 - val_root_accuracy: 0.8451 - val_vowel_accuracy: 0.9519 - val_consonant_accuracy: 0.9589\n",
            "Epoch 15/32\n",
            "156/156 [==============================] - 248s 2s/step - loss: 0.0022 - root_loss: 0.0015 - vowel_loss: 4.2592e-04 - consonant_loss: 3.1707e-04 - root_accuracy: 1.0000 - vowel_accuracy: 1.0000 - consonant_accuracy: 1.0000 - val_loss: 1.1296 - val_root_loss: 0.6979 - val_vowel_loss: 0.2272 - val_consonant_loss: 0.2069 - val_root_accuracy: 0.8413 - val_vowel_accuracy: 0.9511 - val_consonant_accuracy: 0.9584\n",
            "Epoch 16/32\n",
            "156/156 [==============================] - 248s 2s/step - loss: 0.0020 - root_loss: 0.0013 - vowel_loss: 3.8371e-04 - consonant_loss: 2.8317e-04 - root_accuracy: 1.0000 - vowel_accuracy: 1.0000 - consonant_accuracy: 1.0000 - val_loss: 1.1225 - val_root_loss: 0.6849 - val_vowel_loss: 0.2242 - val_consonant_loss: 0.2136 - val_root_accuracy: 0.8437 - val_vowel_accuracy: 0.9522 - val_consonant_accuracy: 0.9580\n",
            "Epoch 17/32\n",
            "156/156 [==============================] - 248s 2s/step - loss: 0.0017 - root_loss: 0.0011 - vowel_loss: 3.1465e-04 - consonant_loss: 2.4696e-04 - root_accuracy: 1.0000 - vowel_accuracy: 1.0000 - consonant_accuracy: 1.0000 - val_loss: 1.1470 - val_root_loss: 0.6986 - val_vowel_loss: 0.2375 - val_consonant_loss: 0.2116 - val_root_accuracy: 0.8447 - val_vowel_accuracy: 0.9502 - val_consonant_accuracy: 0.9583\n",
            "Epoch 18/32\n",
            "156/156 [==============================] - 249s 2s/step - loss: 0.0017 - root_loss: 0.0011 - vowel_loss: 2.8180e-04 - consonant_loss: 2.5574e-04 - root_accuracy: 1.0000 - vowel_accuracy: 1.0000 - consonant_accuracy: 1.0000 - val_loss: 1.1745 - val_root_loss: 0.7202 - val_vowel_loss: 0.2383 - val_consonant_loss: 0.2166 - val_root_accuracy: 0.8410 - val_vowel_accuracy: 0.9504 - val_consonant_accuracy: 0.9580\n",
            "Epoch 19/32\n",
            "156/156 [==============================] - 248s 2s/step - loss: 0.0018 - root_loss: 0.0011 - vowel_loss: 3.3275e-04 - consonant_loss: 3.7697e-04 - root_accuracy: 1.0000 - vowel_accuracy: 1.0000 - consonant_accuracy: 1.0000 - val_loss: 1.2046 - val_root_loss: 0.7284 - val_vowel_loss: 0.2444 - val_consonant_loss: 0.2317 - val_root_accuracy: 0.8424 - val_vowel_accuracy: 0.9507 - val_consonant_accuracy: 0.9570\n",
            "Epoch 20/32\n",
            "156/156 [==============================] - 248s 2s/step - loss: 0.0016 - root_loss: 9.8568e-04 - vowel_loss: 2.8592e-04 - consonant_loss: 3.0624e-04 - root_accuracy: 1.0000 - vowel_accuracy: 1.0000 - consonant_accuracy: 1.0000 - val_loss: 1.2185 - val_root_loss: 0.7171 - val_vowel_loss: 0.2486 - val_consonant_loss: 0.2530 - val_root_accuracy: 0.8445 - val_vowel_accuracy: 0.9516 - val_consonant_accuracy: 0.9562\n",
            "Epoch 21/32\n",
            "156/156 [==============================] - 248s 2s/step - loss: 0.0012 - root_loss: 7.9756e-04 - vowel_loss: 2.2852e-04 - consonant_loss: 1.9537e-04 - root_accuracy: 1.0000 - vowel_accuracy: 1.0000 - consonant_accuracy: 1.0000 - val_loss: 1.1991 - val_root_loss: 0.7197 - val_vowel_loss: 0.2481 - val_consonant_loss: 0.2327 - val_root_accuracy: 0.8434 - val_vowel_accuracy: 0.9498 - val_consonant_accuracy: 0.9583\n",
            "Epoch 22/32\n",
            "156/156 [==============================] - 248s 2s/step - loss: 0.0010 - root_loss: 6.9262e-04 - vowel_loss: 1.8318e-04 - consonant_loss: 1.5561e-04 - root_accuracy: 1.0000 - vowel_accuracy: 1.0000 - consonant_accuracy: 1.0000 - val_loss: 1.2013 - val_root_loss: 0.7126 - val_vowel_loss: 0.2527 - val_consonant_loss: 0.2364 - val_root_accuracy: 0.8473 - val_vowel_accuracy: 0.9511 - val_consonant_accuracy: 0.9581\n",
            "Epoch 23/32\n",
            "156/156 [==============================] - 248s 2s/step - loss: 8.7496e-04 - root_loss: 5.8877e-04 - vowel_loss: 1.6187e-04 - consonant_loss: 1.2432e-04 - root_accuracy: 1.0000 - vowel_accuracy: 1.0000 - consonant_accuracy: 1.0000 - val_loss: 1.2016 - val_root_loss: 0.7224 - val_vowel_loss: 0.2538 - val_consonant_loss: 0.2281 - val_root_accuracy: 0.8450 - val_vowel_accuracy: 0.9514 - val_consonant_accuracy: 0.9574\n",
            "Epoch 24/32\n",
            "156/156 [==============================] - 248s 2s/step - loss: 7.8922e-04 - root_loss: 5.1744e-04 - vowel_loss: 1.4639e-04 - consonant_loss: 1.2538e-04 - root_accuracy: 1.0000 - vowel_accuracy: 1.0000 - consonant_accuracy: 1.0000 - val_loss: 1.2041 - val_root_loss: 0.7199 - val_vowel_loss: 0.2497 - val_consonant_loss: 0.2353 - val_root_accuracy: 0.8443 - val_vowel_accuracy: 0.9513 - val_consonant_accuracy: 0.9582\n",
            "Epoch 25/32\n",
            "156/156 [==============================] - 248s 2s/step - loss: 6.9071e-04 - root_loss: 4.6694e-04 - vowel_loss: 1.2928e-04 - consonant_loss: 9.4487e-05 - root_accuracy: 1.0000 - vowel_accuracy: 1.0000 - consonant_accuracy: 1.0000 - val_loss: 1.2341 - val_root_loss: 0.7338 - val_vowel_loss: 0.2616 - val_consonant_loss: 0.2384 - val_root_accuracy: 0.8443 - val_vowel_accuracy: 0.9501 - val_consonant_accuracy: 0.9580\n",
            "Epoch 26/32\n",
            "156/156 [==============================] - 248s 2s/step - loss: 6.1059e-04 - root_loss: 4.1453e-04 - vowel_loss: 1.1700e-04 - consonant_loss: 7.9058e-05 - root_accuracy: 1.0000 - vowel_accuracy: 1.0000 - consonant_accuracy: 1.0000 - val_loss: 1.2276 - val_root_loss: 0.7318 - val_vowel_loss: 0.2587 - val_consonant_loss: 0.2417 - val_root_accuracy: 0.8450 - val_vowel_accuracy: 0.9503 - val_consonant_accuracy: 0.9574\n",
            "Epoch 27/32\n",
            "156/156 [==============================] - 248s 2s/step - loss: 5.5679e-04 - root_loss: 3.8240e-04 - vowel_loss: 1.0219e-04 - consonant_loss: 7.2202e-05 - root_accuracy: 1.0000 - vowel_accuracy: 1.0000 - consonant_accuracy: 1.0000 - val_loss: 1.2343 - val_root_loss: 0.7434 - val_vowel_loss: 0.2573 - val_consonant_loss: 0.2369 - val_root_accuracy: 0.8444 - val_vowel_accuracy: 0.9520 - val_consonant_accuracy: 0.9586\n",
            "Epoch 28/32\n",
            "156/156 [==============================] - 248s 2s/step - loss: 4.9419e-04 - root_loss: 3.3074e-04 - vowel_loss: 9.4841e-05 - consonant_loss: 6.8608e-05 - root_accuracy: 1.0000 - vowel_accuracy: 1.0000 - consonant_accuracy: 1.0000 - val_loss: 1.2469 - val_root_loss: 0.7483 - val_vowel_loss: 0.2582 - val_consonant_loss: 0.2445 - val_root_accuracy: 0.8464 - val_vowel_accuracy: 0.9506 - val_consonant_accuracy: 0.9572\n",
            "Epoch 29/32\n",
            "156/156 [==============================] - 248s 2s/step - loss: 4.4591e-04 - root_loss: 3.0088e-04 - vowel_loss: 8.1900e-05 - consonant_loss: 6.3131e-05 - root_accuracy: 1.0000 - vowel_accuracy: 1.0000 - consonant_accuracy: 1.0000 - val_loss: 1.2689 - val_root_loss: 0.7556 - val_vowel_loss: 0.2652 - val_consonant_loss: 0.2508 - val_root_accuracy: 0.8423 - val_vowel_accuracy: 0.9510 - val_consonant_accuracy: 0.9575\n",
            "Epoch 30/32\n",
            "156/156 [==============================] - 248s 2s/step - loss: 4.0161e-04 - root_loss: 2.7352e-04 - vowel_loss: 7.3528e-05 - consonant_loss: 5.4563e-05 - root_accuracy: 1.0000 - vowel_accuracy: 1.0000 - consonant_accuracy: 1.0000 - val_loss: 1.2568 - val_root_loss: 0.7466 - val_vowel_loss: 0.2714 - val_consonant_loss: 0.2405 - val_root_accuracy: 0.8461 - val_vowel_accuracy: 0.9505 - val_consonant_accuracy: 0.9580\n",
            "Epoch 31/32\n",
            "156/156 [==============================] - 248s 2s/step - loss: 3.6991e-04 - root_loss: 2.5034e-04 - vowel_loss: 6.8120e-05 - consonant_loss: 5.1442e-05 - root_accuracy: 1.0000 - vowel_accuracy: 1.0000 - consonant_accuracy: 1.0000 - val_loss: 1.2868 - val_root_loss: 0.7692 - val_vowel_loss: 0.2677 - val_consonant_loss: 0.2512 - val_root_accuracy: 0.8406 - val_vowel_accuracy: 0.9510 - val_consonant_accuracy: 0.9574\n",
            "Epoch 32/32\n",
            "156/156 [==============================] - 248s 2s/step - loss: 3.3022e-04 - root_loss: 2.2113e-04 - vowel_loss: 6.2965e-05 - consonant_loss: 4.6125e-05 - root_accuracy: 1.0000 - vowel_accuracy: 1.0000 - consonant_accuracy: 1.0000 - val_loss: 1.2760 - val_root_loss: 0.7573 - val_vowel_loss: 0.2689 - val_consonant_loss: 0.2517 - val_root_accuracy: 0.8468 - val_vowel_accuracy: 0.9511 - val_consonant_accuracy: 0.9580\n"
          ],
          "name": "stdout"
        },
        {
          "output_type": "display_data",
          "data": {
            "application/vnd.jupyter.widget-view+json": {
              "model_id": "29a64a2d3fdd41cb857a5fcb57997b4c",
              "version_minor": 0,
              "version_major": 2
            },
            "text/plain": [
              "HBox(children=(FloatProgress(value=0.0, max=50210.0), HTML(value='')))"
            ]
          },
          "metadata": {
            "tags": []
          }
        },
        {
          "output_type": "stream",
          "text": [
            "\n",
            "Epoch 1/32\n",
            "156/156 [==============================] - 248s 2s/step - loss: 1.7485 - root_loss: 1.1512 - vowel_loss: 0.3202 - consonant_loss: 0.2771 - root_accuracy: 0.7139 - vowel_accuracy: 0.9100 - consonant_accuracy: 0.9227 - val_loss: 1.1647 - val_root_loss: 0.7474 - val_vowel_loss: 0.2112 - val_consonant_loss: 0.2090 - val_root_accuracy: 0.7952 - val_vowel_accuracy: 0.9431 - val_consonant_accuracy: 0.9384\n",
            "Epoch 2/32\n",
            "156/156 [==============================] - 248s 2s/step - loss: 0.5534 - root_loss: 0.3519 - vowel_loss: 0.1025 - consonant_loss: 0.0989 - root_accuracy: 0.8915 - vowel_accuracy: 0.9681 - consonant_accuracy: 0.9673 - val_loss: 0.9966 - val_root_loss: 0.6215 - val_vowel_loss: 0.1816 - val_consonant_loss: 0.1907 - val_root_accuracy: 0.8300 - val_vowel_accuracy: 0.9493 - val_consonant_accuracy: 0.9472\n",
            "Epoch 3/32\n",
            "156/156 [==============================] - 248s 2s/step - loss: 0.2633 - root_loss: 0.1600 - vowel_loss: 0.0509 - consonant_loss: 0.0524 - root_accuracy: 0.9529 - vowel_accuracy: 0.9843 - consonant_accuracy: 0.9831 - val_loss: 0.9213 - val_root_loss: 0.5799 - val_vowel_loss: 0.1673 - val_consonant_loss: 0.1737 - val_root_accuracy: 0.8463 - val_vowel_accuracy: 0.9494 - val_consonant_accuracy: 0.9551\n",
            "Epoch 4/32\n",
            "156/156 [==============================] - 248s 2s/step - loss: 0.1120 - root_loss: 0.0655 - vowel_loss: 0.0230 - consonant_loss: 0.0235 - root_accuracy: 0.9856 - vowel_accuracy: 0.9941 - consonant_accuracy: 0.9938 - val_loss: 0.9145 - val_root_loss: 0.5752 - val_vowel_loss: 0.1634 - val_consonant_loss: 0.1755 - val_root_accuracy: 0.8522 - val_vowel_accuracy: 0.9563 - val_consonant_accuracy: 0.9546\n",
            "Epoch 5/32\n",
            "156/156 [==============================] - 248s 2s/step - loss: 0.0462 - root_loss: 0.0265 - vowel_loss: 0.0098 - consonant_loss: 0.0098 - root_accuracy: 0.9970 - vowel_accuracy: 0.9987 - consonant_accuracy: 0.9982 - val_loss: 0.9163 - val_root_loss: 0.5551 - val_vowel_loss: 0.1668 - val_consonant_loss: 0.1922 - val_root_accuracy: 0.8612 - val_vowel_accuracy: 0.9588 - val_consonant_accuracy: 0.9574\n",
            "Epoch 6/32\n",
            "156/156 [==============================] - 248s 2s/step - loss: 0.0194 - root_loss: 0.0116 - vowel_loss: 0.0040 - consonant_loss: 0.0039 - root_accuracy: 0.9998 - vowel_accuracy: 0.9998 - consonant_accuracy: 0.9997 - val_loss: 0.9543 - val_root_loss: 0.5704 - val_vowel_loss: 0.1790 - val_consonant_loss: 0.2033 - val_root_accuracy: 0.8644 - val_vowel_accuracy: 0.9589 - val_consonant_accuracy: 0.9567\n",
            "Epoch 7/32\n",
            "156/156 [==============================] - 249s 2s/step - loss: 0.0110 - root_loss: 0.0067 - vowel_loss: 0.0023 - consonant_loss: 0.0020 - root_accuracy: 1.0000 - vowel_accuracy: 1.0000 - consonant_accuracy: 1.0000 - val_loss: 0.9554 - val_root_loss: 0.5726 - val_vowel_loss: 0.1725 - val_consonant_loss: 0.2098 - val_root_accuracy: 0.8627 - val_vowel_accuracy: 0.9591 - val_consonant_accuracy: 0.9565\n",
            "Epoch 8/32\n",
            "156/156 [==============================] - 248s 2s/step - loss: 0.0076 - root_loss: 0.0047 - vowel_loss: 0.0016 - consonant_loss: 0.0013 - root_accuracy: 1.0000 - vowel_accuracy: 1.0000 - consonant_accuracy: 1.0000 - val_loss: 0.9616 - val_root_loss: 0.5758 - val_vowel_loss: 0.1766 - val_consonant_loss: 0.2085 - val_root_accuracy: 0.8646 - val_vowel_accuracy: 0.9599 - val_consonant_accuracy: 0.9577\n",
            "Epoch 9/32\n",
            "156/156 [==============================] - 249s 2s/step - loss: 0.0057 - root_loss: 0.0035 - vowel_loss: 0.0012 - consonant_loss: 9.8875e-04 - root_accuracy: 1.0000 - vowel_accuracy: 1.0000 - consonant_accuracy: 1.0000 - val_loss: 1.0176 - val_root_loss: 0.5998 - val_vowel_loss: 0.1974 - val_consonant_loss: 0.2207 - val_root_accuracy: 0.8643 - val_vowel_accuracy: 0.9588 - val_consonant_accuracy: 0.9570\n",
            "Epoch 10/32\n",
            "156/156 [==============================] - 249s 2s/step - loss: 0.0045 - root_loss: 0.0029 - vowel_loss: 8.7576e-04 - consonant_loss: 7.2991e-04 - root_accuracy: 1.0000 - vowel_accuracy: 1.0000 - consonant_accuracy: 1.0000 - val_loss: 1.0015 - val_root_loss: 0.5901 - val_vowel_loss: 0.1859 - val_consonant_loss: 0.2253 - val_root_accuracy: 0.8652 - val_vowel_accuracy: 0.9600 - val_consonant_accuracy: 0.9581\n",
            "Epoch 11/32\n",
            "156/156 [==============================] - 249s 2s/step - loss: 0.0037 - root_loss: 0.0024 - vowel_loss: 7.3630e-04 - consonant_loss: 6.0090e-04 - root_accuracy: 1.0000 - vowel_accuracy: 1.0000 - consonant_accuracy: 1.0000 - val_loss: 1.0061 - val_root_loss: 0.5950 - val_vowel_loss: 0.1836 - val_consonant_loss: 0.2266 - val_root_accuracy: 0.8635 - val_vowel_accuracy: 0.9604 - val_consonant_accuracy: 0.9573\n",
            "Epoch 12/32\n",
            "156/156 [==============================] - 249s 2s/step - loss: 0.0031 - root_loss: 0.0020 - vowel_loss: 6.2672e-04 - consonant_loss: 4.7477e-04 - root_accuracy: 1.0000 - vowel_accuracy: 1.0000 - consonant_accuracy: 1.0000 - val_loss: 1.0327 - val_root_loss: 0.6079 - val_vowel_loss: 0.1945 - val_consonant_loss: 0.2285 - val_root_accuracy: 0.8657 - val_vowel_accuracy: 0.9579 - val_consonant_accuracy: 0.9557\n",
            "Epoch 13/32\n",
            "156/156 [==============================] - 249s 2s/step - loss: 0.0026 - root_loss: 0.0017 - vowel_loss: 4.9062e-04 - consonant_loss: 3.9807e-04 - root_accuracy: 1.0000 - vowel_accuracy: 1.0000 - consonant_accuracy: 1.0000 - val_loss: 1.0337 - val_root_loss: 0.6116 - val_vowel_loss: 0.1878 - val_consonant_loss: 0.2348 - val_root_accuracy: 0.8619 - val_vowel_accuracy: 0.9601 - val_consonant_accuracy: 0.9570\n",
            "Epoch 14/32\n",
            "156/156 [==============================] - 249s 2s/step - loss: 0.0023 - root_loss: 0.0015 - vowel_loss: 4.4662e-04 - consonant_loss: 3.5180e-04 - root_accuracy: 1.0000 - vowel_accuracy: 1.0000 - consonant_accuracy: 1.0000 - val_loss: 1.0610 - val_root_loss: 0.6239 - val_vowel_loss: 0.2043 - val_consonant_loss: 0.2329 - val_root_accuracy: 0.8634 - val_vowel_accuracy: 0.9590 - val_consonant_accuracy: 0.9572\n",
            "Epoch 15/32\n",
            "156/156 [==============================] - 249s 2s/step - loss: 0.0019 - root_loss: 0.0013 - vowel_loss: 3.7583e-04 - consonant_loss: 2.8416e-04 - root_accuracy: 1.0000 - vowel_accuracy: 1.0000 - consonant_accuracy: 1.0000 - val_loss: 1.0523 - val_root_loss: 0.6179 - val_vowel_loss: 0.1943 - val_consonant_loss: 0.2387 - val_root_accuracy: 0.8648 - val_vowel_accuracy: 0.9604 - val_consonant_accuracy: 0.9567\n",
            "Epoch 16/32\n",
            "156/156 [==============================] - 249s 2s/step - loss: 0.0017 - root_loss: 0.0011 - vowel_loss: 3.3362e-04 - consonant_loss: 2.5298e-04 - root_accuracy: 1.0000 - vowel_accuracy: 1.0000 - consonant_accuracy: 1.0000 - val_loss: 1.0662 - val_root_loss: 0.6258 - val_vowel_loss: 0.1983 - val_consonant_loss: 0.2436 - val_root_accuracy: 0.8640 - val_vowel_accuracy: 0.9608 - val_consonant_accuracy: 0.9572\n",
            "Epoch 17/32\n",
            "156/156 [==============================] - 249s 2s/step - loss: 0.0015 - root_loss: 9.7110e-04 - vowel_loss: 2.9130e-04 - consonant_loss: 2.4820e-04 - root_accuracy: 1.0000 - vowel_accuracy: 1.0000 - consonant_accuracy: 1.0000 - val_loss: 1.0855 - val_root_loss: 0.6305 - val_vowel_loss: 0.2101 - val_consonant_loss: 0.2424 - val_root_accuracy: 0.8652 - val_vowel_accuracy: 0.9590 - val_consonant_accuracy: 0.9574\n",
            "Epoch 18/32\n",
            "156/156 [==============================] - 248s 2s/step - loss: 0.0014 - root_loss: 8.9627e-04 - vowel_loss: 2.5731e-04 - consonant_loss: 2.1049e-04 - root_accuracy: 1.0000 - vowel_accuracy: 1.0000 - consonant_accuracy: 1.0000 - val_loss: 1.0888 - val_root_loss: 0.6392 - val_vowel_loss: 0.2066 - val_consonant_loss: 0.2420 - val_root_accuracy: 0.8638 - val_vowel_accuracy: 0.9619 - val_consonant_accuracy: 0.9567\n",
            "Epoch 19/32\n",
            "156/156 [==============================] - 248s 2s/step - loss: 0.0012 - root_loss: 7.7835e-04 - vowel_loss: 2.2819e-04 - consonant_loss: 1.7287e-04 - root_accuracy: 1.0000 - vowel_accuracy: 1.0000 - consonant_accuracy: 1.0000 - val_loss: 1.0964 - val_root_loss: 0.6408 - val_vowel_loss: 0.2054 - val_consonant_loss: 0.2498 - val_root_accuracy: 0.8656 - val_vowel_accuracy: 0.9607 - val_consonant_accuracy: 0.9577\n",
            "Epoch 20/32\n",
            "156/156 [==============================] - 249s 2s/step - loss: 0.0010 - root_loss: 6.8937e-04 - vowel_loss: 2.0258e-04 - consonant_loss: 1.5392e-04 - root_accuracy: 1.0000 - vowel_accuracy: 1.0000 - consonant_accuracy: 1.0000 - val_loss: 1.1241 - val_root_loss: 0.6520 - val_vowel_loss: 0.2187 - val_consonant_loss: 0.2550 - val_root_accuracy: 0.8633 - val_vowel_accuracy: 0.9580 - val_consonant_accuracy: 0.9567\n",
            "Epoch 21/32\n",
            "156/156 [==============================] - 248s 2s/step - loss: 9.4109e-04 - root_loss: 6.2289e-04 - vowel_loss: 1.7976e-04 - consonant_loss: 1.3844e-04 - root_accuracy: 1.0000 - vowel_accuracy: 1.0000 - consonant_accuracy: 1.0000 - val_loss: 1.1150 - val_root_loss: 0.6458 - val_vowel_loss: 0.2089 - val_consonant_loss: 0.2593 - val_root_accuracy: 0.8649 - val_vowel_accuracy: 0.9615 - val_consonant_accuracy: 0.9563\n",
            "Epoch 22/32\n",
            "156/156 [==============================] - 249s 2s/step - loss: 8.2860e-04 - root_loss: 5.4666e-04 - vowel_loss: 1.5451e-04 - consonant_loss: 1.2744e-04 - root_accuracy: 1.0000 - vowel_accuracy: 1.0000 - consonant_accuracy: 1.0000 - val_loss: 1.1261 - val_root_loss: 0.6493 - val_vowel_loss: 0.2094 - val_consonant_loss: 0.2668 - val_root_accuracy: 0.8647 - val_vowel_accuracy: 0.9607 - val_consonant_accuracy: 0.9572\n",
            "Epoch 23/32\n",
            "156/156 [==============================] - 249s 2s/step - loss: 7.4044e-04 - root_loss: 4.9406e-04 - vowel_loss: 1.3810e-04 - consonant_loss: 1.0828e-04 - root_accuracy: 1.0000 - vowel_accuracy: 1.0000 - consonant_accuracy: 1.0000 - val_loss: 1.1179 - val_root_loss: 0.6468 - val_vowel_loss: 0.2066 - val_consonant_loss: 0.2663 - val_root_accuracy: 0.8662 - val_vowel_accuracy: 0.9600 - val_consonant_accuracy: 0.9570\n",
            "Epoch 24/32\n",
            "156/156 [==============================] - 249s 2s/step - loss: 6.8853e-04 - root_loss: 4.4691e-04 - vowel_loss: 1.3345e-04 - consonant_loss: 1.0817e-04 - root_accuracy: 1.0000 - vowel_accuracy: 1.0000 - consonant_accuracy: 1.0000 - val_loss: 1.1380 - val_root_loss: 0.6580 - val_vowel_loss: 0.2131 - val_consonant_loss: 0.2661 - val_root_accuracy: 0.8654 - val_vowel_accuracy: 0.9606 - val_consonant_accuracy: 0.9568\n",
            "Epoch 25/32\n",
            "156/156 [==============================] - 249s 2s/step - loss: 6.0279e-04 - root_loss: 3.9940e-04 - vowel_loss: 1.1423e-04 - consonant_loss: 8.9156e-05 - root_accuracy: 1.0000 - vowel_accuracy: 1.0000 - consonant_accuracy: 1.0000 - val_loss: 1.1409 - val_root_loss: 0.6575 - val_vowel_loss: 0.2177 - val_consonant_loss: 0.2655 - val_root_accuracy: 0.8671 - val_vowel_accuracy: 0.9613 - val_consonant_accuracy: 0.9575\n",
            "Epoch 26/32\n",
            "156/156 [==============================] - 248s 2s/step - loss: 5.3805e-04 - root_loss: 3.5653e-04 - vowel_loss: 1.0264e-04 - consonant_loss: 7.8886e-05 - root_accuracy: 1.0000 - vowel_accuracy: 1.0000 - consonant_accuracy: 1.0000 - val_loss: 1.1465 - val_root_loss: 0.6605 - val_vowel_loss: 0.2159 - val_consonant_loss: 0.2715 - val_root_accuracy: 0.8651 - val_vowel_accuracy: 0.9600 - val_consonant_accuracy: 0.9567\n",
            "Epoch 27/32\n",
            "156/156 [==============================] - 249s 2s/step - loss: 5.1930e-04 - root_loss: 3.3554e-04 - vowel_loss: 9.6543e-05 - consonant_loss: 8.7212e-05 - root_accuracy: 1.0000 - vowel_accuracy: 1.0000 - consonant_accuracy: 1.0000 - val_loss: 1.1718 - val_root_loss: 0.6709 - val_vowel_loss: 0.2189 - val_consonant_loss: 0.2826 - val_root_accuracy: 0.8669 - val_vowel_accuracy: 0.9611 - val_consonant_accuracy: 0.9571\n",
            "Epoch 28/32\n",
            "156/156 [==============================] - 249s 2s/step - loss: 5.3016e-04 - root_loss: 3.5102e-04 - vowel_loss: 1.0543e-04 - consonant_loss: 7.3709e-05 - root_accuracy: 1.0000 - vowel_accuracy: 1.0000 - consonant_accuracy: 1.0000 - val_loss: 1.1828 - val_root_loss: 0.6836 - val_vowel_loss: 0.2205 - val_consonant_loss: 0.2787 - val_root_accuracy: 0.8662 - val_vowel_accuracy: 0.9604 - val_consonant_accuracy: 0.9560\n",
            "Epoch 29/32\n",
            "156/156 [==============================] - 249s 2s/step - loss: 0.0894 - root_loss: 0.0425 - vowel_loss: 0.0170 - consonant_loss: 0.0299 - root_accuracy: 0.9877 - vowel_accuracy: 0.9949 - consonant_accuracy: 0.9926 - val_loss: 2.7882 - val_root_loss: 1.6554 - val_vowel_loss: 0.5629 - val_consonant_loss: 0.5822 - val_root_accuracy: 0.6978 - val_vowel_accuracy: 0.8994 - val_consonant_accuracy: 0.8974\n",
            "Epoch 30/32\n",
            "156/156 [==============================] - 249s 2s/step - loss: 0.7607 - root_loss: 0.4752 - vowel_loss: 0.1525 - consonant_loss: 0.1330 - root_accuracy: 0.8605 - vowel_accuracy: 0.9532 - consonant_accuracy: 0.9602 - val_loss: 1.2217 - val_root_loss: 0.7901 - val_vowel_loss: 0.2165 - val_consonant_loss: 0.2136 - val_root_accuracy: 0.8204 - val_vowel_accuracy: 0.9486 - val_consonant_accuracy: 0.9462\n",
            "Epoch 31/32\n",
            "156/156 [==============================] - 249s 2s/step - loss: 0.1587 - root_loss: 0.1009 - vowel_loss: 0.0295 - consonant_loss: 0.0282 - root_accuracy: 0.9693 - vowel_accuracy: 0.9905 - consonant_accuracy: 0.9907 - val_loss: 1.0627 - val_root_loss: 0.6773 - val_vowel_loss: 0.1857 - val_consonant_loss: 0.2006 - val_root_accuracy: 0.8424 - val_vowel_accuracy: 0.9569 - val_consonant_accuracy: 0.9548\n",
            "Epoch 32/32\n",
            "156/156 [==============================] - 249s 2s/step - loss: 0.0387 - root_loss: 0.0229 - vowel_loss: 0.0080 - consonant_loss: 0.0079 - root_accuracy: 0.9947 - vowel_accuracy: 0.9985 - consonant_accuracy: 0.9982 - val_loss: 1.1217 - val_root_loss: 0.6863 - val_vowel_loss: 0.2120 - val_consonant_loss: 0.2199 - val_root_accuracy: 0.8518 - val_vowel_accuracy: 0.9572 - val_consonant_accuracy: 0.9543\n"
          ],
          "name": "stdout"
        }
      ]
    },
    {
      "cell_type": "code",
      "metadata": {
        "id": "iK7-MixRSc9I",
        "colab_type": "code",
        "colab": {
          "base_uri": "https://localhost:8080/",
          "height": 54
        },
        "outputId": "9a5ff618-85e8-47fa-de41-044671ee65f9"
      },
      "source": [
        "print(records)"
      ],
      "execution_count": 26,
      "outputs": [
        {
          "output_type": "stream",
          "text": [
            "{'val_loss': [3.6924587054880367, 2.213628594368678, 1.527933428710591, 1.3983732004418266, 1.2728882020651355, 1.2493027337540956, 1.227435151981277, 1.2259996068878873, 1.1765023504825873, 1.1479290040620553, 1.1452581673071123, 1.1654984902347898, 1.1641220799054646, 1.1724256473669277, 1.183504460817598, 1.1904786722139162, 1.2121094431541897, 1.2037598319415481, 1.2186577094311117, 1.2400092026361595, 1.2434154970905644, 1.2630501870637965, 1.25055456360933, 1.2601004343682423, 1.2653183552924914, 1.2810269740206672, 1.272584980736926, 1.3042944885539571, 1.2908466186116971, 1.3288427185333243, 1.3302277057585405, 1.3245243643698192, 1.2802977062416039, 1.0765292356745984, 1.021042020001323, 1.0124826125475639, 1.0167204829901486, 1.0200718320524804, 1.0195507833003712, 1.0485939057883311, 1.037489837110102, 1.0545817707620562, 1.0963626183069362, 1.1252924369592825, 1.104313207133266, 1.1063640604121732, 1.1296414232092582, 1.1225024745227379, 1.147010421733936, 1.1745477236734636, 1.2046354329578906, 1.218513762682611, 1.1991088006202502, 1.201330265208702, 1.2016318409928666, 1.2040713222063388, 1.2340542098911274, 1.2276153158699936, 1.234261476240935, 1.2469272799426354, 1.2689092609897075, 1.256755596896705, 1.2868482888017938, 1.2760499931383693, 1.1647356002128022, 0.9965991537496403, 0.9213173451401803, 0.9144882987253553, 0.9162944256131618, 0.9542528119986572, 0.9554109953238512, 0.9615512057572003, 1.017595612178925, 1.0014990980561997, 1.0060772089292462, 1.03270681392052, 1.0336901376599263, 1.0610255818280583, 1.0522859287176491, 1.0661675459691382, 1.0854877926775763, 1.088780527308604, 1.0963537251419861, 1.1240575849903078, 1.115006434919824, 1.126053687325276, 1.11787562606772, 1.1379608220252542, 1.1408912184893243, 1.1464640987130708, 1.1717839563446106, 1.1828259975638102, 2.7882018670976887, 1.2216784414887025, 1.0626870948844307, 1.1217021942138672], 'val_root_loss': [2.7069153785705566, 1.5642452239990234, 1.0470449924468994, 0.9339901208877563, 0.8440966606140137, 0.8162587285041809, 0.8017734289169312, 0.7781918048858643, 0.7557654976844788, 0.7368172407150269, 0.7245522737503052, 0.7529236078262329, 0.7437208890914917, 0.7413510084152222, 0.7558062076568604, 0.7549989819526672, 0.773971676826477, 0.7588167786598206, 0.7665520906448364, 0.7699607610702515, 0.7793930172920227, 0.7927342653274536, 0.7882117629051208, 0.7837692499160767, 0.785336971282959, 0.8072354197502136, 0.7869322299957275, 0.8059151768684387, 0.8009500503540039, 0.8296399116516113, 0.8174117803573608, 0.8136473894119263, 0.854781985282898, 0.7164841890335083, 0.6644262671470642, 0.6513470411300659, 0.6363321542739868, 0.6365931630134583, 0.6359038949012756, 0.6486868858337402, 0.6421855688095093, 0.6455842852592468, 0.6711646318435669, 0.6896677017211914, 0.6784247159957886, 0.683017373085022, 0.6978832483291626, 0.6848750114440918, 0.6986252069473267, 0.7202284932136536, 0.7284374833106995, 0.7171472907066345, 0.7197389602661133, 0.7126437425613403, 0.7223604321479797, 0.7199215292930603, 0.7338001728057861, 0.731766939163208, 0.7433553338050842, 0.7483407258987427, 0.7555628418922424, 0.7465988397598267, 0.7691839933395386, 0.7572559118270874, 0.747424304485321, 0.621543824672699, 0.579879879951477, 0.5751835107803345, 0.5550990700721741, 0.5704047083854675, 0.57264244556427, 0.5757721662521362, 0.5998055934906006, 0.5900684595108032, 0.5949875116348267, 0.607940673828125, 0.6116349101066589, 0.6239014863967896, 0.6178731322288513, 0.6257612109184265, 0.6304827928543091, 0.6392207145690918, 0.6408335566520691, 0.6519514322280884, 0.645804762840271, 0.6492853164672852, 0.6467878222465515, 0.6580132246017456, 0.6574916839599609, 0.6605195999145508, 0.6708545088768005, 0.6836293935775757, 1.6553547382354736, 0.7900592088699341, 0.6773426532745361, 0.6862644553184509], 'val_vowel_loss': [0.5286508798599243, 0.3416145443916321, 0.24870124459266663, 0.2510310709476471, 0.2259739637374878, 0.2216397076845169, 0.21379141509532928, 0.2229318618774414, 0.21087130904197693, 0.20348116755485535, 0.2100415974855423, 0.20885106921195984, 0.20738768577575684, 0.21695587038993835, 0.21464094519615173, 0.21557871997356415, 0.21977126598358154, 0.2179427593946457, 0.22257915139198303, 0.22635571658611298, 0.23181219398975372, 0.23619702458381653, 0.23186159133911133, 0.2325797975063324, 0.23623928427696228, 0.23789379000663757, 0.2374240905046463, 0.24414262175559998, 0.23809285461902618, 0.2497226744890213, 0.247322678565979, 0.24196934700012207, 0.23029832541942596, 0.19794227182865143, 0.19505193829536438, 0.18774229288101196, 0.19897878170013428, 0.20019476115703583, 0.20243079960346222, 0.20747368037700653, 0.20560741424560547, 0.21085865795612335, 0.2190789431333542, 0.22499170899391174, 0.22871661186218262, 0.2214650809764862, 0.22722811996936798, 0.22420933842658997, 0.23748843371868134, 0.238336443901062, 0.24436096847057343, 0.2486063688993454, 0.24809744954109192, 0.25273221731185913, 0.2538057863712311, 0.24965770542621613, 0.2615552544593811, 0.25871357321739197, 0.2573041021823883, 0.25815248489379883, 0.2652149796485901, 0.271388441324234, 0.2677324414253235, 0.2688717246055603, 0.211207315325737, 0.181594118475914, 0.1673004925251007, 0.16337522864341736, 0.16676202416419983, 0.17901620268821716, 0.17253637313842773, 0.17655310034751892, 0.19739282131195068, 0.1858680546283722, 0.18360958993434906, 0.1944863349199295, 0.18780167400836945, 0.20434768497943878, 0.19431166350841522, 0.1982901394367218, 0.21008917689323425, 0.20658674836158752, 0.20537516474723816, 0.2187132090330124, 0.20892734825611115, 0.2093644142150879, 0.20659789443016052, 0.2131328135728836, 0.2176629602909088, 0.21585950255393982, 0.21889367699623108, 0.22046609222888947, 0.5628527402877808, 0.21648173034191132, 0.18567727506160736, 0.21201284229755402], 'val_consonant_loss': [0.45110011100769043, 0.30736058950424194, 0.22950074076652527, 0.21426694095134735, 0.20176514983177185, 0.20790839195251465, 0.20894566178321838, 0.22364720702171326, 0.20803387463092804, 0.20414474606513977, 0.20793941617012024, 0.20209857821464539, 0.20990566909313202, 0.21200065314769745, 0.2096461057662964, 0.21760568022727966, 0.21592243015766144, 0.22428497672080994, 0.2257767915725708, 0.24053974449634552, 0.2293289452791214, 0.23091021180152893, 0.22836995124816895, 0.24117355048656464, 0.24089431762695312, 0.23199236392974854, 0.24435880780220032, 0.25018492341041565, 0.24778766930103302, 0.24549981951713562, 0.2624377906322479, 0.2645542025566101, 0.1973523199558258, 0.1660785973072052, 0.16227328777313232, 0.17371371388435364, 0.18295693397521973, 0.1851947158575058, 0.18152809143066406, 0.1933218240737915, 0.19068698585033417, 0.19782347977161407, 0.20607104897499084, 0.20986971259117126, 0.198939710855484, 0.2032233476638794, 0.20687821507453918, 0.21355077624320984, 0.21162982285022736, 0.21662230789661407, 0.23173925280570984, 0.2530415654182434, 0.23265299201011658, 0.236375093460083, 0.22807884216308594, 0.2353307455778122, 0.2384110987186432, 0.24165192246437073, 0.23688530921936035, 0.24448049068450928, 0.2507779002189636, 0.24053433537483215, 0.2512072026729584, 0.2517017722129822, 0.20899900794029236, 0.190658837556839, 0.17366211116313934, 0.1755007952451706, 0.19220581650733948, 0.20330998301506042, 0.20980004966259003, 0.20845341682434082, 0.22073867917060852, 0.2253011018037796, 0.2266429215669632, 0.22845342755317688, 0.2348187416791916, 0.2329431027173996, 0.23866276443004608, 0.2435878962278366, 0.24236369132995605, 0.2419503629207611, 0.24984505772590637, 0.254957914352417, 0.2593002915382385, 0.26677459478378296, 0.26630979776382446, 0.2661011815071106, 0.26545047760009766, 0.271506130695343, 0.28263115882873535, 0.27872708439826965, 0.5821511149406433, 0.213587686419487, 0.2006394863128662, 0.21988049149513245], 'val_root_accuracy': [0.31627166271209717, 0.5771758556365967, 0.7029476165771484, 0.7317267656326294, 0.7623979449272156, 0.7686715722084045, 0.7766380906105042, 0.7869946360588074, 0.7990440130233765, 0.8066122531890869, 0.8114917278289795, 0.8070105314254761, 0.8097988367080688, 0.8123879432678223, 0.8116909265518188, 0.8127862811088562, 0.8111929893493652, 0.8132842183113098, 0.8121888041496277, 0.8115913271903992, 0.8101971745491028, 0.80930095911026, 0.8111929893493652, 0.8117904663085938, 0.8135829567909241, 0.8095000982284546, 0.8136825561523438, 0.810894250869751, 0.8126867413520813, 0.810894250869751, 0.8134833574295044, 0.8129854798316956, 0.7517426609992981, 0.7998406887054443, 0.8187612295150757, 0.824935257434845, 0.8360884189605713, 0.8406692147254944, 0.8446524739265442, 0.845150351524353, 0.8467437028884888, 0.8454490900039673, 0.8442541360855103, 0.8415654301643372, 0.8457478880882263, 0.8450508117675781, 0.8412666916847229, 0.8436566591262817, 0.8446524739265442, 0.8409679532051086, 0.842362105846405, 0.8444532752037048, 0.8433579206466675, 0.8473411798477173, 0.8449512124061584, 0.8442541360855103, 0.8442541360855103, 0.8449512124061584, 0.8443537354469299, 0.8464449048042297, 0.8422625064849854, 0.8461461663246155, 0.8405696153640747, 0.8468432426452637, 0.7951603531837463, 0.8300139307975769, 0.8463453650474548, 0.8522206544876099, 0.8611830472946167, 0.8643696308135986, 0.862676739692688, 0.864568829536438, 0.8642700910568237, 0.8651663064956665, 0.8634734153747559, 0.8656641840934753, 0.8618801236152649, 0.8633738160133362, 0.8647679686546326, 0.8639712929725647, 0.8651663064956665, 0.8637721538543701, 0.8655646443367004, 0.8632742762565613, 0.8648675680160522, 0.8646683692932129, 0.866162121295929, 0.8653654456138611, 0.8670583367347717, 0.8650667071342468, 0.8668591976165771, 0.866162121295929, 0.6977693438529968, 0.8203545212745667, 0.842362105846405, 0.8518223166465759], 'val_vowel_accuracy': [0.8243377804756165, 0.8887671828269958, 0.9192392230033875, 0.9197371006011963, 0.9292969703674316, 0.932284414768219, 0.9363672733306885, 0.9411472082138062, 0.9423421621322632, 0.9460266828536987, 0.9452300071716309, 0.9464250206947327, 0.9472216963768005, 0.9467237591743469, 0.947918713092804, 0.9470224976539612, 0.9477195739746094, 0.9467237591743469, 0.9466241598129272, 0.9457279443740845, 0.9454292058944702, 0.9450308680534363, 0.9461262822151184, 0.9466241598129272, 0.9457279443740845, 0.9472216963768005, 0.9456283450126648, 0.9456283450126648, 0.9467237591743469, 0.9461262822151184, 0.9469228982925415, 0.9464250206947327, 0.9251145124435425, 0.9379605650901794, 0.9434375762939453, 0.9440350532531738, 0.9450308680534363, 0.9484166502952576, 0.9520015716552734, 0.9495120644569397, 0.9514040946960449, 0.952897846698761, 0.9508066177368164, 0.9496116042137146, 0.9501095414161682, 0.9519020318984985, 0.9511053562164307, 0.9522007703781128, 0.9502091407775879, 0.9504082798957825, 0.9507070183753967, 0.9516032934188843, 0.949810802936554, 0.9511053562164307, 0.9514040946960449, 0.9513044953346252, 0.9501095414161682, 0.9503086805343628, 0.9520015716552734, 0.950607419013977, 0.951005756855011, 0.9505078792572021, 0.951005756855011, 0.9511053562164307, 0.943138837814331, 0.9493128657341003, 0.94941246509552, 0.9562836289405823, 0.958773136138916, 0.9588727355003357, 0.9590718746185303, 0.9598685503005981, 0.958773136138916, 0.9599681496620178, 0.9603664875030518, 0.9578769207000732, 0.9600676894187927, 0.9589723348617554, 0.9603664875030518, 0.9607647657394409, 0.9589723348617554, 0.961860179901123, 0.960665225982666, 0.9579765200614929, 0.9614618420600891, 0.960665225982666, 0.9599681496620178, 0.9605656266212463, 0.9612627029418945, 0.9599681496620178, 0.9610635042190552, 0.9603664875030518, 0.8994224071502686, 0.9486157894134521, 0.9568811058998108, 0.957179844379425], 'val_consonant_accuracy': [0.8513244390487671, 0.8944433331489563, 0.9240190982818604, 0.930691123008728, 0.9360685348510742, 0.9379605650901794, 0.9408484101295471, 0.9386576414108276, 0.9461262822151184, 0.949810802936554, 0.9500099420547485, 0.9507070183753967, 0.9496116042137146, 0.9503086805343628, 0.9509062170982361, 0.9495120644569397, 0.9500099420547485, 0.950607419013977, 0.9492133259773254, 0.9491137266159058, 0.949810802936554, 0.9499104022979736, 0.9495120644569397, 0.9501095414161682, 0.9495120644569397, 0.9501095414161682, 0.9503086805343628, 0.9503086805343628, 0.9490141272544861, 0.949810802936554, 0.949810802936554, 0.9487153887748718, 0.9373630881309509, 0.9472216963768005, 0.9514040946960449, 0.9513044953346252, 0.9523003101348877, 0.9552878141403198, 0.9579765200614929, 0.9572794437408447, 0.9585739970207214, 0.9588727355003357, 0.957179844379425, 0.9566819071769714, 0.9596694111824036, 0.9588727355003357, 0.9583747982978821, 0.9579765200614929, 0.9582752585411072, 0.9579765200614929, 0.9569807052612305, 0.9561840295791626, 0.9582752585411072, 0.9580760598182678, 0.9573789834976196, 0.9581756591796875, 0.9579765200614929, 0.9573789834976196, 0.9585739970207214, 0.957179844379425, 0.9574785828590393, 0.9579765200614929, 0.9573789834976196, 0.9579765200614929, 0.9383589029312134, 0.9472216963768005, 0.9550886154174805, 0.9545907378196716, 0.9573789834976196, 0.9566819071769714, 0.9564827680587769, 0.9576777815818787, 0.9569807052612305, 0.9580760598182678, 0.9572794437408447, 0.955686092376709, 0.9569807052612305, 0.957179844379425, 0.9566819071769714, 0.957179844379425, 0.9573789834976196, 0.9566819071769714, 0.9576777815818787, 0.9566819071769714, 0.9562836289405823, 0.957179844379425, 0.9569807052612305, 0.9567815065383911, 0.9574785828590393, 0.9566819071769714, 0.9570802450180054, 0.955984890460968, 0.8974307775497437, 0.9462258219718933, 0.9547898769378662, 0.9542919993400574], 'loss': [5.713015826848837, 2.485869202783003, 1.4087963255738705, 0.8969258254457031, 0.5699404529685079, 0.34173756185527027, 0.1847023438669011, 0.09428524952490121, 0.0483414986988279, 0.022050307573417215, 0.010688327948416634, 0.006784835456420423, 0.005214160192969908, 0.004272983343661351, 0.0035589638415901006, 0.003002187638121847, 0.0025959947183063652, 0.00227429395605765, 0.0019974727193147503, 0.0017678467875582127, 0.001552752418882994, 0.0013783272959875855, 0.0012472897030793594, 0.0011002241920052207, 0.0009830560527305462, 0.0008792704598425417, 0.0007873776572132787, 0.000705998491904293, 0.0006505627261573106, 0.0005914920581505449, 0.0005307184523837684, 0.0004838929892727449, 2.22038501730332, 0.777541498522358, 0.41587011646617505, 0.2032554047658224, 0.0886289156326719, 0.03715380375443587, 0.016245718748213702, 0.00934708402857056, 0.006648243543811219, 0.0053632144783925, 0.0044515083147644826, 0.0036457559117354043, 0.0030618149184786707, 0.002618366104675172, 0.002238107326276799, 0.0019622346843714347, 0.0017064769263141265, 0.0016508612522844574, 0.0017722969307760394, 0.0015777522419152027, 0.0012214154165217982, 0.0010312723056920057, 0.0008748541273886783, 0.0007891947161385744, 0.0006906621870032228, 0.0006105333629108504, 0.0005567546286219782, 0.0004941444305869558, 0.0004458839522637718, 0.00040159490242104633, 0.0003698809094437973, 0.0003302159774611674, 1.7485135396321614, 0.5529488364066932, 0.2631023724395972, 0.11190458040816628, 0.04611392921043269, 0.019414594735577627, 0.010983241397919577, 0.007569786088194308, 0.005688610587117488, 0.00447187968329085, 0.0037121087985475787, 0.0030888182162980165, 0.0025708916844226276, 0.002267585294436918, 0.0019164296126750662, 0.0017091774418658869, 0.0015104592638342264, 0.0013639805396512153, 0.0011793380886427184, 0.001045849421395724, 0.0009409274681816451, 0.0008285323578485758, 0.000740397936940521, 0.0006882580471150226, 0.0006027572562677816, 0.0005379266918189398, 0.0005192306199389937, 0.0005302236102274822, 0.08944512733324717, 0.7605583589261938, 0.15861678887498382, 0.03864866410904596], 'root_loss': [3.9776824, 1.796296, 0.96479064, 0.5958573, 0.36834982, 0.21443951, 0.1132293, 0.054933045, 0.02813724, 0.01342465, 0.007034705, 0.0046573663, 0.0036251403, 0.0029543822, 0.0024709913, 0.0020792894, 0.0018052972, 0.0015624749, 0.0013846307, 0.0012241374, 0.0010701116, 0.00094910176, 0.00085649715, 0.0007570287, 0.00067832123, 0.00060342904, 0.0005421213, 0.00048713482, 0.00044743807, 0.0004012353, 0.00036395487, 0.00033148742, 1.4598343, 0.49794763, 0.25354514, 0.11618113, 0.049686827, 0.02102972, 0.009829507, 0.005855419, 0.004281315, 0.0034248037, 0.0028358682, 0.0023675864, 0.0020185702, 0.0017155078, 0.0014954865, 0.001295284, 0.0011450945, 0.001113398, 0.0010624903, 0.000985677, 0.00079756323, 0.00069262023, 0.00058877235, 0.00051744236, 0.00046693697, 0.00041452763, 0.00038240323, 0.00033074146, 0.00030088314, 0.00027352228, 0.0002503437, 0.00022112935, 1.1512431, 0.35194567, 0.1600052, 0.06546172, 0.026518125, 0.011559382, 0.0066904225, 0.0046670437, 0.0035361033, 0.002866789, 0.0023752071, 0.001987527, 0.0016820314, 0.0014692309, 0.0012565294, 0.0011226736, 0.000971104, 0.0008962744, 0.00077835325, 0.00068937044, 0.0006228884, 0.00054665614, 0.00049406465, 0.00044690957, 0.0003993978, 0.00035653196, 0.00033554374, 0.00035101993, 0.042497534, 0.47521797, 0.1009329, 0.022888929], 'vowel_loss': [0.868228, 0.35775366, 0.2286372, 0.15529077, 0.1046857, 0.06628844, 0.037868157, 0.020267474, 0.010828559, 0.0045052734, 0.0020902038, 0.0012066172, 0.00090983557, 0.00074044924, 0.00061657006, 0.0005239315, 0.00045839875, 0.00041145965, 0.0003456874, 0.00032149462, 0.00027023963, 0.00024723008, 0.00022470694, 0.00019778694, 0.0001761861, 0.00015965279, 0.00013907878, 0.00012755497, 0.0001142009, 0.00010966562, 9.613918e-05, 8.5063526e-05, 0.40353423, 0.1420789, 0.081632316, 0.044698384, 0.019807998, 0.008113503, 0.0035799865, 0.0018834588, 0.0013257765, 0.001095605, 0.00085805234, 0.00068211544, 0.00058671826, 0.0004986546, 0.00042591584, 0.0003837096, 0.00031465423, 0.00028180252, 0.00033274535, 0.00028591973, 0.00022852283, 0.00018318313, 0.00016186966, 0.00014639451, 0.000129282, 0.000117000876, 0.00010218548, 9.484095e-05, 8.189986e-05, 7.352833e-05, 6.811961e-05, 6.296451e-05, 0.32016942, 0.10252215, 0.05089946, 0.02302793, 0.009815449, 0.0039761136, 0.0022795866, 0.0015810956, 0.0011644259, 0.0008757591, 0.00073630054, 0.00062672346, 0.00049062393, 0.00044662005, 0.0003758274, 0.0003336195, 0.0002912993, 0.0002573084, 0.000228187, 0.00020258092, 0.00017975704, 0.00015450561, 0.00013810117, 0.00013345384, 0.000114234164, 0.00010263534, 9.6543146e-05, 0.00010543418, 0.017030664, 0.15247537, 0.029525531, 0.007956038], 'consonant_loss': [0.8671069, 0.33247373, 0.21563117, 0.14605744, 0.09717912, 0.061195433, 0.033726614, 0.019136628, 0.009409135, 0.0041392525, 0.0015717448, 0.000922118, 0.00068045163, 0.0005784771, 0.00047179134, 0.00039908433, 0.00033279028, 0.0003007301, 0.0002671271, 0.00022265315, 0.00021249398, 0.00018208213, 0.00016623219, 0.00014547976, 0.00012860599, 0.00011624664, 0.00010630669, 9.150225e-05, 8.895004e-05, 8.063871e-05, 7.064436e-05, 6.737896e-05, 0.35701677, 0.13773456, 0.08100282, 0.04249502, 0.019235037, 0.008042354, 0.0028464047, 0.0016098273, 0.0010431341, 0.0008440311, 0.0007577582, 0.0005961308, 0.00045674457, 0.00040459709, 0.00031706845, 0.00028316744, 0.00024695633, 0.00025574068, 0.00037697042, 0.00030624276, 0.00019536537, 0.0001556062, 0.0001243173, 0.00012537854, 9.4487266e-05, 7.905771e-05, 7.220235e-05, 6.8608446e-05, 6.313107e-05, 5.4562588e-05, 5.144248e-05, 4.6125493e-05, 0.2771009, 0.098895214, 0.052404698, 0.023465175, 0.00982699, 0.003885474, 0.0020192738, 0.0013247912, 0.0009887491, 0.0007299099, 0.0006009031, 0.00047477277, 0.00039806636, 0.00035179956, 0.00028416028, 0.00025297553, 0.0002481993, 0.00021048958, 0.00017286805, 0.00015392233, 0.0001384414, 0.00012743825, 0.000108276756, 0.000108166285, 8.915601e-05, 7.888568e-05, 8.721218e-05, 7.3708805e-05, 0.029863497, 0.13300154, 0.028246121, 0.0078615695], 'root_accuracy': [0.15542367, 0.5285378, 0.73539287, 0.83661556, 0.9029866, 0.9490128, 0.9796803, 0.99466324, 0.9989727, 0.99997497, 1.0, 1.0, 1.0, 1.0, 1.0, 1.0, 1.0, 1.0, 1.0, 1.0, 1.0, 1.0, 1.0, 1.0, 1.0, 1.0, 1.0, 1.0, 1.0, 1.0, 1.0, 1.0, 0.63048375, 0.8508719, 0.92583686, 0.97056025, 0.99215776, 0.99879736, 1.0, 1.0, 1.0, 1.0, 1.0, 1.0, 1.0, 1.0, 1.0, 1.0, 1.0, 0.99997497, 1.0, 1.0, 1.0, 1.0, 1.0, 1.0, 1.0, 1.0, 1.0, 1.0, 1.0, 1.0, 1.0, 1.0, 0.7139423, 0.8914863, 0.9529465, 0.98561835, 0.9969683, 0.9997745, 0.99997497, 1.0, 1.0, 1.0, 1.0, 1.0, 1.0, 1.0, 1.0, 1.0, 1.0, 1.0, 1.0, 1.0, 1.0, 1.0, 1.0, 1.0, 1.0, 1.0, 1.0, 1.0, 0.98769796, 0.86049306, 0.9693325, 0.99471337], 'vowel_accuracy': [0.7198518, 0.88361895, 0.9273151, 0.95199436, 0.9674534, 0.9798056, 0.99035376, 0.99571556, 0.9984466, 0.9997745, 0.99997497, 1.0, 1.0, 1.0, 1.0, 1.0, 1.0, 1.0, 1.0, 1.0, 1.0, 1.0, 1.0, 1.0, 1.0, 1.0, 1.0, 1.0, 1.0, 1.0, 1.0, 1.0, 0.88311297, 0.95482564, 0.9744187, 0.98724693, 0.995916, 0.999098, 0.99992484, 1.0, 1.0, 1.0, 1.0, 1.0, 1.0, 1.0, 1.0, 1.0, 1.0, 1.0, 0.99997497, 1.0, 1.0, 1.0, 1.0, 1.0, 1.0, 1.0, 1.0, 1.0, 1.0, 1.0, 1.0, 1.0, 0.9099559, 0.9680547, 0.98434055, 0.9941121, 0.99869716, 0.99979955, 0.99997497, 1.0, 1.0, 1.0, 1.0, 1.0, 1.0, 1.0, 1.0, 1.0, 1.0, 1.0, 1.0, 1.0, 1.0, 1.0, 1.0, 1.0, 1.0, 1.0, 1.0, 1.0, 0.9949138, 0.95317197, 0.99047905, 0.9984716], 'consonant_accuracy': [0.7339994, 0.89133596, 0.9274905, 0.9523702, 0.96910703, 0.9799308, 0.9905292, 0.9952896, 0.9983213, 0.99957407, 1.0, 1.0, 1.0, 1.0, 1.0, 1.0, 1.0, 1.0, 1.0, 1.0, 1.0, 1.0, 1.0, 1.0, 1.0, 1.0, 1.0, 1.0, 1.0, 1.0, 1.0, 1.0, 0.8973608, 0.955903, 0.9737673, 0.9874724, 0.9954149, 0.9988475, 0.99997497, 1.0, 1.0, 1.0, 0.99997497, 1.0, 1.0, 1.0, 1.0, 1.0, 1.0, 1.0, 0.99997497, 1.0, 1.0, 1.0, 1.0, 1.0, 1.0, 1.0, 1.0, 1.0, 1.0, 1.0, 1.0, 1.0, 0.9227013, 0.96730304, 0.9830878, 0.99381137, 0.998196, 0.9997494, 0.99997497, 1.0, 1.0, 1.0, 1.0, 1.0, 1.0, 1.0, 1.0, 1.0, 1.0, 1.0, 1.0, 1.0, 1.0, 1.0, 1.0, 1.0, 1.0, 1.0, 1.0, 1.0, 0.9926338, 0.96021247, 0.99065447, 0.9982211], 'lr': [0.001, 0.001, 0.001, 0.001, 0.001, 0.001, 0.001, 0.001, 0.001, 0.001, 0.001, 0.001, 0.001, 0.001, 0.001, 0.001, 0.001, 0.001, 0.001, 0.001, 0.001, 0.001, 0.001, 0.001, 0.001, 0.001, 0.001, 0.001, 0.001, 0.001, 0.001, 0.001, 0.001, 0.001, 0.001, 0.001, 0.001, 0.001, 0.001, 0.001, 0.001, 0.001, 0.001, 0.001, 0.001, 0.001, 0.001, 0.001, 0.001, 0.001, 0.001, 0.001, 0.001, 0.001, 0.001, 0.001, 0.001, 0.001, 0.001, 0.001, 0.001, 0.001, 0.001, 0.001, 0.001, 0.001, 0.001, 0.001, 0.001, 0.001, 0.001, 0.001, 0.001, 0.001, 0.001, 0.001, 0.001, 0.001, 0.001, 0.001, 0.001, 0.001, 0.001, 0.001, 0.001, 0.001, 0.001, 0.001, 0.001, 0.001, 0.001, 0.001, 0.001, 0.001, 0.001, 0.001]}\n"
          ],
          "name": "stdout"
        }
      ]
    },
    {
      "cell_type": "markdown",
      "metadata": {
        "id": "-42x-5RXjFY0",
        "colab_type": "text"
      },
      "source": [
        "# **ploting graphs**"
      ]
    },
    {
      "cell_type": "code",
      "metadata": {
        "id": "_5VoIKplSd75",
        "colab_type": "code",
        "colab": {}
      },
      "source": [
        "def plot_graph(x,s='loss'):\n",
        "    fig= plt.figure(figsize=(10,10))\n",
        "    plt.plot(x['val_root_'+s])\n",
        "    plt.plot(x['val_vowel_'+s])\n",
        "    plt.plot(x['val_consonant_'+s])\n",
        "    plt.plot(x['root_'+s])\n",
        "    plt.plot(x['vowel_'+s])\n",
        "    plt.plot(x['consonant_'+s])\n",
        "    plt.title('Learning Dataset '+s)\n",
        "    plt.ylabel(s)\n",
        "    plt.xlabel('epoch')\n",
        "    if s=='accuracy':\n",
        "        plt.legend(['val_root_'+s,'val_vowel_'+s,'val_consonant_'+s,'root_'+s,'vowel_'+s,'consonant_'+s], loc='best')\n",
        "    else:\n",
        "        plt.plot(x['val_'+s])\n",
        "        plt.plot(x[s])\n",
        "        plt.legend(['val_root_'+s,'val_vowel_'+s,'val_consonant_'+s,'root_'+s,'vowel_'+s,'consonant_'+s,'val_'+s,s], loc='best')\n",
        "    plt.savefig(s+'.png', dpi=300, bbox_inches='tight')\n",
        "    plt.show()"
      ],
      "execution_count": 0,
      "outputs": []
    },
    {
      "cell_type": "code",
      "metadata": {
        "id": "o247Zaf7SgZG",
        "colab_type": "code",
        "colab": {
          "base_uri": "https://localhost:8080/",
          "height": 1000
        },
        "outputId": "398d40f4-0da4-4ba1-fc7e-67505dafe48f"
      },
      "source": [
        "plot_graph(records,'accuracy')\n",
        "plot_graph(records,'loss')"
      ],
      "execution_count": 28,
      "outputs": [
        {
          "output_type": "display_data",
          "data": {
            "image/png": "[encoded data removed]",
            "text/plain": [
              "<Figure size 720x720 with 1 Axes>"
            ]
          },
          "metadata": {
            "tags": [],
            "needs_background": "light"
          }
        },
        {
          "output_type": "display_data",
          "data": {
            "image/png": "[encoded data removed]",
            "text/plain": [
              "<Figure size 720x720 with 1 Axes>"
            ]
          },
          "metadata": {
            "tags": [],
            "needs_background": "light"
          }
        }
      ]
    },
    {
      "cell_type": "markdown",
      "metadata": {
        "id": "LCNjyZGqjJoL",
        "colab_type": "text"
      },
      "source": [
        "# **testing**"
      ]
    },
    {
      "cell_type": "code",
      "metadata": {
        "id": "eO5h-9BRSwTe",
        "colab_type": "code",
        "colab": {}
      },
      "source": [
        "preds_dict = {\n",
        "    'grapheme_root': [],\n",
        "    'vowel_diacritic': [],\n",
        "    'consonant_diacritic': []\n",
        "}"
      ],
      "execution_count": 0,
      "outputs": []
    },
    {
      "cell_type": "code",
      "metadata": {
        "id": "r1iYf6nuS0Z3",
        "colab_type": "code",
        "colab": {}
      },
      "source": [
        "temp = {\n",
        "    'grapheme_root': [],\n",
        "    'vowel_diacritic': [],\n",
        "    'consonant_diacritic': []\n",
        "}\n",
        "preds_dict = {}\n",
        "preds_dict['grapheme_root']=[]\n",
        "preds_dict['consonant_diacritic']=[]\n",
        "preds_dict['vowel_diacritic']=[]"
      ],
      "execution_count": 0,
      "outputs": []
    },
    {
      "cell_type": "code",
      "metadata": {
        "id": "pwJwh6hNTA0d",
        "colab_type": "code",
        "colab": {
          "base_uri": "https://localhost:8080/",
          "height": 66,
          "referenced_widgets": [
            "f54135faf7234933a9d52dd1a09c3ab1",
            "f9b09f62a9654aedb6ae8951cc5d186a",
            "d7c0d8b92f9b4c92a92a567f5e181b5f",
            "22cc1f1b839a4e7181fe36ad167a9124",
            "ce7aa6acca9a4a2e94ec78459bbcea08",
            "5e9c2fafdee7485ea2806d7ac3313727",
            "dfe3f1c1859c45c383fed767f857cf7a",
            "5a49f27908264632a0e0d634f6594a8e"
          ]
        },
        "outputId": "f3c47c93-d2e8-4bdb-9bcf-3cd400c952bd"
      },
      "source": [
        "y_test=pd.read_csv(PATH+'input/train.csv')\n",
        "y_test=y_test[3*50210:]\n",
        "#print(y_test)\n",
        "for i in range(3,4):\n",
        "    test_image=pd.read_parquet(PATH+'input/train_image_data_'+str(i)+'.parquet')\n",
        "    test_image.set_index('image_id',inplace=True)\n",
        "    x_test=crop_resize_image(test_image).values.reshape(-1,SIZE,SIZE,1)\n",
        "    preds = model.predict(x_test)\n",
        "    for j, p in enumerate(temp):\n",
        "        temp[p] = np.argmax(preds[j], axis=1)\n",
        "    preds_dict['grapheme_root'].extend(temp['grapheme_root'])\n",
        "    preds_dict['vowel_diacritic'].extend(temp['vowel_diacritic'])\n",
        "    preds_dict['consonant_diacritic'].extend(temp['consonant_diacritic'])\n",
        "    #print(len(preds_dict['grapheme_root']))"
      ],
      "execution_count": 38,
      "outputs": [
        {
          "output_type": "display_data",
          "data": {
            "application/vnd.jupyter.widget-view+json": {
              "model_id": "f54135faf7234933a9d52dd1a09c3ab1",
              "version_minor": 0,
              "version_major": 2
            },
            "text/plain": [
              "HBox(children=(FloatProgress(value=0.0, max=50210.0), HTML(value='')))"
            ]
          },
          "metadata": {
            "tags": []
          }
        },
        {
          "output_type": "stream",
          "text": [
            "\n"
          ],
          "name": "stdout"
        }
      ]
    },
    {
      "cell_type": "markdown",
      "metadata": {
        "id": "Jz7qxBHejUxu",
        "colab_type": "text"
      },
      "source": [
        "**testing score**"
      ]
    },
    {
      "cell_type": "code",
      "metadata": {
        "id": "SNaJ08PWTBan",
        "colab_type": "code",
        "colab": {
          "base_uri": "https://localhost:8080/",
          "height": 84
        },
        "outputId": "9462643a-0dca-4501-cf79-51cdb161b7e4"
      },
      "source": [
        "root_acc=accuracy_score(y_test['grapheme_root'].values.astype(float),preds_dict['grapheme_root'])\n",
        "vowel_acc=accuracy_score(y_test['vowel_diacritic'].values.astype(float),preds_dict['vowel_diacritic'])\n",
        "consonant_acc=accuracy_score(y_test['consonant_diacritic'].values.astype(float),preds_dict['consonant_diacritic'])\n",
        "print('Grapheme Roots accuracy: ',root_acc)\n",
        "print('Vowel Diacritic accuracy: ',vowel_acc)\n",
        "print('consonant Diacritic accuracy: ',consonant_acc)\n",
        "\n",
        "acc=[root_acc,vowel_acc,consonant_acc]\n",
        "score=np.average(acc,weights=[2,1,1])\n",
        "print('Score: ',score)"
      ],
      "execution_count": 39,
      "outputs": [
        {
          "output_type": "stream",
          "text": [
            "Grapheme Roots accuracy:  0.8522605058753236\n",
            "Vowel Diacritic accuracy:  0.9569010157339175\n",
            "consonant Diacritic accuracy:  0.9583947420832504\n",
            "Score:  0.9049541923919537\n"
          ],
          "name": "stdout"
        }
      ]
    },
    {
      "cell_type": "code",
      "metadata": {
        "id": "dlsF5YHDDJbF",
        "colab_type": "code",
        "colab": {}
      },
      "source": [
        "preds_dict = {\n",
        "    'grapheme_root': [],\n",
        "    'vowel_diacritic': [],\n",
        "    'consonant_diacritic': []\n",
        "}\n",
        "temp = {\n",
        "    'grapheme_root': [],\n",
        "    'vowel_diacritic': [],\n",
        "    'consonant_diacritic': []\n",
        "}\n",
        "preds_dict = {}\n",
        "preds_dict['grapheme_root']=[]\n",
        "preds_dict['consonant_diacritic']=[]\n",
        "preds_dict['vowel_diacritic']=[]"
      ],
      "execution_count": 0,
      "outputs": []
    },
    {
      "cell_type": "code",
      "metadata": {
        "id": "jjWm4OReBOso",
        "colab_type": "code",
        "colab": {
          "base_uri": "https://localhost:8080/",
          "height": 212,
          "referenced_widgets": [
            "0628e7ed3298425180c098ae57f4a871",
            "2ab23f1314424a5bb531156e6e2bd0d6",
            "d6c078d7cc02453eab306351cbdbe485",
            "0308ee7e1e6f4d798777ad00a529cdd6",
            "323ac177dcd84164b2ce12cb502f6496",
            "7785a1cd82874a478d634cbca7521f85",
            "da70f00949aa4d6db321b5737d586575",
            "7501395cad4a4becbcafc48514bdaa92",
            "54d048bf3324496d8076ed8e3f95e1da",
            "f54ac40c585e4030beafb85befa4f955",
            "dd0f71d6be41403980aae35d34a275f3",
            "9e04223d2bea48bb96e5e8eaeaa7e9ce",
            "263b34cbc68b4c7484a81bcd837f9bea",
            "eee3b94979094e74ad2d5f7b658f5d3a",
            "bba9f08cdb34416b901044d1709bb200",
            "9eb5b8ac4b3e49b996eb41bb51c45aa2",
            "add2163977cc46bc8151862b1b93b40d",
            "8d34bc2c0be14e0ab7ec724329c3a3cc",
            "e8a3593209454878a99ef7b0877990d6",
            "8540aa258ec34d11922bdd816fa81888",
            "a1d8fbca7a2c45349c3677301021a7cc",
            "f050384605484e0eabbe9098706d02e3",
            "07fda696dba84dfa8abc20bc84e7124e",
            "569b99a6cd8d4482ac711f005fca9347",
            "d70f895f28714dbd8d15b6e5b5e46535",
            "312903c788be4cd3bb15ce6032361e6b",
            "09022624f7204e17a74f3fd4b4393363",
            "420e20bcc3ae43398852e4214b3d015f",
            "e6397f1e91e74134a07dd79e89791a06",
            "d528eb659f1248e4ac41f75fa3c4e6c5",
            "1d82c86c22ab461daeb62381ca2581d8",
            "4b8bc9d1c6104509bb74438af79c7a87"
          ]
        },
        "outputId": "9bf1f13c-34d6-493f-dc6c-d2ccc81c8607"
      },
      "source": [
        "y_test=pd.read_csv(PATH+'input/train.csv')\n",
        "#print(y_test)\n",
        "for i in range(4):\n",
        "    test_image=pd.read_parquet(PATH+'input/train_image_data_'+str(i)+'.parquet')\n",
        "    test_image.set_index('image_id',inplace=True)\n",
        "    x_test=crop_resize_image(test_image).values.reshape(-1,SIZE,SIZE,1)\n",
        "    preds = model.predict(x_test)\n",
        "    for j, p in enumerate(temp):\n",
        "        temp[p] = np.argmax(preds[j], axis=1)\n",
        "    preds_dict['grapheme_root'].extend(temp['grapheme_root'])\n",
        "    preds_dict['vowel_diacritic'].extend(temp['vowel_diacritic'])\n",
        "    preds_dict['consonant_diacritic'].extend(temp['consonant_diacritic'])\n",
        "    #print(len(preds_dict['grapheme_root']))"
      ],
      "execution_count": 41,
      "outputs": [
        {
          "output_type": "display_data",
          "data": {
            "application/vnd.jupyter.widget-view+json": {
              "model_id": "0628e7ed3298425180c098ae57f4a871",
              "version_minor": 0,
              "version_major": 2
            },
            "text/plain": [
              "HBox(children=(FloatProgress(value=0.0, max=50210.0), HTML(value='')))"
            ]
          },
          "metadata": {
            "tags": []
          }
        },
        {
          "output_type": "stream",
          "text": [
            "\n"
          ],
          "name": "stdout"
        },
        {
          "output_type": "display_data",
          "data": {
            "application/vnd.jupyter.widget-view+json": {
              "model_id": "54d048bf3324496d8076ed8e3f95e1da",
              "version_minor": 0,
              "version_major": 2
            },
            "text/plain": [
              "HBox(children=(FloatProgress(value=0.0, max=50210.0), HTML(value='')))"
            ]
          },
          "metadata": {
            "tags": []
          }
        },
        {
          "output_type": "stream",
          "text": [
            "\n"
          ],
          "name": "stdout"
        },
        {
          "output_type": "display_data",
          "data": {
            "application/vnd.jupyter.widget-view+json": {
              "model_id": "add2163977cc46bc8151862b1b93b40d",
              "version_minor": 0,
              "version_major": 2
            },
            "text/plain": [
              "HBox(children=(FloatProgress(value=0.0, max=50210.0), HTML(value='')))"
            ]
          },
          "metadata": {
            "tags": []
          }
        },
        {
          "output_type": "stream",
          "text": [
            "\n"
          ],
          "name": "stdout"
        },
        {
          "output_type": "display_data",
          "data": {
            "application/vnd.jupyter.widget-view+json": {
              "model_id": "d70f895f28714dbd8d15b6e5b5e46535",
              "version_minor": 0,
              "version_major": 2
            },
            "text/plain": [
              "HBox(children=(FloatProgress(value=0.0, max=50210.0), HTML(value='')))"
            ]
          },
          "metadata": {
            "tags": []
          }
        },
        {
          "output_type": "stream",
          "text": [
            "\n"
          ],
          "name": "stdout"
        }
      ]
    },
    {
      "cell_type": "code",
      "metadata": {
        "id": "HwUMAhlCBSQW",
        "colab_type": "code",
        "colab": {
          "base_uri": "https://localhost:8080/",
          "height": 84
        },
        "outputId": "41921990-9353-4a01-9f96-a3e40f62857d"
      },
      "source": [
        "root_acc=accuracy_score(y_test['grapheme_root'].values.astype(float),preds_dict['grapheme_root'])\n",
        "vowel_acc=accuracy_score(y_test['vowel_diacritic'].values.astype(float),preds_dict['vowel_diacritic'])\n",
        "consonant_acc=accuracy_score(y_test['consonant_diacritic'].values.astype(float),preds_dict['consonant_diacritic'])\n",
        "print('Grapheme Roots accuracy: ',root_acc)\n",
        "print('Vowel Diacritic accuracy: ',vowel_acc)\n",
        "print('consonant Diacritic accuracy: ',consonant_acc)\n",
        "\n",
        "acc=[root_acc,vowel_acc,consonant_acc]\n",
        "score=np.average(acc,weights=[2,1,1])\n",
        "print('Score: ',score)"
      ],
      "execution_count": 42,
      "outputs": [
        {
          "output_type": "stream",
          "text": [
            "Grapheme Roots accuracy:  0.8880003983270265\n",
            "Vowel Diacritic accuracy:  0.9664509061939852\n",
            "consonant Diacritic accuracy:  0.9675363473411671\n",
            "Score:  0.9274970125473014\n"
          ],
          "name": "stdout"
        }
      ]
    },
    {
      "cell_type": "markdown",
      "metadata": {
        "id": "Eng3Zh_8jbGu",
        "colab_type": "text"
      },
      "source": [
        "# **prediction**"
      ]
    },
    {
      "cell_type": "code",
      "metadata": {
        "id": "HHnQUZwtSw29",
        "colab_type": "code",
        "colab": {
          "base_uri": "https://localhost:8080/",
          "height": 834,
          "referenced_widgets": [
            "501ce2ea26fb4e9dbd9836a19ef11902",
            "61999afb5aa74210bc7fcd55c9c98bd3",
            "d0849bb3138041f38f257d8f45ddd4d5",
            "075ddbd2d11d4846bf9f0083cac5ddab",
            "e6fb20ab3fe84f40b39f7cfb4ea17177",
            "865fe559b73240b5917db8350b81af47",
            "4af8da79a614434880fc703e78bb0183",
            "1f535be50b314a40a6cf85bd8d60e639",
            "517c0abe963d457a823700281e9a7d04",
            "d2dd3e7579784711bf1cc3cc4e1981a9",
            "878f8bbf07764e7a9046f4df2bf62f5e",
            "ec02d49dd099450689db09aeb9e553df",
            "4e25b82fc5c9433ca800205856b87ccd",
            "28bf48262941499f98bf3d32183aea82",
            "2d3aee3d35704d4ea27fdf790b92b195",
            "36b458c66ea744008e51835a24384147",
            "cc8b275d234348b485b6ed6049dcffeb",
            "436fb95ea2394612aeba0e50a5f33de0",
            "9c63c8b50a0a4c549e7e43dd6ef216f8",
            "0d8e38bbd2854efda251cacdde9efbb6",
            "d21ae044cb5048c891c2b9b3271d6b45",
            "772034fb1a364b0390a41e5b8a4e1504",
            "3fbd8800932344a99681e02c381d37e7",
            "4e70ff0ea47b47f6bddc098f06cf279c",
            "d0c23f357a0e4c6a97d2e179b580fcea",
            "eaab7d700d2744b2b615bc67dd3cdf10",
            "68cc9ce25f204a3d9472607fd253fef1",
            "c0d7404bb93b4708981892c54300d500",
            "a58ff337101441eeb2cda50f273efdd7",
            "e74b4c5f224a431cbe1290b17aa75666",
            "f00fb2d15160446b8d6b78da8bfd0b2c",
            "05203eadd5f94fcd8b61ddf5fca9084a"
          ]
        },
        "outputId": "b6918a7e-f722-4e0a-ae04-5b22ceb6c48f"
      },
      "source": [
        "row_id=[]\n",
        "target=[]\n",
        "for i in range(4):\n",
        "    test_image=pd.read_parquet(PATH+'input/test_image_data_'+str(i)+'.parquet')\n",
        "    test_image.set_index('image_id',inplace=True)\n",
        "    x_test=crop_resize_image(test_image).values.reshape(-1,SIZE,SIZE,1)\n",
        "    preds = model.predict(x_test)\n",
        "    \n",
        "    for j, p in enumerate(preds_dict):\n",
        "        preds_dict[p] = np.argmax(preds[j], axis=1)\n",
        "    \n",
        "    for k,id in enumerate(test_image.index.values):\n",
        "        row_id+=[id+'_grapheme_root',id+'_vowel_diacritic',id+'_consonant_diacritic']\n",
        "        target+=[preds_dict['grapheme_root'][k],preds_dict['vowel_diacritic'][k],preds_dict['consonant_diacritic'][k]]\n",
        "\n",
        "submission = pd.DataFrame({'row_id': row_id, 'target': target})\n",
        "submission.to_csv('submission.csv', index=False)\n",
        "print(submission)"
      ],
      "execution_count": 33,
      "outputs": [
        {
          "output_type": "display_data",
          "data": {
            "application/vnd.jupyter.widget-view+json": {
              "model_id": "501ce2ea26fb4e9dbd9836a19ef11902",
              "version_minor": 0,
              "version_major": 2
            },
            "text/plain": [
              "HBox(children=(FloatProgress(value=0.0, max=3.0), HTML(value='')))"
            ]
          },
          "metadata": {
            "tags": []
          }
        },
        {
          "output_type": "stream",
          "text": [
            "\n"
          ],
          "name": "stdout"
        },
        {
          "output_type": "display_data",
          "data": {
            "application/vnd.jupyter.widget-view+json": {
              "model_id": "517c0abe963d457a823700281e9a7d04",
              "version_minor": 0,
              "version_major": 2
            },
            "text/plain": [
              "HBox(children=(FloatProgress(value=0.0, max=3.0), HTML(value='')))"
            ]
          },
          "metadata": {
            "tags": []
          }
        },
        {
          "output_type": "stream",
          "text": [
            "\n"
          ],
          "name": "stdout"
        },
        {
          "output_type": "display_data",
          "data": {
            "application/vnd.jupyter.widget-view+json": {
              "model_id": "cc8b275d234348b485b6ed6049dcffeb",
              "version_minor": 0,
              "version_major": 2
            },
            "text/plain": [
              "HBox(children=(FloatProgress(value=0.0, max=3.0), HTML(value='')))"
            ]
          },
          "metadata": {
            "tags": []
          }
        },
        {
          "output_type": "stream",
          "text": [
            "\n"
          ],
          "name": "stdout"
        },
        {
          "output_type": "display_data",
          "data": {
            "application/vnd.jupyter.widget-view+json": {
              "model_id": "d0c23f357a0e4c6a97d2e179b580fcea",
              "version_minor": 0,
              "version_major": 2
            },
            "text/plain": [
              "HBox(children=(FloatProgress(value=0.0, max=3.0), HTML(value='')))"
            ]
          },
          "metadata": {
            "tags": []
          }
        },
        {
          "output_type": "stream",
          "text": [
            "\n",
            "                         row_id  target\n",
            "0          Test_0_grapheme_root       3\n",
            "1        Test_0_vowel_diacritic       0\n",
            "2    Test_0_consonant_diacritic       1\n",
            "3          Test_1_grapheme_root      93\n",
            "4        Test_1_vowel_diacritic       0\n",
            "5    Test_1_consonant_diacritic       2\n",
            "6          Test_2_grapheme_root      19\n",
            "7        Test_2_vowel_diacritic       0\n",
            "8    Test_2_consonant_diacritic       0\n",
            "9          Test_3_grapheme_root      30\n",
            "10       Test_3_vowel_diacritic       0\n",
            "11   Test_3_consonant_diacritic       0\n",
            "12         Test_4_grapheme_root      55\n",
            "13       Test_4_vowel_diacritic       0\n",
            "14   Test_4_consonant_diacritic       4\n",
            "15         Test_5_grapheme_root     115\n",
            "16       Test_5_vowel_diacritic       0\n",
            "17   Test_5_consonant_diacritic       2\n",
            "18         Test_6_grapheme_root     147\n",
            "19       Test_6_vowel_diacritic       5\n",
            "20   Test_6_consonant_diacritic       9\n",
            "21         Test_7_grapheme_root     137\n",
            "22       Test_7_vowel_diacritic       0\n",
            "23   Test_7_consonant_diacritic       7\n",
            "24         Test_8_grapheme_root     119\n",
            "25       Test_8_vowel_diacritic       0\n",
            "26   Test_8_consonant_diacritic       9\n",
            "27         Test_9_grapheme_root     133\n",
            "28       Test_9_vowel_diacritic       0\n",
            "29   Test_9_consonant_diacritic      10\n",
            "30        Test_10_grapheme_root     154\n",
            "31      Test_10_vowel_diacritic       0\n",
            "32  Test_10_consonant_diacritic       1\n",
            "33        Test_11_grapheme_root      21\n",
            "34      Test_11_vowel_diacritic       0\n",
            "35  Test_11_consonant_diacritic       2\n"
          ],
          "name": "stdout"
        }
      ]
    },
    {
      "cell_type": "code",
      "metadata": {
        "id": "TkNR9JGJfNGg",
        "colab_type": "code",
        "colab": {}
      },
      "source": [
        ""
      ],
      "execution_count": 0,
      "outputs": []
    }
  ]
}